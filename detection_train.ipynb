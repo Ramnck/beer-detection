{
 "cells": [
  {
   "cell_type": "code",
   "execution_count": 1,
   "id": "b8c71290",
   "metadata": {},
   "outputs": [
    {
     "name": "stdout",
     "output_type": "stream",
     "text": [
      "Defaulting to user installation because normal site-packages is not writeable\n",
      "Collecting ultralytics\n",
      "  Downloading ultralytics-8.3.112-py3-none-any.whl.metadata (37 kB)\n",
      "Requirement already satisfied: numpy<=2.1.1,>=1.23.0 in c:\\users\\roman\\appdata\\roaming\\python\\python311\\site-packages (from ultralytics) (1.26.4)\n",
      "Requirement already satisfied: matplotlib>=3.3.0 in c:\\users\\roman\\appdata\\roaming\\python\\python311\\site-packages (from ultralytics) (3.10.1)\n",
      "Requirement already satisfied: opencv-python>=4.6.0 in c:\\users\\roman\\appdata\\roaming\\python\\python311\\site-packages (from ultralytics) (4.11.0.86)\n",
      "Requirement already satisfied: pillow>=7.1.2 in c:\\users\\roman\\appdata\\roaming\\python\\python311\\site-packages (from ultralytics) (11.1.0)\n",
      "Requirement already satisfied: pyyaml>=5.3.1 in c:\\users\\roman\\appdata\\roaming\\python\\python311\\site-packages (from ultralytics) (6.0.2)\n",
      "Requirement already satisfied: requests>=2.23.0 in c:\\users\\roman\\appdata\\roaming\\python\\python311\\site-packages (from ultralytics) (2.32.3)\n",
      "Requirement already satisfied: scipy>=1.4.1 in c:\\users\\roman\\appdata\\roaming\\python\\python311\\site-packages (from ultralytics) (1.15.1)\n",
      "Requirement already satisfied: torch>=1.8.0 in c:\\users\\roman\\appdata\\roaming\\python\\python311\\site-packages (from ultralytics) (2.6.0+cu126)\n",
      "Requirement already satisfied: torchvision>=0.9.0 in c:\\users\\roman\\appdata\\roaming\\python\\python311\\site-packages (from ultralytics) (0.21.0+cu126)\n",
      "Requirement already satisfied: tqdm>=4.64.0 in c:\\users\\roman\\appdata\\roaming\\python\\python311\\site-packages (from ultralytics) (4.67.1)\n",
      "Requirement already satisfied: psutil in c:\\users\\roman\\appdata\\roaming\\python\\python311\\site-packages (from ultralytics) (7.0.0)\n",
      "Requirement already satisfied: py-cpuinfo in c:\\program files\\python311\\lib\\site-packages (from ultralytics) (9.0.0)\n",
      "Requirement already satisfied: pandas>=1.1.4 in c:\\users\\roman\\appdata\\roaming\\python\\python311\\site-packages (from ultralytics) (2.2.3)\n",
      "Collecting seaborn>=0.11.0 (from ultralytics)\n",
      "  Downloading seaborn-0.13.2-py3-none-any.whl.metadata (5.4 kB)\n",
      "Collecting ultralytics-thop>=2.0.0 (from ultralytics)\n",
      "  Downloading ultralytics_thop-2.0.14-py3-none-any.whl.metadata (9.4 kB)\n",
      "Requirement already satisfied: contourpy>=1.0.1 in c:\\users\\roman\\appdata\\roaming\\python\\python311\\site-packages (from matplotlib>=3.3.0->ultralytics) (1.3.1)\n",
      "Requirement already satisfied: cycler>=0.10 in c:\\users\\roman\\appdata\\roaming\\python\\python311\\site-packages (from matplotlib>=3.3.0->ultralytics) (0.12.1)\n",
      "Requirement already satisfied: fonttools>=4.22.0 in c:\\users\\roman\\appdata\\roaming\\python\\python311\\site-packages (from matplotlib>=3.3.0->ultralytics) (4.56.0)\n",
      "Requirement already satisfied: kiwisolver>=1.3.1 in c:\\users\\roman\\appdata\\roaming\\python\\python311\\site-packages (from matplotlib>=3.3.0->ultralytics) (1.4.8)\n",
      "Requirement already satisfied: packaging>=20.0 in c:\\users\\roman\\appdata\\roaming\\python\\python311\\site-packages (from matplotlib>=3.3.0->ultralytics) (24.2)\n",
      "Requirement already satisfied: pyparsing>=2.3.1 in c:\\users\\roman\\appdata\\roaming\\python\\python311\\site-packages (from matplotlib>=3.3.0->ultralytics) (3.2.1)\n",
      "Requirement already satisfied: python-dateutil>=2.7 in c:\\users\\roman\\appdata\\roaming\\python\\python311\\site-packages (from matplotlib>=3.3.0->ultralytics) (2.9.0.post0)\n",
      "Requirement already satisfied: pytz>=2020.1 in c:\\users\\roman\\appdata\\roaming\\python\\python311\\site-packages (from pandas>=1.1.4->ultralytics) (2025.1)\n",
      "Requirement already satisfied: tzdata>=2022.7 in c:\\users\\roman\\appdata\\roaming\\python\\python311\\site-packages (from pandas>=1.1.4->ultralytics) (2025.1)\n",
      "Requirement already satisfied: charset-normalizer<4,>=2 in c:\\users\\roman\\appdata\\roaming\\python\\python311\\site-packages (from requests>=2.23.0->ultralytics) (3.4.1)\n",
      "Requirement already satisfied: idna<4,>=2.5 in c:\\users\\roman\\appdata\\roaming\\python\\python311\\site-packages (from requests>=2.23.0->ultralytics) (3.10)\n",
      "Requirement already satisfied: urllib3<3,>=1.21.1 in c:\\users\\roman\\appdata\\roaming\\python\\python311\\site-packages (from requests>=2.23.0->ultralytics) (1.26.20)\n",
      "Requirement already satisfied: certifi>=2017.4.17 in c:\\users\\roman\\appdata\\roaming\\python\\python311\\site-packages (from requests>=2.23.0->ultralytics) (2025.1.31)\n",
      "Requirement already satisfied: filelock in c:\\program files\\python311\\lib\\site-packages (from torch>=1.8.0->ultralytics) (3.17.0)\n",
      "Requirement already satisfied: typing-extensions>=4.10.0 in c:\\users\\roman\\appdata\\roaming\\python\\python311\\site-packages (from torch>=1.8.0->ultralytics) (4.12.2)\n",
      "Requirement already satisfied: networkx in c:\\users\\roman\\appdata\\roaming\\python\\python311\\site-packages (from torch>=1.8.0->ultralytics) (3.3)\n",
      "Requirement already satisfied: jinja2 in c:\\program files\\python311\\lib\\site-packages (from torch>=1.8.0->ultralytics) (3.1.5)\n",
      "Requirement already satisfied: fsspec in c:\\users\\roman\\appdata\\roaming\\python\\python311\\site-packages (from torch>=1.8.0->ultralytics) (2023.6.0)\n",
      "Requirement already satisfied: sympy==1.13.1 in c:\\users\\roman\\appdata\\roaming\\python\\python311\\site-packages (from torch>=1.8.0->ultralytics) (1.13.1)\n",
      "Requirement already satisfied: mpmath<1.4,>=1.1.0 in c:\\users\\roman\\appdata\\roaming\\python\\python311\\site-packages (from sympy==1.13.1->torch>=1.8.0->ultralytics) (1.3.0)\n",
      "Requirement already satisfied: colorama in c:\\users\\roman\\appdata\\roaming\\python\\python311\\site-packages (from tqdm>=4.64.0->ultralytics) (0.4.6)\n",
      "Requirement already satisfied: six>=1.5 in c:\\users\\roman\\appdata\\roaming\\python\\python311\\site-packages (from python-dateutil>=2.7->matplotlib>=3.3.0->ultralytics) (1.17.0)\n",
      "Requirement already satisfied: MarkupSafe>=2.0 in c:\\users\\roman\\appdata\\roaming\\python\\python311\\site-packages (from jinja2->torch>=1.8.0->ultralytics) (2.1.5)\n",
      "Downloading ultralytics-8.3.112-py3-none-any.whl (981 kB)\n",
      "   ---------------------------------------- 0.0/981.3 kB ? eta -:--:--\n",
      "   ---------------------------------------- 981.3/981.3 kB 7.7 MB/s eta 0:00:00\n",
      "Downloading seaborn-0.13.2-py3-none-any.whl (294 kB)\n",
      "Downloading ultralytics_thop-2.0.14-py3-none-any.whl (26 kB)\n",
      "Installing collected packages: ultralytics-thop, seaborn, ultralytics\n",
      "Successfully installed seaborn-0.13.2 ultralytics-8.3.112 ultralytics-thop-2.0.14\n"
     ]
    }
   ],
   "source": [
    "!pip install ultralytics"
   ]
  },
  {
   "cell_type": "code",
   "execution_count": 1,
   "id": "8862f2f5",
   "metadata": {},
   "outputs": [],
   "source": [
    "from PIL import Image\n",
    "from pathlib import Path\n",
    "import matplotlib.pyplot as plt\n",
    "import cv2"
   ]
  },
  {
   "cell_type": "code",
   "execution_count": 2,
   "id": "bc6dfbbf",
   "metadata": {},
   "outputs": [],
   "source": [
    "ROOT_PATH = Path(r\"C:\\prog\\py\\piv\\pivo-segmentation\")\n",
    "\n",
    "DATA_PATH = ROOT_PATH / \"data\"\n",
    "MODEL_PATH = ROOT_PATH / \"models\"\n",
    "\n",
    "image_dir = DATA_PATH / 'raw_images'\n",
    "csv_dir = DATA_PATH / 'csv'\n",
    "output_dir = DATA_PATH / 'labels'"
   ]
  },
  {
   "cell_type": "code",
   "execution_count": 3,
   "id": "2c4df01a",
   "metadata": {},
   "outputs": [],
   "source": [
    "def get_image(image_path):\n",
    "    image = Image.open(image_path).convert(\"RGB\")\n",
    "    # image = np.array(image.convert(\"RGB\"))\n",
    "    return image"
   ]
  },
  {
   "cell_type": "markdown",
   "id": "bd651580",
   "metadata": {},
   "source": [
    "## Prepare my dataset"
   ]
  },
  {
   "cell_type": "code",
   "execution_count": 4,
   "id": "ccc444a9",
   "metadata": {},
   "outputs": [],
   "source": [
    "import os\n",
    "import csv\n",
    "from PIL import Image\n",
    "from pathlib import Path\n",
    "\n",
    "def convert_csv_to_yolo(image_dir, csv_dir, output_dir, class_id=0):\n",
    "    \"\"\"\n",
    "    Converts CSV annotations to YOLO format.\n",
    "\n",
    "    Parameters:\n",
    "    - image_dir: Directory containing image files.\n",
    "    - csv_dir: Directory containing CSV annotation files.\n",
    "    - output_dir: Directory to save YOLO-formatted annotation files.\n",
    "    - class_id: Class ID to assign to all annotations (default is 0).\n",
    "    \"\"\"\n",
    "    os.makedirs(output_dir, exist_ok=True)\n",
    "    image_files = list(Path(image_dir).glob(\"*.[jp][pn]g\"))  # Matches .jpg and .png files\n",
    "\n",
    "    for image_path in image_files:\n",
    "        image_name = image_path.stem\n",
    "        csv_path = Path(csv_dir) / f\"{image_name}.csv\"\n",
    "        label_path = Path(output_dir) / f\"{image_name}.txt\"\n",
    "\n",
    "        if not csv_path.exists():\n",
    "            print(f\"Warning: CSV file for {image_name} not found.\")\n",
    "            continue\n",
    "\n",
    "        with Image.open(image_path) as img:\n",
    "            img_width, img_height = img.size\n",
    "\n",
    "        with open(csv_path, 'r') as csv_file, open(label_path, 'w') as label_file:\n",
    "            next(csv_file)\n",
    "            reader = csv.reader(csv_file)\n",
    "            for row in reader:\n",
    "                if len(row) != 5:\n",
    "                    print(f\"Warning: Invalid row in {csv_path}: {row}\")\n",
    "                    continue\n",
    "                _, x, y, w, h = map(float, row)\n",
    "                x_center = (x + w / 2) / img_width\n",
    "                y_center = (y + h / 2) / img_height\n",
    "                w_norm = w / img_width\n",
    "                h_norm = h / img_height\n",
    "                label_file.write(f\"{class_id} {x_center:.6f} {y_center:.6f} {w_norm:.6f} {h_norm:.6f}\\n\")\n"
   ]
  },
  {
   "cell_type": "code",
   "execution_count": 5,
   "id": "91fc8728",
   "metadata": {},
   "outputs": [],
   "source": [
    "convert_csv_to_yolo(\n",
    "    image_dir=image_dir,\n",
    "    csv_dir=csv_dir,\n",
    "    output_dir=output_dir\n",
    ")\n"
   ]
  },
  {
   "cell_type": "code",
   "execution_count": 5,
   "id": "e34dd62a",
   "metadata": {},
   "outputs": [],
   "source": [
    "import shutil\n",
    "import random\n",
    "\n",
    "def split_dataset(images_dir, labels_dir, output_dir, train_ratio=0.8):\n",
    "    \"\"\"\n",
    "    Splits the dataset into training and validation sets.\n",
    "\n",
    "    Parameters:\n",
    "    - images_dir: Directory containing image files.\n",
    "    - labels_dir: Directory containing YOLO annotation files.\n",
    "    - output_dir: Base directory to save the split dataset.\n",
    "    - train_ratio: Proportion of the dataset to use for training.\n",
    "    \"\"\"\n",
    "    image_files = list(Path(images_dir).glob(\"*.[jp][pn]g\"))\n",
    "    random.shuffle(image_files)\n",
    "    split_index = int(len(image_files) * train_ratio)\n",
    "    train_files = image_files[:split_index]\n",
    "    val_files = image_files[split_index:]\n",
    "\n",
    "    for split, files in zip(['train', 'val'], [train_files, val_files]):\n",
    "        img_output = Path(output_dir) / 'images' / split\n",
    "        lbl_output = Path(output_dir) / 'labels' / split\n",
    "        img_output.mkdir(parents=True, exist_ok=True)\n",
    "        lbl_output.mkdir(parents=True, exist_ok=True)\n",
    "\n",
    "        for file in files:\n",
    "            shutil.copy(file, img_output / file.name)\n",
    "            label_file = Path(labels_dir) / f\"{file.stem}.txt\"\n",
    "            if label_file.exists():\n",
    "                shutil.copy(label_file, lbl_output / label_file.name)\n"
   ]
  },
  {
   "cell_type": "code",
   "execution_count": 7,
   "id": "ac464229",
   "metadata": {},
   "outputs": [],
   "source": [
    "FINAL_DATA_PATH = DATA_PATH / 'final_split' / 'train'\n",
    "\n",
    "split_dataset(\n",
    "    # images_dir = image_dir,\n",
    "    images_dir = FINAL_DATA_PATH / \"images\",\n",
    "    labels_dir = FINAL_DATA_PATH / 'labels',\n",
    "    output_dir = ROOT_PATH / \"datasets\" / 'yolo'\n",
    ")\n"
   ]
  },
  {
   "cell_type": "markdown",
   "id": "6ca27abb",
   "metadata": {},
   "source": [
    "## SFT"
   ]
  },
  {
   "cell_type": "code",
   "execution_count": 6,
   "id": "f09fcdfb",
   "metadata": {},
   "outputs": [],
   "source": [
    "from ultralytics import YOLO"
   ]
  },
  {
   "cell_type": "code",
   "execution_count": 7,
   "id": "a88ba971",
   "metadata": {},
   "outputs": [],
   "source": [
    "model = YOLO(\"yolov9m.pt\")"
   ]
  },
  {
   "cell_type": "code",
   "execution_count": 11,
   "id": "57830070",
   "metadata": {},
   "outputs": [],
   "source": [
    "def plot_yolo_detections(image, detections, class_names=None, conf_threshold=0.25):\n",
    "    \"\"\"\n",
    "    Draw YOLO detections on an image using matplotlib.\n",
    "\n",
    "    Parameters:\n",
    "    - image: numpy array (H x W x 3), e.g. result from cv2.imread()\n",
    "    - detections: a tensor or array of shape (N, 6) or (N, 5), with columns:\n",
    "        (x1, y1, x2, y2, confidence, class_id)\n",
    "    - class_names: list of class names (optional)\n",
    "    - conf_threshold: minimum confidence to show detection\n",
    "    \"\"\"\n",
    "    # Convert BGR to RGB for matplotlib\n",
    "    # img_rgb = cv2.cvtColor(image, cv2.COLOR_BGR2RGB)\n",
    "    img_rgb = image\n",
    "    fig, ax = plt.subplots(1, figsize=(12, 8))\n",
    "    ax.imshow(img_rgb)\n",
    "    \n",
    "    for det in detections:\n",
    "        if det[4] < conf_threshold:\n",
    "            continue\n",
    "        x1, y1, x2, y2, conf = det[:5]\n",
    "        class_id = int(det[5]) if len(det) == 6 else -1\n",
    "        label = f'{class_names[class_id] if class_names else class_id} {conf:.2f}'\n",
    "        \n",
    "        # Create a rectangle patch\n",
    "        rect = patches.Rectangle((x1, y1), x2 - x1, y2 - y1,\n",
    "                                 linewidth=2, edgecolor='red', facecolor='none')\n",
    "        ax.add_patch(rect)\n",
    "        ax.text(x1, y1 - 5, label, color='white', fontsize=10,\n",
    "                bbox=dict(facecolor='red', edgecolor='red', boxstyle='round,pad=0.2'))\n",
    "    \n",
    "    plt.axis('off')\n",
    "    plt.tight_layout()\n",
    "    plt.show()\n"
   ]
  },
  {
   "cell_type": "code",
   "execution_count": 8,
   "id": "cb6b2926",
   "metadata": {},
   "outputs": [],
   "source": [
    "augmentations = {\n",
    "    \"bgr\": 0.05,\n",
    "    \"perspective\" : 0.00025,\n",
    "    \"shear\": 2,\n",
    "    \"degrees\": 3.0,\n",
    "    \"augment\": True,\n",
    "}"
   ]
  },
  {
   "cell_type": "markdown",
   "id": "94bad8b6",
   "metadata": {},
   "source": [
    "train5 is depr\n",
    "train is false"
   ]
  },
  {
   "cell_type": "code",
   "execution_count": 9,
   "id": "ec65ef07",
   "metadata": {},
   "outputs": [
    {
     "name": "stdout",
     "output_type": "stream",
     "text": [
      "New https://pypi.org/project/ultralytics/8.3.159 available  Update with 'pip install -U ultralytics'\n",
      "Ultralytics 8.3.112  Python-3.11.9 torch-2.6.0+cu126 CUDA:0 (NVIDIA GeForce RTX 4070 Ti SUPER, 16375MiB)\n",
      "\u001b[34m\u001b[1mengine\\trainer: \u001b[0mtask=detect, mode=train, model=yolov9m.pt, data=dataset.yaml, epochs=75, time=None, patience=100, batch=8, imgsz=640, save=True, save_period=-1, cache=False, device=None, workers=8, project=None, name=train3, exist_ok=False, pretrained=True, optimizer=auto, verbose=True, seed=0, deterministic=True, single_cls=False, rect=False, cos_lr=False, close_mosaic=10, resume=False, amp=True, fraction=1.0, profile=False, freeze=None, multi_scale=False, overlap_mask=True, mask_ratio=4, dropout=0.1, val=True, split=val, save_json=False, conf=None, iou=0.7, max_det=300, half=False, dnn=False, plots=True, source=None, vid_stride=1, stream_buffer=False, visualize=False, augment=True, agnostic_nms=False, classes=None, retina_masks=False, embed=None, show=False, save_frames=False, save_txt=False, save_conf=False, save_crop=False, show_labels=False, show_conf=True, show_boxes=True, line_width=None, format=torchscript, keras=False, optimize=False, int8=False, dynamic=False, simplify=True, opset=None, workspace=None, nms=False, lr0=0.01, lrf=0.01, momentum=0.937, weight_decay=0.0005, warmup_epochs=3.0, warmup_momentum=0.8, warmup_bias_lr=0.1, box=7.5, cls=0.5, dfl=1.5, pose=12.0, kobj=1.0, nbs=64, hsv_h=0.015, hsv_s=0.7, hsv_v=0.4, degrees=3.0, translate=0.1, scale=0.5, shear=2, perspective=0.00025, flipud=0.0, fliplr=0.5, bgr=0.05, mosaic=1.0, mixup=0.0, copy_paste=0.0, copy_paste_mode=flip, auto_augment=randaugment, erasing=0.4, cfg=None, tracker=botsort.yaml, save_dir=runs\\detect\\train3\n",
      "Overriding model.yaml nc=80 with nc=1\n",
      "\n",
      "                   from  n    params  module                                       arguments                     \n",
      "  0                  -1  1       928  ultralytics.nn.modules.conv.Conv             [3, 32, 3, 2]                 \n",
      "  1                  -1  1     18560  ultralytics.nn.modules.conv.Conv             [32, 64, 3, 2]                \n",
      "  2                  -1  1    171648  ultralytics.nn.modules.block.RepNCSPELAN4    [64, 128, 128, 64, 1]         \n",
      "  3                  -1  1    276960  ultralytics.nn.modules.block.AConv           [128, 240]                    \n",
      "  4                  -1  1    629520  ultralytics.nn.modules.block.RepNCSPELAN4    [240, 240, 240, 120, 1]       \n",
      "  5                  -1  1    778320  ultralytics.nn.modules.block.AConv           [240, 360]                    \n",
      "  6                  -1  1   1414080  ultralytics.nn.modules.block.RepNCSPELAN4    [360, 360, 360, 180, 1]       \n",
      "  7                  -1  1   1556160  ultralytics.nn.modules.block.AConv           [360, 480]                    \n",
      "  8                  -1  1   2511840  ultralytics.nn.modules.block.RepNCSPELAN4    [480, 480, 480, 240, 1]       \n",
      "  9                  -1  1    577440  ultralytics.nn.modules.block.SPPELAN         [480, 480, 240]               \n",
      " 10                  -1  1         0  torch.nn.modules.upsampling.Upsample         [None, 2, 'nearest']          \n",
      " 11             [-1, 6]  1         0  ultralytics.nn.modules.conv.Concat           [1]                           \n",
      " 12                  -1  1   1586880  ultralytics.nn.modules.block.RepNCSPELAN4    [840, 360, 360, 180, 1]       \n",
      " 13                  -1  1         0  torch.nn.modules.upsampling.Upsample         [None, 2, 'nearest']          \n",
      " 14             [-1, 4]  1         0  ultralytics.nn.modules.conv.Concat           [1]                           \n",
      " 15                  -1  1    715920  ultralytics.nn.modules.block.RepNCSPELAN4    [600, 240, 240, 120, 1]       \n",
      " 16                  -1  1    397808  ultralytics.nn.modules.block.AConv           [240, 184]                    \n",
      " 17            [-1, 12]  1         0  ultralytics.nn.modules.conv.Concat           [1]                           \n",
      " 18                  -1  1   1480320  ultralytics.nn.modules.block.RepNCSPELAN4    [544, 360, 360, 180, 1]       \n",
      " 19                  -1  1    778080  ultralytics.nn.modules.block.AConv           [360, 240]                    \n",
      " 20             [-1, 9]  1         0  ultralytics.nn.modules.conv.Concat           [1]                           \n",
      " 21                  -1  1   2627040  ultralytics.nn.modules.block.RepNCSPELAN4    [720, 480, 480, 240, 1]       \n",
      " 22        [15, 18, 21]  1   4637539  ultralytics.nn.modules.head.Detect           [1, [240, 360, 480]]          \n",
      "YOLOv9m summary: 348 layers, 20,159,043 parameters, 20,159,027 gradients, 77.5 GFLOPs\n",
      "\n",
      "Transferred 901/907 items from pretrained weights\n",
      "Freezing layer 'model.22.dfl.conv.weight'\n",
      "\u001b[34m\u001b[1mAMP: \u001b[0mrunning Automatic Mixed Precision (AMP) checks...\n",
      "\u001b[34m\u001b[1mAMP: \u001b[0mchecks passed \n",
      "\u001b[34m\u001b[1mtrain: \u001b[0mFast image access  (ping: 0.00.0 ms, read: 1196.1849.0 MB/s, size: 99.7 KB)\n"
     ]
    },
    {
     "name": "stderr",
     "output_type": "stream",
     "text": [
      "\u001b[34m\u001b[1mtrain: \u001b[0mScanning C:\\prog\\py\\piv\\pivo-segmentation\\datasets\\yolo\\labels\\train.cache... 498 images, 0 backgrounds, 0 corrupt: 100%|██████████| 498/498 [00:00<?, ?it/s]\n"
     ]
    },
    {
     "name": "stdout",
     "output_type": "stream",
     "text": [
      "\u001b[34m\u001b[1mval: \u001b[0mFast image access  (ping: 0.10.0 ms, read: 462.3299.5 MB/s, size: 98.4 KB)\n"
     ]
    },
    {
     "name": "stderr",
     "output_type": "stream",
     "text": [
      "\u001b[34m\u001b[1mval: \u001b[0mScanning C:\\prog\\py\\piv\\pivo-segmentation\\datasets\\yolo\\labels\\val.cache... 125 images, 0 backgrounds, 0 corrupt: 100%|██████████| 125/125 [00:00<?, ?it/s]\n"
     ]
    },
    {
     "name": "stdout",
     "output_type": "stream",
     "text": [
      "Plotting labels to runs\\detect\\train3\\labels.jpg... \n",
      "\u001b[34m\u001b[1moptimizer:\u001b[0m 'optimizer=auto' found, ignoring 'lr0=0.01' and 'momentum=0.937' and determining best 'optimizer', 'lr0' and 'momentum' automatically... \n",
      "\u001b[34m\u001b[1moptimizer:\u001b[0m AdamW(lr=0.002, momentum=0.9) with parameter groups 149 weight(decay=0.0), 156 weight(decay=0.0005), 155 bias(decay=0.0)\n",
      "Image sizes 640 train, 640 val\n",
      "Using 8 dataloader workers\n",
      "Logging results to \u001b[1mruns\\detect\\train3\u001b[0m\n",
      "Starting training for 75 epochs...\n",
      "\n",
      "      Epoch    GPU_mem   box_loss   cls_loss   dfl_loss  Instances       Size\n"
     ]
    },
    {
     "name": "stderr",
     "output_type": "stream",
     "text": [
      "       1/75      7.02G      1.368      1.163      1.132        352        640: 100%|██████████| 63/63 [00:10<00:00,  6.22it/s]\n",
      "                 Class     Images  Instances      Box(P          R      mAP50  mAP50-95): 100%|██████████| 8/8 [00:01<00:00,  6.70it/s]"
     ]
    },
    {
     "name": "stdout",
     "output_type": "stream",
     "text": [
      "                   all        125      10802      0.703      0.799      0.704      0.464\n"
     ]
    },
    {
     "name": "stderr",
     "output_type": "stream",
     "text": [
      "\n"
     ]
    },
    {
     "name": "stdout",
     "output_type": "stream",
     "text": [
      "\n",
      "      Epoch    GPU_mem   box_loss   cls_loss   dfl_loss  Instances       Size\n"
     ]
    },
    {
     "name": "stderr",
     "output_type": "stream",
     "text": [
      "       2/75      7.59G      1.167     0.7915      1.032        336        640: 100%|██████████| 63/63 [00:08<00:00,  7.23it/s]\n",
      "                 Class     Images  Instances      Box(P          R      mAP50  mAP50-95): 100%|██████████| 8/8 [00:00<00:00,  8.89it/s]"
     ]
    },
    {
     "name": "stdout",
     "output_type": "stream",
     "text": [
      "                   all        125      10802      0.774      0.794      0.801      0.486\n"
     ]
    },
    {
     "name": "stderr",
     "output_type": "stream",
     "text": [
      "\n"
     ]
    },
    {
     "name": "stdout",
     "output_type": "stream",
     "text": [
      "\n",
      "      Epoch    GPU_mem   box_loss   cls_loss   dfl_loss  Instances       Size\n"
     ]
    },
    {
     "name": "stderr",
     "output_type": "stream",
     "text": [
      "       3/75      7.59G      1.259     0.8259      1.041        224        640: 100%|██████████| 63/63 [00:08<00:00,  7.55it/s]\n",
      "                 Class     Images  Instances      Box(P          R      mAP50  mAP50-95): 100%|██████████| 8/8 [00:00<00:00,  9.00it/s]"
     ]
    },
    {
     "name": "stdout",
     "output_type": "stream",
     "text": [
      "                   all        125      10802      0.682      0.789       0.72      0.436\n"
     ]
    },
    {
     "name": "stderr",
     "output_type": "stream",
     "text": [
      "\n"
     ]
    },
    {
     "name": "stdout",
     "output_type": "stream",
     "text": [
      "\n",
      "      Epoch    GPU_mem   box_loss   cls_loss   dfl_loss  Instances       Size\n"
     ]
    },
    {
     "name": "stderr",
     "output_type": "stream",
     "text": [
      "       4/75      7.67G      1.248     0.8439       1.04        166        640: 100%|██████████| 63/63 [00:08<00:00,  7.62it/s]\n",
      "                 Class     Images  Instances      Box(P          R      mAP50  mAP50-95): 100%|██████████| 8/8 [00:00<00:00,  9.20it/s]"
     ]
    },
    {
     "name": "stdout",
     "output_type": "stream",
     "text": [
      "                   all        125      10802      0.763      0.806      0.809      0.531\n"
     ]
    },
    {
     "name": "stderr",
     "output_type": "stream",
     "text": [
      "\n"
     ]
    },
    {
     "name": "stdout",
     "output_type": "stream",
     "text": [
      "\n",
      "      Epoch    GPU_mem   box_loss   cls_loss   dfl_loss  Instances       Size\n"
     ]
    },
    {
     "name": "stderr",
     "output_type": "stream",
     "text": [
      "       5/75      7.76G      1.107     0.7659     0.9958        298        640: 100%|██████████| 63/63 [00:08<00:00,  7.79it/s]\n",
      "                 Class     Images  Instances      Box(P          R      mAP50  mAP50-95): 100%|██████████| 8/8 [00:00<00:00,  9.07it/s]"
     ]
    },
    {
     "name": "stdout",
     "output_type": "stream",
     "text": [
      "                   all        125      10802      0.773      0.817       0.82      0.563\n"
     ]
    },
    {
     "name": "stderr",
     "output_type": "stream",
     "text": [
      "\n"
     ]
    },
    {
     "name": "stdout",
     "output_type": "stream",
     "text": [
      "\n",
      "      Epoch    GPU_mem   box_loss   cls_loss   dfl_loss  Instances       Size\n"
     ]
    },
    {
     "name": "stderr",
     "output_type": "stream",
     "text": [
      "       6/75      7.85G      1.128     0.7616     0.9973        392        640: 100%|██████████| 63/63 [00:08<00:00,  7.64it/s]\n",
      "                 Class     Images  Instances      Box(P          R      mAP50  mAP50-95): 100%|██████████| 8/8 [00:00<00:00,  8.94it/s]"
     ]
    },
    {
     "name": "stdout",
     "output_type": "stream",
     "text": [
      "                   all        125      10802      0.761      0.826      0.808      0.554\n"
     ]
    },
    {
     "name": "stderr",
     "output_type": "stream",
     "text": [
      "\n"
     ]
    },
    {
     "name": "stdout",
     "output_type": "stream",
     "text": [
      "\n",
      "      Epoch    GPU_mem   box_loss   cls_loss   dfl_loss  Instances       Size\n"
     ]
    },
    {
     "name": "stderr",
     "output_type": "stream",
     "text": [
      "       7/75      7.85G      1.098     0.7337     0.9972        174        640: 100%|██████████| 63/63 [00:08<00:00,  7.62it/s]\n",
      "                 Class     Images  Instances      Box(P          R      mAP50  mAP50-95): 100%|██████████| 8/8 [00:00<00:00,  8.97it/s]"
     ]
    },
    {
     "name": "stdout",
     "output_type": "stream",
     "text": [
      "                   all        125      10802       0.77      0.823      0.829      0.589\n"
     ]
    },
    {
     "name": "stderr",
     "output_type": "stream",
     "text": [
      "\n"
     ]
    },
    {
     "name": "stdout",
     "output_type": "stream",
     "text": [
      "\n",
      "      Epoch    GPU_mem   box_loss   cls_loss   dfl_loss  Instances       Size\n"
     ]
    },
    {
     "name": "stderr",
     "output_type": "stream",
     "text": [
      "       8/75      7.85G      1.082      0.721     0.9883        224        640: 100%|██████████| 63/63 [00:08<00:00,  7.39it/s]\n",
      "                 Class     Images  Instances      Box(P          R      mAP50  mAP50-95): 100%|██████████| 8/8 [00:00<00:00,  8.57it/s]"
     ]
    },
    {
     "name": "stdout",
     "output_type": "stream",
     "text": [
      "                   all        125      10802      0.775      0.814      0.822      0.561\n"
     ]
    },
    {
     "name": "stderr",
     "output_type": "stream",
     "text": [
      "\n"
     ]
    },
    {
     "name": "stdout",
     "output_type": "stream",
     "text": [
      "\n",
      "      Epoch    GPU_mem   box_loss   cls_loss   dfl_loss  Instances       Size\n"
     ]
    },
    {
     "name": "stderr",
     "output_type": "stream",
     "text": [
      "       9/75      7.85G      1.071     0.7178     0.9782        135        640: 100%|██████████| 63/63 [00:08<00:00,  7.61it/s]\n",
      "                 Class     Images  Instances      Box(P          R      mAP50  mAP50-95): 100%|██████████| 8/8 [00:00<00:00,  8.81it/s]"
     ]
    },
    {
     "name": "stdout",
     "output_type": "stream",
     "text": [
      "                   all        125      10802      0.782      0.816      0.829      0.584\n"
     ]
    },
    {
     "name": "stderr",
     "output_type": "stream",
     "text": [
      "\n"
     ]
    },
    {
     "name": "stdout",
     "output_type": "stream",
     "text": [
      "\n",
      "      Epoch    GPU_mem   box_loss   cls_loss   dfl_loss  Instances       Size\n"
     ]
    },
    {
     "name": "stderr",
     "output_type": "stream",
     "text": [
      "      10/75      7.85G      1.005     0.6996     0.9584        249        640: 100%|██████████| 63/63 [00:08<00:00,  7.61it/s]\n",
      "                 Class     Images  Instances      Box(P          R      mAP50  mAP50-95): 100%|██████████| 8/8 [00:00<00:00,  8.94it/s]"
     ]
    },
    {
     "name": "stdout",
     "output_type": "stream",
     "text": [
      "                   all        125      10802      0.785      0.832      0.842      0.615\n"
     ]
    },
    {
     "name": "stderr",
     "output_type": "stream",
     "text": [
      "\n"
     ]
    },
    {
     "name": "stdout",
     "output_type": "stream",
     "text": [
      "\n",
      "      Epoch    GPU_mem   box_loss   cls_loss   dfl_loss  Instances       Size\n"
     ]
    },
    {
     "name": "stderr",
     "output_type": "stream",
     "text": [
      "      11/75      7.85G     0.9826     0.6745     0.9579        193        640: 100%|██████████| 63/63 [00:08<00:00,  7.76it/s]\n",
      "                 Class     Images  Instances      Box(P          R      mAP50  mAP50-95): 100%|██████████| 8/8 [00:00<00:00,  9.10it/s]"
     ]
    },
    {
     "name": "stdout",
     "output_type": "stream",
     "text": [
      "                   all        125      10802      0.789      0.822      0.832      0.632\n"
     ]
    },
    {
     "name": "stderr",
     "output_type": "stream",
     "text": [
      "\n"
     ]
    },
    {
     "name": "stdout",
     "output_type": "stream",
     "text": [
      "\n",
      "      Epoch    GPU_mem   box_loss   cls_loss   dfl_loss  Instances       Size\n"
     ]
    },
    {
     "name": "stderr",
     "output_type": "stream",
     "text": [
      "      12/75      7.85G     0.9867     0.6765     0.9545        199        640: 100%|██████████| 63/63 [00:08<00:00,  7.75it/s]\n",
      "                 Class     Images  Instances      Box(P          R      mAP50  mAP50-95): 100%|██████████| 8/8 [00:00<00:00,  8.99it/s]"
     ]
    },
    {
     "name": "stdout",
     "output_type": "stream",
     "text": [
      "                   all        125      10802      0.769      0.817      0.825      0.626\n"
     ]
    },
    {
     "name": "stderr",
     "output_type": "stream",
     "text": [
      "\n"
     ]
    },
    {
     "name": "stdout",
     "output_type": "stream",
     "text": [
      "\n",
      "      Epoch    GPU_mem   box_loss   cls_loss   dfl_loss  Instances       Size\n"
     ]
    },
    {
     "name": "stderr",
     "output_type": "stream",
     "text": [
      "      13/75      7.85G     0.9739     0.6855     0.9511        407        640: 100%|██████████| 63/63 [00:08<00:00,  7.81it/s]\n",
      "                 Class     Images  Instances      Box(P          R      mAP50  mAP50-95): 100%|██████████| 8/8 [00:00<00:00,  8.99it/s]"
     ]
    },
    {
     "name": "stdout",
     "output_type": "stream",
     "text": [
      "                   all        125      10802      0.774      0.821      0.832      0.654\n"
     ]
    },
    {
     "name": "stderr",
     "output_type": "stream",
     "text": [
      "\n"
     ]
    },
    {
     "name": "stdout",
     "output_type": "stream",
     "text": [
      "\n",
      "      Epoch    GPU_mem   box_loss   cls_loss   dfl_loss  Instances       Size\n"
     ]
    },
    {
     "name": "stderr",
     "output_type": "stream",
     "text": [
      "      14/75      7.85G     0.9738     0.6906      0.955        115        640: 100%|██████████| 63/63 [00:08<00:00,  7.76it/s]\n",
      "                 Class     Images  Instances      Box(P          R      mAP50  mAP50-95): 100%|██████████| 8/8 [00:00<00:00,  9.08it/s]"
     ]
    },
    {
     "name": "stdout",
     "output_type": "stream",
     "text": [
      "                   all        125      10802      0.779      0.817      0.837      0.622\n"
     ]
    },
    {
     "name": "stderr",
     "output_type": "stream",
     "text": [
      "\n"
     ]
    },
    {
     "name": "stdout",
     "output_type": "stream",
     "text": [
      "\n",
      "      Epoch    GPU_mem   box_loss   cls_loss   dfl_loss  Instances       Size\n"
     ]
    },
    {
     "name": "stderr",
     "output_type": "stream",
     "text": [
      "      15/75      7.85G     0.9886     0.6791     0.9606        242        640: 100%|██████████| 63/63 [00:08<00:00,  7.73it/s]\n",
      "                 Class     Images  Instances      Box(P          R      mAP50  mAP50-95): 100%|██████████| 8/8 [00:00<00:00,  9.03it/s]"
     ]
    },
    {
     "name": "stdout",
     "output_type": "stream",
     "text": [
      "                   all        125      10802      0.776      0.828      0.831      0.641\n"
     ]
    },
    {
     "name": "stderr",
     "output_type": "stream",
     "text": [
      "\n"
     ]
    },
    {
     "name": "stdout",
     "output_type": "stream",
     "text": [
      "\n",
      "      Epoch    GPU_mem   box_loss   cls_loss   dfl_loss  Instances       Size\n"
     ]
    },
    {
     "name": "stderr",
     "output_type": "stream",
     "text": [
      "      16/75      7.85G     0.9503     0.6714     0.9484        164        640: 100%|██████████| 63/63 [00:08<00:00,  7.68it/s]\n",
      "                 Class     Images  Instances      Box(P          R      mAP50  mAP50-95): 100%|██████████| 8/8 [00:00<00:00,  9.05it/s]"
     ]
    },
    {
     "name": "stdout",
     "output_type": "stream",
     "text": [
      "                   all        125      10802      0.761      0.828      0.823      0.615\n"
     ]
    },
    {
     "name": "stderr",
     "output_type": "stream",
     "text": [
      "\n"
     ]
    },
    {
     "name": "stdout",
     "output_type": "stream",
     "text": [
      "\n",
      "      Epoch    GPU_mem   box_loss   cls_loss   dfl_loss  Instances       Size\n"
     ]
    },
    {
     "name": "stderr",
     "output_type": "stream",
     "text": [
      "      17/75      7.85G     0.9496     0.6712     0.9427        185        640: 100%|██████████| 63/63 [00:08<00:00,  7.80it/s]\n",
      "                 Class     Images  Instances      Box(P          R      mAP50  mAP50-95): 100%|██████████| 8/8 [00:00<00:00,  8.91it/s]"
     ]
    },
    {
     "name": "stdout",
     "output_type": "stream",
     "text": [
      "                   all        125      10802       0.79      0.831      0.838      0.614\n"
     ]
    },
    {
     "name": "stderr",
     "output_type": "stream",
     "text": [
      "\n"
     ]
    },
    {
     "name": "stdout",
     "output_type": "stream",
     "text": [
      "\n",
      "      Epoch    GPU_mem   box_loss   cls_loss   dfl_loss  Instances       Size\n"
     ]
    },
    {
     "name": "stderr",
     "output_type": "stream",
     "text": [
      "      18/75      7.85G     0.9304     0.6621      0.932        224        640: 100%|██████████| 63/63 [00:08<00:00,  7.63it/s]\n",
      "                 Class     Images  Instances      Box(P          R      mAP50  mAP50-95): 100%|██████████| 8/8 [00:00<00:00,  8.59it/s]"
     ]
    },
    {
     "name": "stdout",
     "output_type": "stream",
     "text": [
      "                   all        125      10802      0.774      0.831      0.834      0.655\n"
     ]
    },
    {
     "name": "stderr",
     "output_type": "stream",
     "text": [
      "\n"
     ]
    },
    {
     "name": "stdout",
     "output_type": "stream",
     "text": [
      "\n",
      "      Epoch    GPU_mem   box_loss   cls_loss   dfl_loss  Instances       Size\n"
     ]
    },
    {
     "name": "stderr",
     "output_type": "stream",
     "text": [
      "      19/75      8.33G     0.9296     0.6595     0.9373        180        640: 100%|██████████| 63/63 [00:08<00:00,  7.61it/s]\n",
      "                 Class     Images  Instances      Box(P          R      mAP50  mAP50-95): 100%|██████████| 8/8 [00:00<00:00,  8.87it/s]"
     ]
    },
    {
     "name": "stdout",
     "output_type": "stream",
     "text": [
      "                   all        125      10802      0.779      0.835      0.844      0.636\n"
     ]
    },
    {
     "name": "stderr",
     "output_type": "stream",
     "text": [
      "\n"
     ]
    },
    {
     "name": "stdout",
     "output_type": "stream",
     "text": [
      "\n",
      "      Epoch    GPU_mem   box_loss   cls_loss   dfl_loss  Instances       Size\n"
     ]
    },
    {
     "name": "stderr",
     "output_type": "stream",
     "text": [
      "      20/75      5.64G        0.9     0.6363     0.9253        341        640: 100%|██████████| 63/63 [00:08<00:00,  7.59it/s]\n",
      "                 Class     Images  Instances      Box(P          R      mAP50  mAP50-95): 100%|██████████| 8/8 [00:00<00:00,  8.72it/s]"
     ]
    },
    {
     "name": "stdout",
     "output_type": "stream",
     "text": [
      "                   all        125      10802      0.775       0.84      0.838      0.654\n"
     ]
    },
    {
     "name": "stderr",
     "output_type": "stream",
     "text": [
      "\n"
     ]
    },
    {
     "name": "stdout",
     "output_type": "stream",
     "text": [
      "\n",
      "      Epoch    GPU_mem   box_loss   cls_loss   dfl_loss  Instances       Size\n"
     ]
    },
    {
     "name": "stderr",
     "output_type": "stream",
     "text": [
      "      21/75      6.04G     0.9041     0.6449      0.936        180        640: 100%|██████████| 63/63 [00:08<00:00,  7.63it/s]\n",
      "                 Class     Images  Instances      Box(P          R      mAP50  mAP50-95): 100%|██████████| 8/8 [00:00<00:00,  8.99it/s]"
     ]
    },
    {
     "name": "stdout",
     "output_type": "stream",
     "text": [
      "                   all        125      10802      0.789      0.821      0.844      0.621\n"
     ]
    },
    {
     "name": "stderr",
     "output_type": "stream",
     "text": [
      "\n"
     ]
    },
    {
     "name": "stdout",
     "output_type": "stream",
     "text": [
      "\n",
      "      Epoch    GPU_mem   box_loss   cls_loss   dfl_loss  Instances       Size\n"
     ]
    },
    {
     "name": "stderr",
     "output_type": "stream",
     "text": [
      "      22/75      6.96G     0.9296     0.6511     0.9345        441        640: 100%|██████████| 63/63 [00:08<00:00,  7.71it/s]\n",
      "                 Class     Images  Instances      Box(P          R      mAP50  mAP50-95): 100%|██████████| 8/8 [00:00<00:00,  9.10it/s]"
     ]
    },
    {
     "name": "stdout",
     "output_type": "stream",
     "text": [
      "                   all        125      10802      0.784      0.824      0.841      0.643\n"
     ]
    },
    {
     "name": "stderr",
     "output_type": "stream",
     "text": [
      "\n"
     ]
    },
    {
     "name": "stdout",
     "output_type": "stream",
     "text": [
      "\n",
      "      Epoch    GPU_mem   box_loss   cls_loss   dfl_loss  Instances       Size\n"
     ]
    },
    {
     "name": "stderr",
     "output_type": "stream",
     "text": [
      "      23/75       7.5G     0.8944     0.6409     0.9348        191        640: 100%|██████████| 63/63 [00:08<00:00,  7.69it/s]\n",
      "                 Class     Images  Instances      Box(P          R      mAP50  mAP50-95): 100%|██████████| 8/8 [00:00<00:00,  9.41it/s]"
     ]
    },
    {
     "name": "stdout",
     "output_type": "stream",
     "text": [
      "                   all        125      10802      0.781      0.828      0.842      0.651\n"
     ]
    },
    {
     "name": "stderr",
     "output_type": "stream",
     "text": [
      "\n"
     ]
    },
    {
     "name": "stdout",
     "output_type": "stream",
     "text": [
      "\n",
      "      Epoch    GPU_mem   box_loss   cls_loss   dfl_loss  Instances       Size\n"
     ]
    },
    {
     "name": "stderr",
     "output_type": "stream",
     "text": [
      "      24/75       7.5G     0.8923     0.6329     0.9255        457        640: 100%|██████████| 63/63 [00:08<00:00,  7.68it/s]\n",
      "                 Class     Images  Instances      Box(P          R      mAP50  mAP50-95): 100%|██████████| 8/8 [00:00<00:00,  8.47it/s]"
     ]
    },
    {
     "name": "stdout",
     "output_type": "stream",
     "text": [
      "                   all        125      10802      0.787      0.829      0.843      0.625\n"
     ]
    },
    {
     "name": "stderr",
     "output_type": "stream",
     "text": [
      "\n"
     ]
    },
    {
     "name": "stdout",
     "output_type": "stream",
     "text": [
      "\n",
      "      Epoch    GPU_mem   box_loss   cls_loss   dfl_loss  Instances       Size\n"
     ]
    },
    {
     "name": "stderr",
     "output_type": "stream",
     "text": [
      "      25/75       7.5G     0.9022     0.6386     0.9266        117        640: 100%|██████████| 63/63 [00:08<00:00,  7.57it/s]\n",
      "                 Class     Images  Instances      Box(P          R      mAP50  mAP50-95): 100%|██████████| 8/8 [00:00<00:00,  8.98it/s]"
     ]
    },
    {
     "name": "stdout",
     "output_type": "stream",
     "text": [
      "                   all        125      10802      0.787      0.832      0.851      0.655\n"
     ]
    },
    {
     "name": "stderr",
     "output_type": "stream",
     "text": [
      "\n"
     ]
    },
    {
     "name": "stdout",
     "output_type": "stream",
     "text": [
      "\n",
      "      Epoch    GPU_mem   box_loss   cls_loss   dfl_loss  Instances       Size\n"
     ]
    },
    {
     "name": "stderr",
     "output_type": "stream",
     "text": [
      "      26/75       7.5G     0.8643     0.6263     0.9218        329        640: 100%|██████████| 63/63 [00:08<00:00,  7.64it/s]\n",
      "                 Class     Images  Instances      Box(P          R      mAP50  mAP50-95): 100%|██████████| 8/8 [00:00<00:00,  9.04it/s]"
     ]
    },
    {
     "name": "stdout",
     "output_type": "stream",
     "text": [
      "                   all        125      10802      0.774      0.837      0.842      0.659\n"
     ]
    },
    {
     "name": "stderr",
     "output_type": "stream",
     "text": [
      "\n"
     ]
    },
    {
     "name": "stdout",
     "output_type": "stream",
     "text": [
      "\n",
      "      Epoch    GPU_mem   box_loss   cls_loss   dfl_loss  Instances       Size\n"
     ]
    },
    {
     "name": "stderr",
     "output_type": "stream",
     "text": [
      "      27/75       7.5G     0.8884     0.6254      0.924        257        640: 100%|██████████| 63/63 [00:09<00:00,  6.74it/s]\n",
      "                 Class     Images  Instances      Box(P          R      mAP50  mAP50-95): 100%|██████████| 8/8 [00:00<00:00,  8.77it/s]"
     ]
    },
    {
     "name": "stdout",
     "output_type": "stream",
     "text": [
      "                   all        125      10802      0.785       0.84      0.852      0.636\n"
     ]
    },
    {
     "name": "stderr",
     "output_type": "stream",
     "text": [
      "\n"
     ]
    },
    {
     "name": "stdout",
     "output_type": "stream",
     "text": [
      "\n",
      "      Epoch    GPU_mem   box_loss   cls_loss   dfl_loss  Instances       Size\n"
     ]
    },
    {
     "name": "stderr",
     "output_type": "stream",
     "text": [
      "      28/75      7.96G     0.8928     0.6432     0.9211        187        640: 100%|██████████| 63/63 [00:08<00:00,  7.31it/s]\n",
      "                 Class     Images  Instances      Box(P          R      mAP50  mAP50-95): 100%|██████████| 8/8 [00:00<00:00,  8.88it/s]"
     ]
    },
    {
     "name": "stdout",
     "output_type": "stream",
     "text": [
      "                   all        125      10802      0.792       0.83       0.85       0.64\n"
     ]
    },
    {
     "name": "stderr",
     "output_type": "stream",
     "text": [
      "\n"
     ]
    },
    {
     "name": "stdout",
     "output_type": "stream",
     "text": [
      "\n",
      "      Epoch    GPU_mem   box_loss   cls_loss   dfl_loss  Instances       Size\n"
     ]
    },
    {
     "name": "stderr",
     "output_type": "stream",
     "text": [
      "      29/75      7.96G     0.8556     0.6153      0.919        290        640: 100%|██████████| 63/63 [00:08<00:00,  7.24it/s]\n",
      "                 Class     Images  Instances      Box(P          R      mAP50  mAP50-95): 100%|██████████| 8/8 [00:00<00:00,  8.58it/s]"
     ]
    },
    {
     "name": "stdout",
     "output_type": "stream",
     "text": [
      "                   all        125      10802      0.784      0.833      0.846      0.619\n"
     ]
    },
    {
     "name": "stderr",
     "output_type": "stream",
     "text": [
      "\n"
     ]
    },
    {
     "name": "stdout",
     "output_type": "stream",
     "text": [
      "\n",
      "      Epoch    GPU_mem   box_loss   cls_loss   dfl_loss  Instances       Size\n"
     ]
    },
    {
     "name": "stderr",
     "output_type": "stream",
     "text": [
      "      30/75      8.04G     0.8886     0.6282     0.9208        195        640: 100%|██████████| 63/63 [00:08<00:00,  7.09it/s]\n",
      "                 Class     Images  Instances      Box(P          R      mAP50  mAP50-95): 100%|██████████| 8/8 [00:00<00:00,  8.95it/s]"
     ]
    },
    {
     "name": "stdout",
     "output_type": "stream",
     "text": [
      "                   all        125      10802      0.788      0.823      0.844      0.656\n"
     ]
    },
    {
     "name": "stderr",
     "output_type": "stream",
     "text": [
      "\n"
     ]
    },
    {
     "name": "stdout",
     "output_type": "stream",
     "text": [
      "\n",
      "      Epoch    GPU_mem   box_loss   cls_loss   dfl_loss  Instances       Size\n"
     ]
    },
    {
     "name": "stderr",
     "output_type": "stream",
     "text": [
      "      31/75      6.95G     0.8508     0.6128     0.9185        266        640: 100%|██████████| 63/63 [00:08<00:00,  7.37it/s]\n",
      "                 Class     Images  Instances      Box(P          R      mAP50  mAP50-95): 100%|██████████| 8/8 [00:00<00:00,  8.65it/s]"
     ]
    },
    {
     "name": "stdout",
     "output_type": "stream",
     "text": [
      "                   all        125      10802      0.781      0.842      0.848      0.659\n"
     ]
    },
    {
     "name": "stderr",
     "output_type": "stream",
     "text": [
      "\n"
     ]
    },
    {
     "name": "stdout",
     "output_type": "stream",
     "text": [
      "\n",
      "      Epoch    GPU_mem   box_loss   cls_loss   dfl_loss  Instances       Size\n"
     ]
    },
    {
     "name": "stderr",
     "output_type": "stream",
     "text": [
      "      32/75      7.39G     0.8457     0.6076     0.9108        254        640: 100%|██████████| 63/63 [00:08<00:00,  7.32it/s]\n",
      "                 Class     Images  Instances      Box(P          R      mAP50  mAP50-95): 100%|██████████| 8/8 [00:00<00:00,  8.44it/s]"
     ]
    },
    {
     "name": "stdout",
     "output_type": "stream",
     "text": [
      "                   all        125      10802      0.785      0.832      0.847      0.676\n"
     ]
    },
    {
     "name": "stderr",
     "output_type": "stream",
     "text": [
      "\n"
     ]
    },
    {
     "name": "stdout",
     "output_type": "stream",
     "text": [
      "\n",
      "      Epoch    GPU_mem   box_loss   cls_loss   dfl_loss  Instances       Size\n"
     ]
    },
    {
     "name": "stderr",
     "output_type": "stream",
     "text": [
      "      33/75       7.4G     0.8445      0.614      0.919        203        640: 100%|██████████| 63/63 [00:08<00:00,  7.25it/s]\n",
      "                 Class     Images  Instances      Box(P          R      mAP50  mAP50-95): 100%|██████████| 8/8 [00:00<00:00,  9.04it/s]"
     ]
    },
    {
     "name": "stdout",
     "output_type": "stream",
     "text": [
      "                   all        125      10802      0.796      0.831      0.856      0.629\n"
     ]
    },
    {
     "name": "stderr",
     "output_type": "stream",
     "text": [
      "\n"
     ]
    },
    {
     "name": "stdout",
     "output_type": "stream",
     "text": [
      "\n",
      "      Epoch    GPU_mem   box_loss   cls_loss   dfl_loss  Instances       Size\n"
     ]
    },
    {
     "name": "stderr",
     "output_type": "stream",
     "text": [
      "      34/75      7.49G     0.8376     0.6169     0.9134        386        640: 100%|██████████| 63/63 [00:08<00:00,  7.45it/s]\n",
      "                 Class     Images  Instances      Box(P          R      mAP50  mAP50-95): 100%|██████████| 8/8 [00:00<00:00,  8.91it/s]"
     ]
    },
    {
     "name": "stdout",
     "output_type": "stream",
     "text": [
      "                   all        125      10802      0.795      0.832      0.848      0.664\n"
     ]
    },
    {
     "name": "stderr",
     "output_type": "stream",
     "text": [
      "\n"
     ]
    },
    {
     "name": "stdout",
     "output_type": "stream",
     "text": [
      "\n",
      "      Epoch    GPU_mem   box_loss   cls_loss   dfl_loss  Instances       Size\n"
     ]
    },
    {
     "name": "stderr",
     "output_type": "stream",
     "text": [
      "      35/75      7.49G     0.8591     0.6145      0.908        223        640: 100%|██████████| 63/63 [00:08<00:00,  7.63it/s]\n",
      "                 Class     Images  Instances      Box(P          R      mAP50  mAP50-95): 100%|██████████| 8/8 [00:00<00:00,  9.15it/s]"
     ]
    },
    {
     "name": "stdout",
     "output_type": "stream",
     "text": [
      "                   all        125      10802      0.792      0.839      0.853      0.672\n"
     ]
    },
    {
     "name": "stderr",
     "output_type": "stream",
     "text": [
      "\n"
     ]
    },
    {
     "name": "stdout",
     "output_type": "stream",
     "text": [
      "\n",
      "      Epoch    GPU_mem   box_loss   cls_loss   dfl_loss  Instances       Size\n"
     ]
    },
    {
     "name": "stderr",
     "output_type": "stream",
     "text": [
      "      36/75         8G     0.8232     0.5983     0.9082        232        640: 100%|██████████| 63/63 [00:08<00:00,  7.65it/s]\n",
      "                 Class     Images  Instances      Box(P          R      mAP50  mAP50-95): 100%|██████████| 8/8 [00:00<00:00,  8.27it/s]"
     ]
    },
    {
     "name": "stdout",
     "output_type": "stream",
     "text": [
      "                   all        125      10802      0.788      0.844      0.858      0.683\n"
     ]
    },
    {
     "name": "stderr",
     "output_type": "stream",
     "text": [
      "\n"
     ]
    },
    {
     "name": "stdout",
     "output_type": "stream",
     "text": [
      "\n",
      "      Epoch    GPU_mem   box_loss   cls_loss   dfl_loss  Instances       Size\n"
     ]
    },
    {
     "name": "stderr",
     "output_type": "stream",
     "text": [
      "      37/75      6.21G     0.8155     0.5921     0.9046        241        640: 100%|██████████| 63/63 [00:08<00:00,  7.58it/s]\n",
      "                 Class     Images  Instances      Box(P          R      mAP50  mAP50-95): 100%|██████████| 8/8 [00:00<00:00,  8.67it/s]"
     ]
    },
    {
     "name": "stdout",
     "output_type": "stream",
     "text": [
      "                   all        125      10802      0.792      0.835      0.857      0.681\n"
     ]
    },
    {
     "name": "stderr",
     "output_type": "stream",
     "text": [
      "\n"
     ]
    },
    {
     "name": "stdout",
     "output_type": "stream",
     "text": [
      "\n",
      "      Epoch    GPU_mem   box_loss   cls_loss   dfl_loss  Instances       Size\n"
     ]
    },
    {
     "name": "stderr",
     "output_type": "stream",
     "text": [
      "      38/75      6.67G     0.8068     0.5902     0.9026        423        640: 100%|██████████| 63/63 [00:08<00:00,  7.54it/s]\n",
      "                 Class     Images  Instances      Box(P          R      mAP50  mAP50-95): 100%|██████████| 8/8 [00:00<00:00,  8.56it/s]"
     ]
    },
    {
     "name": "stdout",
     "output_type": "stream",
     "text": [
      "                   all        125      10802      0.782      0.847      0.854      0.662\n"
     ]
    },
    {
     "name": "stderr",
     "output_type": "stream",
     "text": [
      "\n"
     ]
    },
    {
     "name": "stdout",
     "output_type": "stream",
     "text": [
      "\n",
      "      Epoch    GPU_mem   box_loss   cls_loss   dfl_loss  Instances       Size\n"
     ]
    },
    {
     "name": "stderr",
     "output_type": "stream",
     "text": [
      "      39/75      6.75G     0.8151     0.5962     0.9108        107        640: 100%|██████████| 63/63 [00:08<00:00,  7.73it/s]\n",
      "                 Class     Images  Instances      Box(P          R      mAP50  mAP50-95): 100%|██████████| 8/8 [00:00<00:00,  9.12it/s]"
     ]
    },
    {
     "name": "stdout",
     "output_type": "stream",
     "text": [
      "                   all        125      10802      0.788      0.834      0.851      0.666\n"
     ]
    },
    {
     "name": "stderr",
     "output_type": "stream",
     "text": [
      "\n"
     ]
    },
    {
     "name": "stdout",
     "output_type": "stream",
     "text": [
      "\n",
      "      Epoch    GPU_mem   box_loss   cls_loss   dfl_loss  Instances       Size\n"
     ]
    },
    {
     "name": "stderr",
     "output_type": "stream",
     "text": [
      "      40/75      7.76G     0.7928     0.5816     0.9026        449        640: 100%|██████████| 63/63 [00:08<00:00,  7.65it/s]\n",
      "                 Class     Images  Instances      Box(P          R      mAP50  mAP50-95): 100%|██████████| 8/8 [00:00<00:00,  9.07it/s]"
     ]
    },
    {
     "name": "stdout",
     "output_type": "stream",
     "text": [
      "                   all        125      10802      0.795      0.838      0.858      0.667\n"
     ]
    },
    {
     "name": "stderr",
     "output_type": "stream",
     "text": [
      "\n"
     ]
    },
    {
     "name": "stdout",
     "output_type": "stream",
     "text": [
      "\n",
      "      Epoch    GPU_mem   box_loss   cls_loss   dfl_loss  Instances       Size\n"
     ]
    },
    {
     "name": "stderr",
     "output_type": "stream",
     "text": [
      "      41/75      8.72G     0.8169     0.5928     0.9051        326        640: 100%|██████████| 63/63 [00:08<00:00,  7.56it/s]\n",
      "                 Class     Images  Instances      Box(P          R      mAP50  mAP50-95): 100%|██████████| 8/8 [00:00<00:00,  8.91it/s]"
     ]
    },
    {
     "name": "stdout",
     "output_type": "stream",
     "text": [
      "                   all        125      10802       0.78      0.845      0.849      0.654\n"
     ]
    },
    {
     "name": "stderr",
     "output_type": "stream",
     "text": [
      "\n"
     ]
    },
    {
     "name": "stdout",
     "output_type": "stream",
     "text": [
      "\n",
      "      Epoch    GPU_mem   box_loss   cls_loss   dfl_loss  Instances       Size\n"
     ]
    },
    {
     "name": "stderr",
     "output_type": "stream",
     "text": [
      "      42/75      6.06G     0.8051     0.5919     0.9053        235        640: 100%|██████████| 63/63 [00:08<00:00,  7.47it/s]\n",
      "                 Class     Images  Instances      Box(P          R      mAP50  mAP50-95): 100%|██████████| 8/8 [00:00<00:00,  9.12it/s]"
     ]
    },
    {
     "name": "stdout",
     "output_type": "stream",
     "text": [
      "                   all        125      10802      0.784       0.84      0.848      0.679\n"
     ]
    },
    {
     "name": "stderr",
     "output_type": "stream",
     "text": [
      "\n"
     ]
    },
    {
     "name": "stdout",
     "output_type": "stream",
     "text": [
      "\n",
      "      Epoch    GPU_mem   box_loss   cls_loss   dfl_loss  Instances       Size\n"
     ]
    },
    {
     "name": "stderr",
     "output_type": "stream",
     "text": [
      "      43/75      6.52G     0.8105      0.589     0.8999        271        640: 100%|██████████| 63/63 [00:08<00:00,  7.43it/s]\n",
      "                 Class     Images  Instances      Box(P          R      mAP50  mAP50-95): 100%|██████████| 8/8 [00:00<00:00,  8.96it/s]"
     ]
    },
    {
     "name": "stdout",
     "output_type": "stream",
     "text": [
      "                   all        125      10802      0.789       0.84      0.855      0.689\n"
     ]
    },
    {
     "name": "stderr",
     "output_type": "stream",
     "text": [
      "\n"
     ]
    },
    {
     "name": "stdout",
     "output_type": "stream",
     "text": [
      "\n",
      "      Epoch    GPU_mem   box_loss   cls_loss   dfl_loss  Instances       Size\n"
     ]
    },
    {
     "name": "stderr",
     "output_type": "stream",
     "text": [
      "      44/75      7.61G     0.8004     0.5794     0.9012        347        640: 100%|██████████| 63/63 [00:08<00:00,  7.40it/s]\n",
      "                 Class     Images  Instances      Box(P          R      mAP50  mAP50-95): 100%|██████████| 8/8 [00:00<00:00,  8.95it/s]"
     ]
    },
    {
     "name": "stdout",
     "output_type": "stream",
     "text": [
      "                   all        125      10802      0.787      0.836      0.856      0.679\n"
     ]
    },
    {
     "name": "stderr",
     "output_type": "stream",
     "text": [
      "\n"
     ]
    },
    {
     "name": "stdout",
     "output_type": "stream",
     "text": [
      "\n",
      "      Epoch    GPU_mem   box_loss   cls_loss   dfl_loss  Instances       Size\n"
     ]
    },
    {
     "name": "stderr",
     "output_type": "stream",
     "text": [
      "      45/75      7.69G     0.8271     0.5947     0.9077        144        640: 100%|██████████| 63/63 [00:08<00:00,  7.68it/s]\n",
      "                 Class     Images  Instances      Box(P          R      mAP50  mAP50-95): 100%|██████████| 8/8 [00:00<00:00,  9.12it/s]"
     ]
    },
    {
     "name": "stdout",
     "output_type": "stream",
     "text": [
      "                   all        125      10802      0.796      0.839       0.86      0.661\n"
     ]
    },
    {
     "name": "stderr",
     "output_type": "stream",
     "text": [
      "\n"
     ]
    },
    {
     "name": "stdout",
     "output_type": "stream",
     "text": [
      "\n",
      "      Epoch    GPU_mem   box_loss   cls_loss   dfl_loss  Instances       Size\n"
     ]
    },
    {
     "name": "stderr",
     "output_type": "stream",
     "text": [
      "      46/75      7.69G     0.7934      0.575     0.8982        371        640: 100%|██████████| 63/63 [00:08<00:00,  7.50it/s]\n",
      "                 Class     Images  Instances      Box(P          R      mAP50  mAP50-95): 100%|██████████| 8/8 [00:00<00:00,  8.86it/s]"
     ]
    },
    {
     "name": "stdout",
     "output_type": "stream",
     "text": [
      "                   all        125      10802      0.783      0.853      0.861      0.666\n"
     ]
    },
    {
     "name": "stderr",
     "output_type": "stream",
     "text": [
      "\n"
     ]
    },
    {
     "name": "stdout",
     "output_type": "stream",
     "text": [
      "\n",
      "      Epoch    GPU_mem   box_loss   cls_loss   dfl_loss  Instances       Size\n"
     ]
    },
    {
     "name": "stderr",
     "output_type": "stream",
     "text": [
      "      47/75      7.69G     0.7742     0.5683     0.8946        180        640: 100%|██████████| 63/63 [00:08<00:00,  7.70it/s]\n",
      "                 Class     Images  Instances      Box(P          R      mAP50  mAP50-95): 100%|██████████| 8/8 [00:00<00:00,  9.11it/s]"
     ]
    },
    {
     "name": "stdout",
     "output_type": "stream",
     "text": [
      "                   all        125      10802      0.801      0.835       0.86      0.676\n"
     ]
    },
    {
     "name": "stderr",
     "output_type": "stream",
     "text": [
      "\n"
     ]
    },
    {
     "name": "stdout",
     "output_type": "stream",
     "text": [
      "\n",
      "      Epoch    GPU_mem   box_loss   cls_loss   dfl_loss  Instances       Size\n"
     ]
    },
    {
     "name": "stderr",
     "output_type": "stream",
     "text": [
      "      48/75      7.69G     0.7806     0.5745     0.8951        433        640: 100%|██████████| 63/63 [00:08<00:00,  7.79it/s]\n",
      "                 Class     Images  Instances      Box(P          R      mAP50  mAP50-95): 100%|██████████| 8/8 [00:00<00:00,  9.10it/s]"
     ]
    },
    {
     "name": "stdout",
     "output_type": "stream",
     "text": [
      "                   all        125      10802      0.789      0.847      0.863      0.692\n"
     ]
    },
    {
     "name": "stderr",
     "output_type": "stream",
     "text": [
      "\n"
     ]
    },
    {
     "name": "stdout",
     "output_type": "stream",
     "text": [
      "\n",
      "      Epoch    GPU_mem   box_loss   cls_loss   dfl_loss  Instances       Size\n"
     ]
    },
    {
     "name": "stderr",
     "output_type": "stream",
     "text": [
      "      49/75      7.74G     0.7618     0.5616     0.8944        396        640: 100%|██████████| 63/63 [00:08<00:00,  7.63it/s]\n",
      "                 Class     Images  Instances      Box(P          R      mAP50  mAP50-95): 100%|██████████| 8/8 [00:00<00:00,  9.18it/s]"
     ]
    },
    {
     "name": "stdout",
     "output_type": "stream",
     "text": [
      "                   all        125      10802       0.79      0.842      0.859       0.69\n"
     ]
    },
    {
     "name": "stderr",
     "output_type": "stream",
     "text": [
      "\n"
     ]
    },
    {
     "name": "stdout",
     "output_type": "stream",
     "text": [
      "\n",
      "      Epoch    GPU_mem   box_loss   cls_loss   dfl_loss  Instances       Size\n"
     ]
    },
    {
     "name": "stderr",
     "output_type": "stream",
     "text": [
      "      50/75      7.74G     0.7734     0.5658      0.895        126        640: 100%|██████████| 63/63 [00:08<00:00,  7.63it/s]\n",
      "                 Class     Images  Instances      Box(P          R      mAP50  mAP50-95): 100%|██████████| 8/8 [00:00<00:00,  9.22it/s]"
     ]
    },
    {
     "name": "stdout",
     "output_type": "stream",
     "text": [
      "                   all        125      10802      0.796      0.837      0.858       0.69\n"
     ]
    },
    {
     "name": "stderr",
     "output_type": "stream",
     "text": [
      "\n"
     ]
    },
    {
     "name": "stdout",
     "output_type": "stream",
     "text": [
      "\n",
      "      Epoch    GPU_mem   box_loss   cls_loss   dfl_loss  Instances       Size\n"
     ]
    },
    {
     "name": "stderr",
     "output_type": "stream",
     "text": [
      "      51/75      7.74G     0.7653     0.5717     0.8924        171        640: 100%|██████████| 63/63 [00:08<00:00,  7.73it/s]\n",
      "                 Class     Images  Instances      Box(P          R      mAP50  mAP50-95): 100%|██████████| 8/8 [00:00<00:00,  9.17it/s]"
     ]
    },
    {
     "name": "stdout",
     "output_type": "stream",
     "text": [
      "                   all        125      10802      0.787      0.847      0.861      0.674\n"
     ]
    },
    {
     "name": "stderr",
     "output_type": "stream",
     "text": [
      "\n"
     ]
    },
    {
     "name": "stdout",
     "output_type": "stream",
     "text": [
      "\n",
      "      Epoch    GPU_mem   box_loss   cls_loss   dfl_loss  Instances       Size\n"
     ]
    },
    {
     "name": "stderr",
     "output_type": "stream",
     "text": [
      "      52/75      7.74G     0.7633     0.5688     0.8968        103        640: 100%|██████████| 63/63 [00:08<00:00,  7.79it/s]\n",
      "                 Class     Images  Instances      Box(P          R      mAP50  mAP50-95): 100%|██████████| 8/8 [00:00<00:00,  9.20it/s]"
     ]
    },
    {
     "name": "stdout",
     "output_type": "stream",
     "text": [
      "                   all        125      10802      0.785      0.847      0.862      0.695\n"
     ]
    },
    {
     "name": "stderr",
     "output_type": "stream",
     "text": [
      "\n"
     ]
    },
    {
     "name": "stdout",
     "output_type": "stream",
     "text": [
      "\n",
      "      Epoch    GPU_mem   box_loss   cls_loss   dfl_loss  Instances       Size\n"
     ]
    },
    {
     "name": "stderr",
     "output_type": "stream",
     "text": [
      "      53/75      8.26G     0.7637      0.564     0.8896        221        640: 100%|██████████| 63/63 [00:08<00:00,  7.78it/s]\n",
      "                 Class     Images  Instances      Box(P          R      mAP50  mAP50-95): 100%|██████████| 8/8 [00:00<00:00,  8.99it/s]"
     ]
    },
    {
     "name": "stdout",
     "output_type": "stream",
     "text": [
      "                   all        125      10802      0.795      0.841      0.864      0.687\n"
     ]
    },
    {
     "name": "stderr",
     "output_type": "stream",
     "text": [
      "\n"
     ]
    },
    {
     "name": "stdout",
     "output_type": "stream",
     "text": [
      "\n",
      "      Epoch    GPU_mem   box_loss   cls_loss   dfl_loss  Instances       Size\n"
     ]
    },
    {
     "name": "stderr",
     "output_type": "stream",
     "text": [
      "      54/75      5.91G      0.755     0.5578      0.892        285        640: 100%|██████████| 63/63 [00:08<00:00,  7.55it/s]\n",
      "                 Class     Images  Instances      Box(P          R      mAP50  mAP50-95): 100%|██████████| 8/8 [00:00<00:00,  9.04it/s]"
     ]
    },
    {
     "name": "stdout",
     "output_type": "stream",
     "text": [
      "                   all        125      10802      0.792      0.844      0.861      0.694\n"
     ]
    },
    {
     "name": "stderr",
     "output_type": "stream",
     "text": [
      "\n"
     ]
    },
    {
     "name": "stdout",
     "output_type": "stream",
     "text": [
      "\n",
      "      Epoch    GPU_mem   box_loss   cls_loss   dfl_loss  Instances       Size\n"
     ]
    },
    {
     "name": "stderr",
     "output_type": "stream",
     "text": [
      "      55/75      6.95G     0.7578     0.5617     0.8897        176        640: 100%|██████████| 63/63 [00:08<00:00,  7.60it/s]\n",
      "                 Class     Images  Instances      Box(P          R      mAP50  mAP50-95): 100%|██████████| 8/8 [00:00<00:00,  9.13it/s]"
     ]
    },
    {
     "name": "stdout",
     "output_type": "stream",
     "text": [
      "                   all        125      10802      0.791      0.845      0.863      0.699\n"
     ]
    },
    {
     "name": "stderr",
     "output_type": "stream",
     "text": [
      "\n"
     ]
    },
    {
     "name": "stdout",
     "output_type": "stream",
     "text": [
      "\n",
      "      Epoch    GPU_mem   box_loss   cls_loss   dfl_loss  Instances       Size\n"
     ]
    },
    {
     "name": "stderr",
     "output_type": "stream",
     "text": [
      "      56/75      7.04G     0.7606     0.5614     0.8845        214        640: 100%|██████████| 63/63 [00:08<00:00,  7.63it/s]\n",
      "                 Class     Images  Instances      Box(P          R      mAP50  mAP50-95): 100%|██████████| 8/8 [00:00<00:00,  9.23it/s]"
     ]
    },
    {
     "name": "stdout",
     "output_type": "stream",
     "text": [
      "                   all        125      10802      0.786      0.849      0.863      0.698\n"
     ]
    },
    {
     "name": "stderr",
     "output_type": "stream",
     "text": [
      "\n"
     ]
    },
    {
     "name": "stdout",
     "output_type": "stream",
     "text": [
      "\n",
      "      Epoch    GPU_mem   box_loss   cls_loss   dfl_loss  Instances       Size\n"
     ]
    },
    {
     "name": "stderr",
     "output_type": "stream",
     "text": [
      "      57/75      7.12G     0.7496     0.5507     0.8879        411        640: 100%|██████████| 63/63 [00:08<00:00,  7.58it/s]\n",
      "                 Class     Images  Instances      Box(P          R      mAP50  mAP50-95): 100%|██████████| 8/8 [00:00<00:00,  8.97it/s]"
     ]
    },
    {
     "name": "stdout",
     "output_type": "stream",
     "text": [
      "                   all        125      10802      0.787       0.85      0.864      0.678\n"
     ]
    },
    {
     "name": "stderr",
     "output_type": "stream",
     "text": [
      "\n"
     ]
    },
    {
     "name": "stdout",
     "output_type": "stream",
     "text": [
      "\n",
      "      Epoch    GPU_mem   box_loss   cls_loss   dfl_loss  Instances       Size\n"
     ]
    },
    {
     "name": "stderr",
     "output_type": "stream",
     "text": [
      "      58/75      7.12G      0.742     0.5458     0.8881        283        640: 100%|██████████| 63/63 [00:08<00:00,  7.72it/s]\n",
      "                 Class     Images  Instances      Box(P          R      mAP50  mAP50-95): 100%|██████████| 8/8 [00:00<00:00,  9.04it/s]"
     ]
    },
    {
     "name": "stdout",
     "output_type": "stream",
     "text": [
      "                   all        125      10802      0.792      0.845      0.864      0.692\n"
     ]
    },
    {
     "name": "stderr",
     "output_type": "stream",
     "text": [
      "\n"
     ]
    },
    {
     "name": "stdout",
     "output_type": "stream",
     "text": [
      "\n",
      "      Epoch    GPU_mem   box_loss   cls_loss   dfl_loss  Instances       Size\n"
     ]
    },
    {
     "name": "stderr",
     "output_type": "stream",
     "text": [
      "      59/75      7.12G      0.726     0.5459     0.8843        200        640: 100%|██████████| 63/63 [00:08<00:00,  7.75it/s]\n",
      "                 Class     Images  Instances      Box(P          R      mAP50  mAP50-95): 100%|██████████| 8/8 [00:00<00:00,  9.13it/s]"
     ]
    },
    {
     "name": "stdout",
     "output_type": "stream",
     "text": [
      "                   all        125      10802      0.795      0.841      0.865      0.694\n"
     ]
    },
    {
     "name": "stderr",
     "output_type": "stream",
     "text": [
      "\n"
     ]
    },
    {
     "name": "stdout",
     "output_type": "stream",
     "text": [
      "\n",
      "      Epoch    GPU_mem   box_loss   cls_loss   dfl_loss  Instances       Size\n"
     ]
    },
    {
     "name": "stderr",
     "output_type": "stream",
     "text": [
      "      60/75      7.12G     0.7219      0.543     0.8846        316        640: 100%|██████████| 63/63 [00:08<00:00,  7.67it/s]\n",
      "                 Class     Images  Instances      Box(P          R      mAP50  mAP50-95): 100%|██████████| 8/8 [00:00<00:00,  8.74it/s]"
     ]
    },
    {
     "name": "stdout",
     "output_type": "stream",
     "text": [
      "                   all        125      10802      0.793      0.846      0.866      0.688\n"
     ]
    },
    {
     "name": "stderr",
     "output_type": "stream",
     "text": [
      "\n"
     ]
    },
    {
     "name": "stdout",
     "output_type": "stream",
     "text": [
      "\n",
      "      Epoch    GPU_mem   box_loss   cls_loss   dfl_loss  Instances       Size\n"
     ]
    },
    {
     "name": "stderr",
     "output_type": "stream",
     "text": [
      "      61/75      7.21G     0.7153     0.5332      0.878        287        640: 100%|██████████| 63/63 [00:08<00:00,  7.61it/s]\n",
      "                 Class     Images  Instances      Box(P          R      mAP50  mAP50-95): 100%|██████████| 8/8 [00:00<00:00,  8.73it/s]"
     ]
    },
    {
     "name": "stdout",
     "output_type": "stream",
     "text": [
      "                   all        125      10802      0.796      0.837      0.865      0.695\n"
     ]
    },
    {
     "name": "stderr",
     "output_type": "stream",
     "text": [
      "\n"
     ]
    },
    {
     "name": "stdout",
     "output_type": "stream",
     "text": [
      "\n",
      "      Epoch    GPU_mem   box_loss   cls_loss   dfl_loss  Instances       Size\n"
     ]
    },
    {
     "name": "stderr",
     "output_type": "stream",
     "text": [
      "      62/75      7.21G     0.7273     0.5407     0.8818        185        640: 100%|██████████| 63/63 [00:08<00:00,  7.43it/s]\n",
      "                 Class     Images  Instances      Box(P          R      mAP50  mAP50-95): 100%|██████████| 8/8 [00:00<00:00,  9.16it/s]"
     ]
    },
    {
     "name": "stdout",
     "output_type": "stream",
     "text": [
      "                   all        125      10802      0.789      0.845      0.861        0.7\n"
     ]
    },
    {
     "name": "stderr",
     "output_type": "stream",
     "text": [
      "\n"
     ]
    },
    {
     "name": "stdout",
     "output_type": "stream",
     "text": [
      "\n",
      "      Epoch    GPU_mem   box_loss   cls_loss   dfl_loss  Instances       Size\n"
     ]
    },
    {
     "name": "stderr",
     "output_type": "stream",
     "text": [
      "      63/75      7.21G     0.7153     0.5282     0.8797        302        640: 100%|██████████| 63/63 [00:08<00:00,  7.62it/s]\n",
      "                 Class     Images  Instances      Box(P          R      mAP50  mAP50-95): 100%|██████████| 8/8 [00:00<00:00,  9.09it/s]"
     ]
    },
    {
     "name": "stdout",
     "output_type": "stream",
     "text": [
      "                   all        125      10802      0.789      0.843      0.861      0.697\n"
     ]
    },
    {
     "name": "stderr",
     "output_type": "stream",
     "text": [
      "\n"
     ]
    },
    {
     "name": "stdout",
     "output_type": "stream",
     "text": [
      "\n",
      "      Epoch    GPU_mem   box_loss   cls_loss   dfl_loss  Instances       Size\n"
     ]
    },
    {
     "name": "stderr",
     "output_type": "stream",
     "text": [
      "      64/75      7.21G     0.7138     0.5417     0.8822        275        640: 100%|██████████| 63/63 [00:08<00:00,  7.68it/s]\n",
      "                 Class     Images  Instances      Box(P          R      mAP50  mAP50-95): 100%|██████████| 8/8 [00:00<00:00,  8.92it/s]"
     ]
    },
    {
     "name": "stdout",
     "output_type": "stream",
     "text": [
      "                   all        125      10802      0.788      0.846      0.863      0.695\n"
     ]
    },
    {
     "name": "stderr",
     "output_type": "stream",
     "text": [
      "\n"
     ]
    },
    {
     "name": "stdout",
     "output_type": "stream",
     "text": [
      "\n",
      "      Epoch    GPU_mem   box_loss   cls_loss   dfl_loss  Instances       Size\n"
     ]
    },
    {
     "name": "stderr",
     "output_type": "stream",
     "text": [
      "      65/75      7.21G     0.7212     0.5406     0.8754        184        640: 100%|██████████| 63/63 [00:08<00:00,  7.56it/s]\n",
      "                 Class     Images  Instances      Box(P          R      mAP50  mAP50-95): 100%|██████████| 8/8 [00:00<00:00,  9.04it/s]"
     ]
    },
    {
     "name": "stdout",
     "output_type": "stream",
     "text": [
      "                   all        125      10802      0.792      0.844      0.865      0.701\n"
     ]
    },
    {
     "name": "stderr",
     "output_type": "stream",
     "text": [
      "\n"
     ]
    },
    {
     "name": "stdout",
     "output_type": "stream",
     "text": [
      "Closing dataloader mosaic\n",
      "\n",
      "      Epoch    GPU_mem   box_loss   cls_loss   dfl_loss  Instances       Size\n"
     ]
    },
    {
     "name": "stderr",
     "output_type": "stream",
     "text": [
      "      66/75      7.21G     0.6945     0.5452     0.8829        158        640: 100%|██████████| 63/63 [00:08<00:00,  7.65it/s]\n",
      "                 Class     Images  Instances      Box(P          R      mAP50  mAP50-95): 100%|██████████| 8/8 [00:00<00:00,  9.03it/s]"
     ]
    },
    {
     "name": "stdout",
     "output_type": "stream",
     "text": [
      "                   all        125      10802      0.794      0.841       0.86      0.692\n"
     ]
    },
    {
     "name": "stderr",
     "output_type": "stream",
     "text": [
      "\n"
     ]
    },
    {
     "name": "stdout",
     "output_type": "stream",
     "text": [
      "\n",
      "      Epoch    GPU_mem   box_loss   cls_loss   dfl_loss  Instances       Size\n"
     ]
    },
    {
     "name": "stderr",
     "output_type": "stream",
     "text": [
      "      67/75      7.21G     0.6911     0.5391      0.882         91        640: 100%|██████████| 63/63 [00:07<00:00,  8.12it/s]\n",
      "                 Class     Images  Instances      Box(P          R      mAP50  mAP50-95): 100%|██████████| 8/8 [00:00<00:00,  9.11it/s]"
     ]
    },
    {
     "name": "stdout",
     "output_type": "stream",
     "text": [
      "                   all        125      10802      0.786      0.839      0.859      0.688\n"
     ]
    },
    {
     "name": "stderr",
     "output_type": "stream",
     "text": [
      "\n"
     ]
    },
    {
     "name": "stdout",
     "output_type": "stream",
     "text": [
      "\n",
      "      Epoch    GPU_mem   box_loss   cls_loss   dfl_loss  Instances       Size\n"
     ]
    },
    {
     "name": "stderr",
     "output_type": "stream",
     "text": [
      "      68/75      7.21G     0.6747     0.5284     0.8772        218        640: 100%|██████████| 63/63 [00:07<00:00,  8.07it/s]\n",
      "                 Class     Images  Instances      Box(P          R      mAP50  mAP50-95): 100%|██████████| 8/8 [00:00<00:00,  9.22it/s]"
     ]
    },
    {
     "name": "stdout",
     "output_type": "stream",
     "text": [
      "                   all        125      10802      0.788      0.849      0.865      0.695\n"
     ]
    },
    {
     "name": "stderr",
     "output_type": "stream",
     "text": [
      "\n"
     ]
    },
    {
     "name": "stdout",
     "output_type": "stream",
     "text": [
      "\n",
      "      Epoch    GPU_mem   box_loss   cls_loss   dfl_loss  Instances       Size\n"
     ]
    },
    {
     "name": "stderr",
     "output_type": "stream",
     "text": [
      "      69/75      7.21G     0.6634     0.5224     0.8718        230        640: 100%|██████████| 63/63 [00:07<00:00,  8.11it/s]\n",
      "                 Class     Images  Instances      Box(P          R      mAP50  mAP50-95): 100%|██████████| 8/8 [00:00<00:00,  9.04it/s]"
     ]
    },
    {
     "name": "stdout",
     "output_type": "stream",
     "text": [
      "                   all        125      10802      0.792      0.845      0.864        0.7\n"
     ]
    },
    {
     "name": "stderr",
     "output_type": "stream",
     "text": [
      "\n"
     ]
    },
    {
     "name": "stdout",
     "output_type": "stream",
     "text": [
      "\n",
      "      Epoch    GPU_mem   box_loss   cls_loss   dfl_loss  Instances       Size\n"
     ]
    },
    {
     "name": "stderr",
     "output_type": "stream",
     "text": [
      "      70/75      7.21G     0.6751     0.5264      0.873        161        640: 100%|██████████| 63/63 [00:07<00:00,  8.04it/s]\n",
      "                 Class     Images  Instances      Box(P          R      mAP50  mAP50-95): 100%|██████████| 8/8 [00:00<00:00,  8.64it/s]"
     ]
    },
    {
     "name": "stdout",
     "output_type": "stream",
     "text": [
      "                   all        125      10802      0.789      0.847      0.865      0.701\n"
     ]
    },
    {
     "name": "stderr",
     "output_type": "stream",
     "text": [
      "\n"
     ]
    },
    {
     "name": "stdout",
     "output_type": "stream",
     "text": [
      "\n",
      "      Epoch    GPU_mem   box_loss   cls_loss   dfl_loss  Instances       Size\n"
     ]
    },
    {
     "name": "stderr",
     "output_type": "stream",
     "text": [
      "      71/75      7.21G     0.6835     0.5281     0.8754        192        640: 100%|██████████| 63/63 [00:07<00:00,  7.91it/s]\n",
      "                 Class     Images  Instances      Box(P          R      mAP50  mAP50-95): 100%|██████████| 8/8 [00:00<00:00,  8.76it/s]"
     ]
    },
    {
     "name": "stdout",
     "output_type": "stream",
     "text": [
      "                   all        125      10802      0.794      0.842      0.866      0.689\n"
     ]
    },
    {
     "name": "stderr",
     "output_type": "stream",
     "text": [
      "\n"
     ]
    },
    {
     "name": "stdout",
     "output_type": "stream",
     "text": [
      "\n",
      "      Epoch    GPU_mem   box_loss   cls_loss   dfl_loss  Instances       Size\n"
     ]
    },
    {
     "name": "stderr",
     "output_type": "stream",
     "text": [
      "      72/75      7.21G     0.6604     0.5205     0.8703        101        640: 100%|██████████| 63/63 [00:08<00:00,  7.81it/s]\n",
      "                 Class     Images  Instances      Box(P          R      mAP50  mAP50-95): 100%|██████████| 8/8 [00:00<00:00,  8.36it/s]"
     ]
    },
    {
     "name": "stdout",
     "output_type": "stream",
     "text": [
      "                   all        125      10802      0.795      0.841      0.867      0.693\n"
     ]
    },
    {
     "name": "stderr",
     "output_type": "stream",
     "text": [
      "\n"
     ]
    },
    {
     "name": "stdout",
     "output_type": "stream",
     "text": [
      "\n",
      "      Epoch    GPU_mem   box_loss   cls_loss   dfl_loss  Instances       Size\n"
     ]
    },
    {
     "name": "stderr",
     "output_type": "stream",
     "text": [
      "      73/75      7.21G     0.6652     0.5138     0.8725        204        640: 100%|██████████| 63/63 [00:07<00:00,  8.01it/s]\n",
      "                 Class     Images  Instances      Box(P          R      mAP50  mAP50-95): 100%|██████████| 8/8 [00:00<00:00,  8.97it/s]"
     ]
    },
    {
     "name": "stdout",
     "output_type": "stream",
     "text": [
      "                   all        125      10802      0.794      0.843      0.868      0.704\n"
     ]
    },
    {
     "name": "stderr",
     "output_type": "stream",
     "text": [
      "\n"
     ]
    },
    {
     "name": "stdout",
     "output_type": "stream",
     "text": [
      "\n",
      "      Epoch    GPU_mem   box_loss   cls_loss   dfl_loss  Instances       Size\n"
     ]
    },
    {
     "name": "stderr",
     "output_type": "stream",
     "text": [
      "      74/75      7.21G     0.6449     0.5108      0.865        171        640: 100%|██████████| 63/63 [00:07<00:00,  8.19it/s]\n",
      "                 Class     Images  Instances      Box(P          R      mAP50  mAP50-95): 100%|██████████| 8/8 [00:00<00:00,  9.03it/s]"
     ]
    },
    {
     "name": "stdout",
     "output_type": "stream",
     "text": [
      "                   all        125      10802      0.804      0.835      0.868      0.704\n"
     ]
    },
    {
     "name": "stderr",
     "output_type": "stream",
     "text": [
      "\n"
     ]
    },
    {
     "name": "stdout",
     "output_type": "stream",
     "text": [
      "\n",
      "      Epoch    GPU_mem   box_loss   cls_loss   dfl_loss  Instances       Size\n"
     ]
    },
    {
     "name": "stderr",
     "output_type": "stream",
     "text": [
      "      75/75      7.21G     0.6409     0.5055     0.8675        166        640: 100%|██████████| 63/63 [00:07<00:00,  8.13it/s]\n",
      "                 Class     Images  Instances      Box(P          R      mAP50  mAP50-95): 100%|██████████| 8/8 [00:00<00:00,  9.16it/s]"
     ]
    },
    {
     "name": "stdout",
     "output_type": "stream",
     "text": [
      "                   all        125      10802      0.803      0.838      0.867      0.702\n"
     ]
    },
    {
     "name": "stderr",
     "output_type": "stream",
     "text": [
      "\n"
     ]
    },
    {
     "name": "stdout",
     "output_type": "stream",
     "text": [
      "\n",
      "75 epochs completed in 0.213 hours.\n",
      "Optimizer stripped from runs\\detect\\train3\\weights\\last.pt, 40.8MB\n",
      "Optimizer stripped from runs\\detect\\train3\\weights\\best.pt, 40.8MB\n",
      "\n",
      "Validating runs\\detect\\train3\\weights\\best.pt...\n",
      "Ultralytics 8.3.112  Python-3.11.9 torch-2.6.0+cu126 CUDA:0 (NVIDIA GeForce RTX 4070 Ti SUPER, 16375MiB)\n",
      "YOLOv9m summary (fused): 151 layers, 20,013,715 parameters, 0 gradients, 76.5 GFLOPs\n"
     ]
    },
    {
     "name": "stderr",
     "output_type": "stream",
     "text": [
      "                 Class     Images  Instances      Box(P          R      mAP50  mAP50-95): 100%|██████████| 8/8 [00:04<00:00,  1.63it/s]\n"
     ]
    },
    {
     "name": "stdout",
     "output_type": "stream",
     "text": [
      "                   all        125      10802      0.798      0.838      0.867       0.69\n",
      "Speed: 0.1ms preprocess, 22.3ms inference, 0.0ms loss, 1.4ms postprocess per image\n",
      "Results saved to \u001b[1mruns\\detect\\train3\u001b[0m\n"
     ]
    },
    {
     "data": {
      "text/plain": [
       "ultralytics.utils.metrics.DetMetrics object with attributes:\n",
       "\n",
       "ap_class_index: array([0])\n",
       "box: ultralytics.utils.metrics.Metric object\n",
       "confusion_matrix: <ultralytics.utils.metrics.ConfusionMatrix object at 0x0000024834AA1D90>\n",
       "curves: ['Precision-Recall(B)', 'F1-Confidence(B)', 'Precision-Confidence(B)', 'Recall-Confidence(B)']\n",
       "curves_results: [[array([          0,    0.001001,    0.002002,    0.003003,    0.004004,    0.005005,    0.006006,    0.007007,    0.008008,    0.009009,     0.01001,    0.011011,    0.012012,    0.013013,    0.014014,    0.015015,    0.016016,    0.017017,    0.018018,    0.019019,     0.02002,    0.021021,    0.022022,    0.023023,\n",
       "          0.024024,    0.025025,    0.026026,    0.027027,    0.028028,    0.029029,     0.03003,    0.031031,    0.032032,    0.033033,    0.034034,    0.035035,    0.036036,    0.037037,    0.038038,    0.039039,     0.04004,    0.041041,    0.042042,    0.043043,    0.044044,    0.045045,    0.046046,    0.047047,\n",
       "          0.048048,    0.049049,     0.05005,    0.051051,    0.052052,    0.053053,    0.054054,    0.055055,    0.056056,    0.057057,    0.058058,    0.059059,     0.06006,    0.061061,    0.062062,    0.063063,    0.064064,    0.065065,    0.066066,    0.067067,    0.068068,    0.069069,     0.07007,    0.071071,\n",
       "          0.072072,    0.073073,    0.074074,    0.075075,    0.076076,    0.077077,    0.078078,    0.079079,     0.08008,    0.081081,    0.082082,    0.083083,    0.084084,    0.085085,    0.086086,    0.087087,    0.088088,    0.089089,     0.09009,    0.091091,    0.092092,    0.093093,    0.094094,    0.095095,\n",
       "          0.096096,    0.097097,    0.098098,    0.099099,      0.1001,      0.1011,      0.1021,      0.1031,      0.1041,     0.10511,     0.10611,     0.10711,     0.10811,     0.10911,     0.11011,     0.11111,     0.11211,     0.11311,     0.11411,     0.11512,     0.11612,     0.11712,     0.11812,     0.11912,\n",
       "           0.12012,     0.12112,     0.12212,     0.12312,     0.12412,     0.12513,     0.12613,     0.12713,     0.12813,     0.12913,     0.13013,     0.13113,     0.13213,     0.13313,     0.13413,     0.13514,     0.13614,     0.13714,     0.13814,     0.13914,     0.14014,     0.14114,     0.14214,     0.14314,\n",
       "           0.14414,     0.14515,     0.14615,     0.14715,     0.14815,     0.14915,     0.15015,     0.15115,     0.15215,     0.15315,     0.15415,     0.15516,     0.15616,     0.15716,     0.15816,     0.15916,     0.16016,     0.16116,     0.16216,     0.16316,     0.16416,     0.16517,     0.16617,     0.16717,\n",
       "           0.16817,     0.16917,     0.17017,     0.17117,     0.17217,     0.17317,     0.17417,     0.17518,     0.17618,     0.17718,     0.17818,     0.17918,     0.18018,     0.18118,     0.18218,     0.18318,     0.18418,     0.18519,     0.18619,     0.18719,     0.18819,     0.18919,     0.19019,     0.19119,\n",
       "           0.19219,     0.19319,     0.19419,      0.1952,      0.1962,      0.1972,      0.1982,      0.1992,      0.2002,      0.2012,      0.2022,      0.2032,      0.2042,     0.20521,     0.20621,     0.20721,     0.20821,     0.20921,     0.21021,     0.21121,     0.21221,     0.21321,     0.21421,     0.21522,\n",
       "           0.21622,     0.21722,     0.21822,     0.21922,     0.22022,     0.22122,     0.22222,     0.22322,     0.22422,     0.22523,     0.22623,     0.22723,     0.22823,     0.22923,     0.23023,     0.23123,     0.23223,     0.23323,     0.23423,     0.23524,     0.23624,     0.23724,     0.23824,     0.23924,\n",
       "           0.24024,     0.24124,     0.24224,     0.24324,     0.24424,     0.24525,     0.24625,     0.24725,     0.24825,     0.24925,     0.25025,     0.25125,     0.25225,     0.25325,     0.25425,     0.25526,     0.25626,     0.25726,     0.25826,     0.25926,     0.26026,     0.26126,     0.26226,     0.26326,\n",
       "           0.26426,     0.26527,     0.26627,     0.26727,     0.26827,     0.26927,     0.27027,     0.27127,     0.27227,     0.27327,     0.27427,     0.27528,     0.27628,     0.27728,     0.27828,     0.27928,     0.28028,     0.28128,     0.28228,     0.28328,     0.28428,     0.28529,     0.28629,     0.28729,\n",
       "           0.28829,     0.28929,     0.29029,     0.29129,     0.29229,     0.29329,     0.29429,      0.2953,      0.2963,      0.2973,      0.2983,      0.2993,      0.3003,      0.3013,      0.3023,      0.3033,      0.3043,     0.30531,     0.30631,     0.30731,     0.30831,     0.30931,     0.31031,     0.31131,\n",
       "           0.31231,     0.31331,     0.31431,     0.31532,     0.31632,     0.31732,     0.31832,     0.31932,     0.32032,     0.32132,     0.32232,     0.32332,     0.32432,     0.32533,     0.32633,     0.32733,     0.32833,     0.32933,     0.33033,     0.33133,     0.33233,     0.33333,     0.33433,     0.33534,\n",
       "           0.33634,     0.33734,     0.33834,     0.33934,     0.34034,     0.34134,     0.34234,     0.34334,     0.34434,     0.34535,     0.34635,     0.34735,     0.34835,     0.34935,     0.35035,     0.35135,     0.35235,     0.35335,     0.35435,     0.35536,     0.35636,     0.35736,     0.35836,     0.35936,\n",
       "           0.36036,     0.36136,     0.36236,     0.36336,     0.36436,     0.36537,     0.36637,     0.36737,     0.36837,     0.36937,     0.37037,     0.37137,     0.37237,     0.37337,     0.37437,     0.37538,     0.37638,     0.37738,     0.37838,     0.37938,     0.38038,     0.38138,     0.38238,     0.38338,\n",
       "           0.38438,     0.38539,     0.38639,     0.38739,     0.38839,     0.38939,     0.39039,     0.39139,     0.39239,     0.39339,     0.39439,      0.3954,      0.3964,      0.3974,      0.3984,      0.3994,      0.4004,      0.4014,      0.4024,      0.4034,      0.4044,     0.40541,     0.40641,     0.40741,\n",
       "           0.40841,     0.40941,     0.41041,     0.41141,     0.41241,     0.41341,     0.41441,     0.41542,     0.41642,     0.41742,     0.41842,     0.41942,     0.42042,     0.42142,     0.42242,     0.42342,     0.42442,     0.42543,     0.42643,     0.42743,     0.42843,     0.42943,     0.43043,     0.43143,\n",
       "           0.43243,     0.43343,     0.43443,     0.43544,     0.43644,     0.43744,     0.43844,     0.43944,     0.44044,     0.44144,     0.44244,     0.44344,     0.44444,     0.44545,     0.44645,     0.44745,     0.44845,     0.44945,     0.45045,     0.45145,     0.45245,     0.45345,     0.45445,     0.45546,\n",
       "           0.45646,     0.45746,     0.45846,     0.45946,     0.46046,     0.46146,     0.46246,     0.46346,     0.46446,     0.46547,     0.46647,     0.46747,     0.46847,     0.46947,     0.47047,     0.47147,     0.47247,     0.47347,     0.47447,     0.47548,     0.47648,     0.47748,     0.47848,     0.47948,\n",
       "           0.48048,     0.48148,     0.48248,     0.48348,     0.48448,     0.48549,     0.48649,     0.48749,     0.48849,     0.48949,     0.49049,     0.49149,     0.49249,     0.49349,     0.49449,      0.4955,      0.4965,      0.4975,      0.4985,      0.4995,      0.5005,      0.5015,      0.5025,      0.5035,\n",
       "            0.5045,     0.50551,     0.50651,     0.50751,     0.50851,     0.50951,     0.51051,     0.51151,     0.51251,     0.51351,     0.51451,     0.51552,     0.51652,     0.51752,     0.51852,     0.51952,     0.52052,     0.52152,     0.52252,     0.52352,     0.52452,     0.52553,     0.52653,     0.52753,\n",
       "           0.52853,     0.52953,     0.53053,     0.53153,     0.53253,     0.53353,     0.53453,     0.53554,     0.53654,     0.53754,     0.53854,     0.53954,     0.54054,     0.54154,     0.54254,     0.54354,     0.54454,     0.54555,     0.54655,     0.54755,     0.54855,     0.54955,     0.55055,     0.55155,\n",
       "           0.55255,     0.55355,     0.55455,     0.55556,     0.55656,     0.55756,     0.55856,     0.55956,     0.56056,     0.56156,     0.56256,     0.56356,     0.56456,     0.56557,     0.56657,     0.56757,     0.56857,     0.56957,     0.57057,     0.57157,     0.57257,     0.57357,     0.57457,     0.57558,\n",
       "           0.57658,     0.57758,     0.57858,     0.57958,     0.58058,     0.58158,     0.58258,     0.58358,     0.58458,     0.58559,     0.58659,     0.58759,     0.58859,     0.58959,     0.59059,     0.59159,     0.59259,     0.59359,     0.59459,      0.5956,      0.5966,      0.5976,      0.5986,      0.5996,\n",
       "            0.6006,      0.6016,      0.6026,      0.6036,      0.6046,     0.60561,     0.60661,     0.60761,     0.60861,     0.60961,     0.61061,     0.61161,     0.61261,     0.61361,     0.61461,     0.61562,     0.61662,     0.61762,     0.61862,     0.61962,     0.62062,     0.62162,     0.62262,     0.62362,\n",
       "           0.62462,     0.62563,     0.62663,     0.62763,     0.62863,     0.62963,     0.63063,     0.63163,     0.63263,     0.63363,     0.63463,     0.63564,     0.63664,     0.63764,     0.63864,     0.63964,     0.64064,     0.64164,     0.64264,     0.64364,     0.64464,     0.64565,     0.64665,     0.64765,\n",
       "           0.64865,     0.64965,     0.65065,     0.65165,     0.65265,     0.65365,     0.65465,     0.65566,     0.65666,     0.65766,     0.65866,     0.65966,     0.66066,     0.66166,     0.66266,     0.66366,     0.66466,     0.66567,     0.66667,     0.66767,     0.66867,     0.66967,     0.67067,     0.67167,\n",
       "           0.67267,     0.67367,     0.67467,     0.67568,     0.67668,     0.67768,     0.67868,     0.67968,     0.68068,     0.68168,     0.68268,     0.68368,     0.68468,     0.68569,     0.68669,     0.68769,     0.68869,     0.68969,     0.69069,     0.69169,     0.69269,     0.69369,     0.69469,      0.6957,\n",
       "            0.6967,      0.6977,      0.6987,      0.6997,      0.7007,      0.7017,      0.7027,      0.7037,      0.7047,     0.70571,     0.70671,     0.70771,     0.70871,     0.70971,     0.71071,     0.71171,     0.71271,     0.71371,     0.71471,     0.71572,     0.71672,     0.71772,     0.71872,     0.71972,\n",
       "           0.72072,     0.72172,     0.72272,     0.72372,     0.72472,     0.72573,     0.72673,     0.72773,     0.72873,     0.72973,     0.73073,     0.73173,     0.73273,     0.73373,     0.73473,     0.73574,     0.73674,     0.73774,     0.73874,     0.73974,     0.74074,     0.74174,     0.74274,     0.74374,\n",
       "           0.74474,     0.74575,     0.74675,     0.74775,     0.74875,     0.74975,     0.75075,     0.75175,     0.75275,     0.75375,     0.75475,     0.75576,     0.75676,     0.75776,     0.75876,     0.75976,     0.76076,     0.76176,     0.76276,     0.76376,     0.76476,     0.76577,     0.76677,     0.76777,\n",
       "           0.76877,     0.76977,     0.77077,     0.77177,     0.77277,     0.77377,     0.77477,     0.77578,     0.77678,     0.77778,     0.77878,     0.77978,     0.78078,     0.78178,     0.78278,     0.78378,     0.78478,     0.78579,     0.78679,     0.78779,     0.78879,     0.78979,     0.79079,     0.79179,\n",
       "           0.79279,     0.79379,     0.79479,      0.7958,      0.7968,      0.7978,      0.7988,      0.7998,      0.8008,      0.8018,      0.8028,      0.8038,      0.8048,     0.80581,     0.80681,     0.80781,     0.80881,     0.80981,     0.81081,     0.81181,     0.81281,     0.81381,     0.81481,     0.81582,\n",
       "           0.81682,     0.81782,     0.81882,     0.81982,     0.82082,     0.82182,     0.82282,     0.82382,     0.82482,     0.82583,     0.82683,     0.82783,     0.82883,     0.82983,     0.83083,     0.83183,     0.83283,     0.83383,     0.83483,     0.83584,     0.83684,     0.83784,     0.83884,     0.83984,\n",
       "           0.84084,     0.84184,     0.84284,     0.84384,     0.84484,     0.84585,     0.84685,     0.84785,     0.84885,     0.84985,     0.85085,     0.85185,     0.85285,     0.85385,     0.85485,     0.85586,     0.85686,     0.85786,     0.85886,     0.85986,     0.86086,     0.86186,     0.86286,     0.86386,\n",
       "           0.86486,     0.86587,     0.86687,     0.86787,     0.86887,     0.86987,     0.87087,     0.87187,     0.87287,     0.87387,     0.87487,     0.87588,     0.87688,     0.87788,     0.87888,     0.87988,     0.88088,     0.88188,     0.88288,     0.88388,     0.88488,     0.88589,     0.88689,     0.88789,\n",
       "           0.88889,     0.88989,     0.89089,     0.89189,     0.89289,     0.89389,     0.89489,      0.8959,      0.8969,      0.8979,      0.8989,      0.8999,      0.9009,      0.9019,      0.9029,      0.9039,      0.9049,     0.90591,     0.90691,     0.90791,     0.90891,     0.90991,     0.91091,     0.91191,\n",
       "           0.91291,     0.91391,     0.91491,     0.91592,     0.91692,     0.91792,     0.91892,     0.91992,     0.92092,     0.92192,     0.92292,     0.92392,     0.92492,     0.92593,     0.92693,     0.92793,     0.92893,     0.92993,     0.93093,     0.93193,     0.93293,     0.93393,     0.93493,     0.93594,\n",
       "           0.93694,     0.93794,     0.93894,     0.93994,     0.94094,     0.94194,     0.94294,     0.94394,     0.94494,     0.94595,     0.94695,     0.94795,     0.94895,     0.94995,     0.95095,     0.95195,     0.95295,     0.95395,     0.95495,     0.95596,     0.95696,     0.95796,     0.95896,     0.95996,\n",
       "           0.96096,     0.96196,     0.96296,     0.96396,     0.96496,     0.96597,     0.96697,     0.96797,     0.96897,     0.96997,     0.97097,     0.97197,     0.97297,     0.97397,     0.97497,     0.97598,     0.97698,     0.97798,     0.97898,     0.97998,     0.98098,     0.98198,     0.98298,     0.98398,\n",
       "           0.98498,     0.98599,     0.98699,     0.98799,     0.98899,     0.98999,     0.99099,     0.99199,     0.99299,     0.99399,     0.99499,       0.996,       0.997,       0.998,       0.999,           1]), array([[          1,           1,     0.98643,     0.98643,     0.98643,     0.98643,     0.98643,     0.98643,     0.98643,     0.98643,     0.98643,     0.98643,     0.98643,     0.98643,     0.98643,     0.98643,     0.98643,     0.98643,     0.98643,     0.98643,     0.98643,     0.98643,     0.98643,\n",
       "            0.98643,     0.98643,     0.98643,     0.98643,     0.98643,     0.98643,     0.98643,     0.98643,     0.98643,     0.98643,     0.98643,     0.98643,     0.98643,     0.98643,     0.98643,     0.98643,     0.98643,     0.98643,     0.98643,     0.98643,     0.98643,     0.98643,     0.98643,\n",
       "            0.98643,     0.98643,     0.98643,     0.98643,     0.98643,     0.98643,     0.98643,     0.98643,     0.98643,     0.98643,     0.98643,     0.98643,     0.98643,     0.98643,     0.98643,     0.98643,     0.98643,     0.98643,     0.98643,     0.98643,     0.98643,     0.98643,     0.98564,\n",
       "            0.98564,     0.98489,     0.98489,     0.98489,     0.98281,     0.98281,     0.98281,     0.98281,     0.98281,     0.98281,     0.98281,     0.98281,     0.98281,     0.98281,     0.98281,     0.98281,        0.98,        0.98,     0.97898,     0.97898,     0.97898,     0.97898,     0.97849,\n",
       "            0.97849,     0.97797,     0.97797,     0.97628,     0.97512,     0.97512,     0.97502,     0.97502,     0.97502,     0.97502,     0.97502,     0.97502,     0.97502,     0.97502,     0.97502,     0.97502,     0.97502,     0.97502,     0.97502,     0.97502,      0.9746,      0.9746,      0.9746,\n",
       "             0.9746,      0.9746,      0.9746,     0.97342,     0.97274,     0.97274,     0.97274,     0.97274,     0.97274,     0.97274,     0.97274,     0.97236,     0.97236,     0.97236,     0.97236,     0.97236,     0.97209,     0.97209,     0.97164,     0.97118,     0.97113,     0.97113,     0.97057,\n",
       "            0.97011,     0.96929,     0.96929,     0.96901,     0.96901,     0.96901,     0.96901,     0.96901,     0.96901,     0.96901,     0.96901,     0.96901,     0.96901,     0.96901,     0.96901,     0.96901,     0.96877,     0.96871,     0.96871,     0.96871,      0.9685,      0.9685,     0.96814,\n",
       "            0.96809,     0.96809,     0.96809,     0.96809,     0.96809,     0.96803,     0.96803,     0.96803,     0.96803,     0.96803,     0.96784,     0.96784,     0.96758,     0.96758,     0.96758,     0.96758,     0.96758,     0.96758,     0.96758,     0.96749,     0.96749,     0.96725,     0.96725,\n",
       "             0.9667,      0.9667,     0.96659,     0.96659,     0.96659,     0.96659,     0.96659,     0.96659,     0.96659,     0.96659,     0.96659,     0.96659,     0.96659,     0.96659,     0.96659,     0.96659,     0.96659,      0.9664,      0.9664,      0.9663,      0.9663,     0.96522,     0.96421,\n",
       "            0.96304,     0.96282,     0.96214,     0.96192,     0.96192,     0.96192,     0.96163,     0.96163,     0.96163,     0.96163,     0.96163,     0.96163,     0.96163,     0.96163,     0.96151,     0.96094,      0.9606,     0.95932,     0.95915,     0.95903,     0.95903,     0.95903,     0.95903,\n",
       "            0.95903,     0.95903,     0.95903,     0.95903,     0.95903,     0.95903,     0.95903,     0.95903,     0.95903,     0.95903,     0.95903,     0.95903,     0.95903,      0.9585,     0.95826,     0.95773,     0.95765,     0.95755,     0.95755,     0.95718,     0.95718,     0.95718,     0.95718,\n",
       "            0.95701,     0.95581,     0.95572,     0.95516,     0.95474,     0.95474,     0.95474,     0.95474,     0.95474,     0.95474,     0.95474,     0.95473,     0.95473,     0.95411,     0.95411,     0.95411,     0.95411,     0.95378,     0.95358,     0.95358,     0.95358,     0.95358,     0.95358,\n",
       "            0.95358,     0.95358,     0.95358,     0.95358,     0.95358,     0.95358,     0.95351,     0.95287,     0.95287,     0.95287,     0.95287,     0.95287,     0.95287,     0.95287,     0.95287,     0.95287,     0.95267,     0.95267,     0.95267,     0.95234,     0.95156,     0.95128,     0.95108,\n",
       "            0.95108,     0.95108,     0.95055,     0.95055,     0.94957,     0.94957,     0.94943,     0.94908,     0.94908,     0.94908,     0.94865,     0.94865,     0.94847,     0.94775,     0.94716,     0.94705,     0.94677,     0.94677,     0.94677,     0.94669,     0.94655,     0.94642,     0.94602,\n",
       "            0.94602,     0.94602,     0.94602,     0.94566,     0.94502,     0.94502,     0.94462,     0.94439,     0.94422,     0.94398,     0.94398,     0.94398,     0.94389,     0.94386,     0.94386,     0.94386,     0.94348,      0.9434,     0.94314,     0.94283,     0.94222,      0.9421,      0.9421,\n",
       "             0.9418,     0.94153,     0.94153,     0.94153,     0.94069,     0.94064,     0.94039,     0.93967,     0.93937,     0.93922,     0.93922,     0.93902,     0.93902,     0.93842,     0.93834,     0.93834,     0.93787,     0.93787,     0.93772,     0.93751,     0.93738,     0.93706,     0.93688,\n",
       "            0.93688,     0.93688,     0.93678,     0.93655,     0.93654,     0.93619,     0.93534,     0.93534,     0.93534,     0.93534,     0.93509,     0.93482,     0.93482,     0.93453,     0.93445,     0.93415,      0.9339,      0.9339,      0.9338,     0.93339,      0.9333,     0.93308,     0.93304,\n",
       "            0.93301,     0.93289,     0.93233,     0.93233,     0.93214,      0.9319,      0.9318,      0.9318,      0.9318,      0.9318,      0.9318,      0.9318,      0.9318,      0.9318,      0.9318,     0.93175,     0.93128,     0.93122,     0.93111,     0.93111,     0.93111,     0.93072,     0.93059,\n",
       "            0.93059,     0.93035,     0.93029,     0.93029,     0.93029,     0.93029,     0.93029,     0.93029,     0.93029,     0.92996,     0.92987,      0.9298,      0.9298,     0.92975,      0.9294,      0.9291,     0.92904,     0.92904,     0.92883,     0.92844,     0.92843,     0.92799,     0.92797,\n",
       "            0.92741,     0.92702,     0.92644,     0.92644,     0.92644,     0.92644,     0.92641,     0.92597,     0.92595,     0.92595,      0.9254,      0.9254,     0.92535,     0.92522,     0.92521,     0.92521,     0.92521,     0.92452,      0.9236,     0.92254,      0.9224,      0.9224,     0.92238,\n",
       "            0.92162,      0.9214,     0.92129,     0.92111,     0.92043,     0.92037,     0.92007,     0.92007,     0.91925,     0.91872,     0.91867,     0.91857,     0.91853,     0.91815,     0.91801,      0.9175,      0.9175,     0.91748,      0.9172,     0.91689,     0.91687,     0.91636,     0.91616,\n",
       "            0.91616,     0.91616,     0.91616,     0.91607,     0.91599,     0.91577,     0.91577,     0.91569,     0.91536,     0.91521,     0.91521,      0.9149,     0.91489,     0.91447,     0.91404,     0.91404,     0.91404,     0.91404,     0.91404,     0.91375,     0.91375,     0.91375,      0.9137,\n",
       "            0.91328,     0.91328,     0.91309,     0.91281,     0.91281,     0.91281,     0.91274,     0.91274,     0.91264,     0.91223,     0.91221,     0.91183,     0.91178,     0.91178,     0.91128,     0.91124,     0.91078,     0.91071,     0.91038,     0.91033,     0.91018,     0.90985,     0.90939,\n",
       "            0.90928,     0.90882,     0.90876,     0.90869,      0.9084,     0.90839,     0.90804,     0.90761,     0.90686,     0.90682,     0.90682,     0.90682,     0.90674,     0.90652,     0.90635,     0.90635,     0.90582,     0.90582,     0.90582,     0.90533,      0.9052,     0.90497,     0.90466,\n",
       "            0.90426,     0.90425,     0.90425,     0.90411,     0.90406,     0.90342,     0.90329,     0.90279,     0.90273,     0.90256,     0.90245,     0.90219,     0.90207,     0.90198,     0.90189,     0.90172,      0.9016,      0.9016,      0.9013,     0.90122,     0.90122,     0.90099,     0.90048,\n",
       "            0.90043,     0.90043,     0.90043,     0.90019,     0.89986,     0.89961,      0.8994,     0.89914,     0.89899,     0.89891,     0.89891,     0.89887,     0.89866,     0.89847,     0.89847,     0.89847,     0.89844,     0.89817,     0.89817,     0.89794,     0.89672,     0.89661,     0.89661,\n",
       "            0.89661,     0.89661,      0.8965,      0.8965,      0.8965,     0.89635,     0.89613,     0.89599,     0.89571,     0.89513,     0.89469,     0.89446,     0.89446,     0.89407,     0.89382,     0.89381,     0.89345,     0.89305,     0.89255,     0.89244,     0.89242,     0.89172,     0.89156,\n",
       "            0.89141,     0.89099,     0.89012,     0.88972,     0.88959,     0.88903,     0.88874,     0.88855,     0.88846,     0.88846,     0.88846,     0.88831,     0.88831,     0.88831,     0.88823,     0.88784,     0.88763,     0.88695,     0.88672,     0.88599,     0.88599,     0.88599,     0.88599,\n",
       "            0.88589,     0.88573,     0.88559,     0.88552,     0.88531,     0.88526,     0.88487,     0.88487,     0.88469,     0.88455,     0.88389,     0.88365,     0.88304,     0.88295,     0.88264,     0.88249,     0.88227,     0.88214,     0.88194,     0.88136,     0.88127,     0.88121,     0.88098,\n",
       "            0.88075,     0.88042,     0.88021,        0.88,     0.87933,     0.87904,     0.87867,     0.87828,     0.87768,     0.87768,     0.87761,     0.87702,     0.87676,     0.87592,     0.87583,     0.87559,     0.87534,     0.87488,     0.87437,     0.87412,     0.87379,     0.87314,     0.87258,\n",
       "            0.87214,     0.87194,     0.87177,     0.87171,     0.87153,     0.87118,     0.87115,     0.87105,     0.87105,     0.87071,      0.8707,      0.8707,     0.87054,     0.87054,     0.87048,     0.87046,     0.87027,     0.87014,     0.87014,      0.8699,     0.86966,     0.86934,     0.86928,\n",
       "            0.86903,     0.86821,     0.86818,     0.86813,       0.868,     0.86778,     0.86668,     0.86647,     0.86643,     0.86622,     0.86541,     0.86519,     0.86478,     0.86466,     0.86434,     0.86383,     0.86334,      0.8632,      0.8628,     0.86269,     0.86193,     0.86152,     0.86112,\n",
       "            0.86088,     0.86088,     0.85982,     0.85925,     0.85881,     0.85857,      0.8578,     0.85751,     0.85704,     0.85657,     0.85608,     0.85608,     0.85581,      0.8555,     0.85487,     0.85432,     0.85384,     0.85379,     0.85355,     0.85308,      0.8523,     0.85156,     0.85128,\n",
       "            0.85073,     0.84995,     0.84933,     0.84864,     0.84801,     0.84788,     0.84767,     0.84741,     0.84712,      0.8466,     0.84633,     0.84494,      0.8446,     0.84357,     0.84298,     0.84273,     0.84231,     0.84188,     0.84109,     0.84054,     0.83929,     0.83842,     0.83806,\n",
       "            0.83759,     0.83717,      0.8366,     0.83611,     0.83579,     0.83502,     0.83456,     0.83434,     0.83369,     0.83307,     0.83212,     0.83127,     0.83061,     0.82967,     0.82849,     0.82746,     0.82688,     0.82669,     0.82611,     0.82544,     0.82476,     0.82422,      0.8233,\n",
       "            0.82266,     0.82234,     0.82172,     0.82147,      0.8211,     0.81998,     0.81886,     0.81737,     0.81672,     0.81613,     0.81543,     0.81458,     0.81385,     0.81244,     0.81158,     0.81051,     0.80983,     0.80892,     0.80805,      0.8075,     0.80713,      0.8063,     0.80546,\n",
       "            0.80464,     0.80337,     0.80227,     0.80111,     0.80025,     0.79933,     0.79927,     0.79846,     0.79809,     0.79774,     0.79708,     0.79614,     0.79517,     0.79451,     0.79388,      0.7927,      0.7919,     0.79062,     0.78978,     0.78977,     0.78868,     0.78733,     0.78656,\n",
       "            0.78477,     0.78335,     0.78216,     0.78106,     0.77912,       0.777,     0.77542,     0.77388,     0.77215,     0.77025,     0.76942,     0.76855,     0.76737,     0.76647,     0.76559,     0.76418,     0.76375,     0.76253,     0.76157,     0.76024,     0.75964,     0.75808,      0.7575,\n",
       "            0.75578,      0.7543,     0.75153,     0.75047,     0.74862,     0.74709,     0.74462,     0.74319,      0.7408,     0.73895,     0.73695,     0.73564,     0.73504,     0.73286,     0.73141,     0.72909,     0.72667,     0.72487,     0.72293,     0.72205,      0.7197,     0.71817,     0.71682,\n",
       "            0.71418,     0.71219,     0.71096,     0.70794,     0.70677,     0.70558,     0.70407,     0.70187,      0.6994,     0.69784,     0.69521,     0.69333,     0.69063,     0.68929,     0.68734,     0.68441,     0.68226,     0.67966,     0.67619,     0.67418,     0.67172,     0.66745,     0.66437,\n",
       "            0.66179,     0.66063,     0.65887,     0.65717,     0.65457,      0.6502,     0.64301,     0.64002,     0.63775,     0.63414,     0.63271,     0.62813,     0.62502,     0.62226,     0.61849,     0.61254,     0.60747,     0.60461,     0.60085,     0.59775,       0.593,     0.59009,     0.58473,\n",
       "             0.5799,     0.57757,      0.5731,     0.56878,     0.56171,     0.55432,     0.54571,     0.53752,     0.53255,     0.52328,     0.51167,      0.5047,     0.50126,     0.49419,     0.48862,     0.48352,     0.47401,     0.46481,     0.45519,     0.44842,     0.44249,      0.4363,     0.42752,\n",
       "            0.41779,     0.40538,     0.39522,     0.38887,      0.3774,     0.35489,     0.33759,     0.32237,     0.29134,      0.2733,     0.26191,     0.25053,     0.23914,     0.22775,     0.21636,     0.20498,     0.19359,      0.1822,     0.17081,     0.15943,     0.14804,     0.13665,     0.12526,\n",
       "            0.11388,     0.10249,      0.0911,    0.079713,    0.068325,    0.056938,     0.04555,    0.034163,    0.022775,    0.011388,           0]]), 'Recall', 'Precision'], [array([          0,    0.001001,    0.002002,    0.003003,    0.004004,    0.005005,    0.006006,    0.007007,    0.008008,    0.009009,     0.01001,    0.011011,    0.012012,    0.013013,    0.014014,    0.015015,    0.016016,    0.017017,    0.018018,    0.019019,     0.02002,    0.021021,    0.022022,    0.023023,\n",
       "          0.024024,    0.025025,    0.026026,    0.027027,    0.028028,    0.029029,     0.03003,    0.031031,    0.032032,    0.033033,    0.034034,    0.035035,    0.036036,    0.037037,    0.038038,    0.039039,     0.04004,    0.041041,    0.042042,    0.043043,    0.044044,    0.045045,    0.046046,    0.047047,\n",
       "          0.048048,    0.049049,     0.05005,    0.051051,    0.052052,    0.053053,    0.054054,    0.055055,    0.056056,    0.057057,    0.058058,    0.059059,     0.06006,    0.061061,    0.062062,    0.063063,    0.064064,    0.065065,    0.066066,    0.067067,    0.068068,    0.069069,     0.07007,    0.071071,\n",
       "          0.072072,    0.073073,    0.074074,    0.075075,    0.076076,    0.077077,    0.078078,    0.079079,     0.08008,    0.081081,    0.082082,    0.083083,    0.084084,    0.085085,    0.086086,    0.087087,    0.088088,    0.089089,     0.09009,    0.091091,    0.092092,    0.093093,    0.094094,    0.095095,\n",
       "          0.096096,    0.097097,    0.098098,    0.099099,      0.1001,      0.1011,      0.1021,      0.1031,      0.1041,     0.10511,     0.10611,     0.10711,     0.10811,     0.10911,     0.11011,     0.11111,     0.11211,     0.11311,     0.11411,     0.11512,     0.11612,     0.11712,     0.11812,     0.11912,\n",
       "           0.12012,     0.12112,     0.12212,     0.12312,     0.12412,     0.12513,     0.12613,     0.12713,     0.12813,     0.12913,     0.13013,     0.13113,     0.13213,     0.13313,     0.13413,     0.13514,     0.13614,     0.13714,     0.13814,     0.13914,     0.14014,     0.14114,     0.14214,     0.14314,\n",
       "           0.14414,     0.14515,     0.14615,     0.14715,     0.14815,     0.14915,     0.15015,     0.15115,     0.15215,     0.15315,     0.15415,     0.15516,     0.15616,     0.15716,     0.15816,     0.15916,     0.16016,     0.16116,     0.16216,     0.16316,     0.16416,     0.16517,     0.16617,     0.16717,\n",
       "           0.16817,     0.16917,     0.17017,     0.17117,     0.17217,     0.17317,     0.17417,     0.17518,     0.17618,     0.17718,     0.17818,     0.17918,     0.18018,     0.18118,     0.18218,     0.18318,     0.18418,     0.18519,     0.18619,     0.18719,     0.18819,     0.18919,     0.19019,     0.19119,\n",
       "           0.19219,     0.19319,     0.19419,      0.1952,      0.1962,      0.1972,      0.1982,      0.1992,      0.2002,      0.2012,      0.2022,      0.2032,      0.2042,     0.20521,     0.20621,     0.20721,     0.20821,     0.20921,     0.21021,     0.21121,     0.21221,     0.21321,     0.21421,     0.21522,\n",
       "           0.21622,     0.21722,     0.21822,     0.21922,     0.22022,     0.22122,     0.22222,     0.22322,     0.22422,     0.22523,     0.22623,     0.22723,     0.22823,     0.22923,     0.23023,     0.23123,     0.23223,     0.23323,     0.23423,     0.23524,     0.23624,     0.23724,     0.23824,     0.23924,\n",
       "           0.24024,     0.24124,     0.24224,     0.24324,     0.24424,     0.24525,     0.24625,     0.24725,     0.24825,     0.24925,     0.25025,     0.25125,     0.25225,     0.25325,     0.25425,     0.25526,     0.25626,     0.25726,     0.25826,     0.25926,     0.26026,     0.26126,     0.26226,     0.26326,\n",
       "           0.26426,     0.26527,     0.26627,     0.26727,     0.26827,     0.26927,     0.27027,     0.27127,     0.27227,     0.27327,     0.27427,     0.27528,     0.27628,     0.27728,     0.27828,     0.27928,     0.28028,     0.28128,     0.28228,     0.28328,     0.28428,     0.28529,     0.28629,     0.28729,\n",
       "           0.28829,     0.28929,     0.29029,     0.29129,     0.29229,     0.29329,     0.29429,      0.2953,      0.2963,      0.2973,      0.2983,      0.2993,      0.3003,      0.3013,      0.3023,      0.3033,      0.3043,     0.30531,     0.30631,     0.30731,     0.30831,     0.30931,     0.31031,     0.31131,\n",
       "           0.31231,     0.31331,     0.31431,     0.31532,     0.31632,     0.31732,     0.31832,     0.31932,     0.32032,     0.32132,     0.32232,     0.32332,     0.32432,     0.32533,     0.32633,     0.32733,     0.32833,     0.32933,     0.33033,     0.33133,     0.33233,     0.33333,     0.33433,     0.33534,\n",
       "           0.33634,     0.33734,     0.33834,     0.33934,     0.34034,     0.34134,     0.34234,     0.34334,     0.34434,     0.34535,     0.34635,     0.34735,     0.34835,     0.34935,     0.35035,     0.35135,     0.35235,     0.35335,     0.35435,     0.35536,     0.35636,     0.35736,     0.35836,     0.35936,\n",
       "           0.36036,     0.36136,     0.36236,     0.36336,     0.36436,     0.36537,     0.36637,     0.36737,     0.36837,     0.36937,     0.37037,     0.37137,     0.37237,     0.37337,     0.37437,     0.37538,     0.37638,     0.37738,     0.37838,     0.37938,     0.38038,     0.38138,     0.38238,     0.38338,\n",
       "           0.38438,     0.38539,     0.38639,     0.38739,     0.38839,     0.38939,     0.39039,     0.39139,     0.39239,     0.39339,     0.39439,      0.3954,      0.3964,      0.3974,      0.3984,      0.3994,      0.4004,      0.4014,      0.4024,      0.4034,      0.4044,     0.40541,     0.40641,     0.40741,\n",
       "           0.40841,     0.40941,     0.41041,     0.41141,     0.41241,     0.41341,     0.41441,     0.41542,     0.41642,     0.41742,     0.41842,     0.41942,     0.42042,     0.42142,     0.42242,     0.42342,     0.42442,     0.42543,     0.42643,     0.42743,     0.42843,     0.42943,     0.43043,     0.43143,\n",
       "           0.43243,     0.43343,     0.43443,     0.43544,     0.43644,     0.43744,     0.43844,     0.43944,     0.44044,     0.44144,     0.44244,     0.44344,     0.44444,     0.44545,     0.44645,     0.44745,     0.44845,     0.44945,     0.45045,     0.45145,     0.45245,     0.45345,     0.45445,     0.45546,\n",
       "           0.45646,     0.45746,     0.45846,     0.45946,     0.46046,     0.46146,     0.46246,     0.46346,     0.46446,     0.46547,     0.46647,     0.46747,     0.46847,     0.46947,     0.47047,     0.47147,     0.47247,     0.47347,     0.47447,     0.47548,     0.47648,     0.47748,     0.47848,     0.47948,\n",
       "           0.48048,     0.48148,     0.48248,     0.48348,     0.48448,     0.48549,     0.48649,     0.48749,     0.48849,     0.48949,     0.49049,     0.49149,     0.49249,     0.49349,     0.49449,      0.4955,      0.4965,      0.4975,      0.4985,      0.4995,      0.5005,      0.5015,      0.5025,      0.5035,\n",
       "            0.5045,     0.50551,     0.50651,     0.50751,     0.50851,     0.50951,     0.51051,     0.51151,     0.51251,     0.51351,     0.51451,     0.51552,     0.51652,     0.51752,     0.51852,     0.51952,     0.52052,     0.52152,     0.52252,     0.52352,     0.52452,     0.52553,     0.52653,     0.52753,\n",
       "           0.52853,     0.52953,     0.53053,     0.53153,     0.53253,     0.53353,     0.53453,     0.53554,     0.53654,     0.53754,     0.53854,     0.53954,     0.54054,     0.54154,     0.54254,     0.54354,     0.54454,     0.54555,     0.54655,     0.54755,     0.54855,     0.54955,     0.55055,     0.55155,\n",
       "           0.55255,     0.55355,     0.55455,     0.55556,     0.55656,     0.55756,     0.55856,     0.55956,     0.56056,     0.56156,     0.56256,     0.56356,     0.56456,     0.56557,     0.56657,     0.56757,     0.56857,     0.56957,     0.57057,     0.57157,     0.57257,     0.57357,     0.57457,     0.57558,\n",
       "           0.57658,     0.57758,     0.57858,     0.57958,     0.58058,     0.58158,     0.58258,     0.58358,     0.58458,     0.58559,     0.58659,     0.58759,     0.58859,     0.58959,     0.59059,     0.59159,     0.59259,     0.59359,     0.59459,      0.5956,      0.5966,      0.5976,      0.5986,      0.5996,\n",
       "            0.6006,      0.6016,      0.6026,      0.6036,      0.6046,     0.60561,     0.60661,     0.60761,     0.60861,     0.60961,     0.61061,     0.61161,     0.61261,     0.61361,     0.61461,     0.61562,     0.61662,     0.61762,     0.61862,     0.61962,     0.62062,     0.62162,     0.62262,     0.62362,\n",
       "           0.62462,     0.62563,     0.62663,     0.62763,     0.62863,     0.62963,     0.63063,     0.63163,     0.63263,     0.63363,     0.63463,     0.63564,     0.63664,     0.63764,     0.63864,     0.63964,     0.64064,     0.64164,     0.64264,     0.64364,     0.64464,     0.64565,     0.64665,     0.64765,\n",
       "           0.64865,     0.64965,     0.65065,     0.65165,     0.65265,     0.65365,     0.65465,     0.65566,     0.65666,     0.65766,     0.65866,     0.65966,     0.66066,     0.66166,     0.66266,     0.66366,     0.66466,     0.66567,     0.66667,     0.66767,     0.66867,     0.66967,     0.67067,     0.67167,\n",
       "           0.67267,     0.67367,     0.67467,     0.67568,     0.67668,     0.67768,     0.67868,     0.67968,     0.68068,     0.68168,     0.68268,     0.68368,     0.68468,     0.68569,     0.68669,     0.68769,     0.68869,     0.68969,     0.69069,     0.69169,     0.69269,     0.69369,     0.69469,      0.6957,\n",
       "            0.6967,      0.6977,      0.6987,      0.6997,      0.7007,      0.7017,      0.7027,      0.7037,      0.7047,     0.70571,     0.70671,     0.70771,     0.70871,     0.70971,     0.71071,     0.71171,     0.71271,     0.71371,     0.71471,     0.71572,     0.71672,     0.71772,     0.71872,     0.71972,\n",
       "           0.72072,     0.72172,     0.72272,     0.72372,     0.72472,     0.72573,     0.72673,     0.72773,     0.72873,     0.72973,     0.73073,     0.73173,     0.73273,     0.73373,     0.73473,     0.73574,     0.73674,     0.73774,     0.73874,     0.73974,     0.74074,     0.74174,     0.74274,     0.74374,\n",
       "           0.74474,     0.74575,     0.74675,     0.74775,     0.74875,     0.74975,     0.75075,     0.75175,     0.75275,     0.75375,     0.75475,     0.75576,     0.75676,     0.75776,     0.75876,     0.75976,     0.76076,     0.76176,     0.76276,     0.76376,     0.76476,     0.76577,     0.76677,     0.76777,\n",
       "           0.76877,     0.76977,     0.77077,     0.77177,     0.77277,     0.77377,     0.77477,     0.77578,     0.77678,     0.77778,     0.77878,     0.77978,     0.78078,     0.78178,     0.78278,     0.78378,     0.78478,     0.78579,     0.78679,     0.78779,     0.78879,     0.78979,     0.79079,     0.79179,\n",
       "           0.79279,     0.79379,     0.79479,      0.7958,      0.7968,      0.7978,      0.7988,      0.7998,      0.8008,      0.8018,      0.8028,      0.8038,      0.8048,     0.80581,     0.80681,     0.80781,     0.80881,     0.80981,     0.81081,     0.81181,     0.81281,     0.81381,     0.81481,     0.81582,\n",
       "           0.81682,     0.81782,     0.81882,     0.81982,     0.82082,     0.82182,     0.82282,     0.82382,     0.82482,     0.82583,     0.82683,     0.82783,     0.82883,     0.82983,     0.83083,     0.83183,     0.83283,     0.83383,     0.83483,     0.83584,     0.83684,     0.83784,     0.83884,     0.83984,\n",
       "           0.84084,     0.84184,     0.84284,     0.84384,     0.84484,     0.84585,     0.84685,     0.84785,     0.84885,     0.84985,     0.85085,     0.85185,     0.85285,     0.85385,     0.85485,     0.85586,     0.85686,     0.85786,     0.85886,     0.85986,     0.86086,     0.86186,     0.86286,     0.86386,\n",
       "           0.86486,     0.86587,     0.86687,     0.86787,     0.86887,     0.86987,     0.87087,     0.87187,     0.87287,     0.87387,     0.87487,     0.87588,     0.87688,     0.87788,     0.87888,     0.87988,     0.88088,     0.88188,     0.88288,     0.88388,     0.88488,     0.88589,     0.88689,     0.88789,\n",
       "           0.88889,     0.88989,     0.89089,     0.89189,     0.89289,     0.89389,     0.89489,      0.8959,      0.8969,      0.8979,      0.8989,      0.8999,      0.9009,      0.9019,      0.9029,      0.9039,      0.9049,     0.90591,     0.90691,     0.90791,     0.90891,     0.90991,     0.91091,     0.91191,\n",
       "           0.91291,     0.91391,     0.91491,     0.91592,     0.91692,     0.91792,     0.91892,     0.91992,     0.92092,     0.92192,     0.92292,     0.92392,     0.92492,     0.92593,     0.92693,     0.92793,     0.92893,     0.92993,     0.93093,     0.93193,     0.93293,     0.93393,     0.93493,     0.93594,\n",
       "           0.93694,     0.93794,     0.93894,     0.93994,     0.94094,     0.94194,     0.94294,     0.94394,     0.94494,     0.94595,     0.94695,     0.94795,     0.94895,     0.94995,     0.95095,     0.95195,     0.95295,     0.95395,     0.95495,     0.95596,     0.95696,     0.95796,     0.95896,     0.95996,\n",
       "           0.96096,     0.96196,     0.96296,     0.96396,     0.96496,     0.96597,     0.96697,     0.96797,     0.96897,     0.96997,     0.97097,     0.97197,     0.97297,     0.97397,     0.97497,     0.97598,     0.97698,     0.97798,     0.97898,     0.97998,     0.98098,     0.98198,     0.98298,     0.98398,\n",
       "           0.98498,     0.98599,     0.98699,     0.98799,     0.98899,     0.98999,     0.99099,     0.99199,     0.99299,     0.99399,     0.99499,       0.996,       0.997,       0.998,       0.999,           1]), array([[    0.43904,     0.43904,     0.44307,     0.44887,      0.4566,     0.46562,     0.47277,     0.47913,     0.48534,     0.49089,     0.49675,     0.50246,     0.50803,     0.51337,     0.51897,     0.52374,     0.52886,     0.53363,     0.53799,     0.54206,     0.54649,     0.54974,     0.55333,\n",
       "            0.55659,     0.55955,     0.56281,     0.56592,     0.56936,     0.57304,     0.57643,     0.57894,     0.58181,     0.58455,     0.58774,     0.59044,     0.59293,     0.59545,     0.59798,     0.60059,      0.6028,     0.60585,     0.60795,     0.60988,     0.61237,     0.61452,     0.61652,\n",
       "            0.61853,     0.62033,     0.62249,      0.6249,     0.62744,     0.62938,     0.63152,     0.63374,     0.63556,     0.63764,     0.63938,     0.64097,     0.64292,     0.64461,     0.64639,     0.64779,     0.64941,     0.65157,     0.65304,     0.65493,      0.6566,     0.65789,     0.65991,\n",
       "            0.66116,     0.66253,     0.66392,     0.66522,     0.66669,     0.66828,     0.67003,     0.67127,     0.67292,     0.67464,     0.67602,     0.67774,     0.67919,     0.68051,     0.68184,      0.6832,     0.68504,     0.68604,     0.68716,     0.68845,     0.68938,     0.69125,     0.69245,\n",
       "            0.69374,     0.69499,     0.69613,     0.69712,     0.69812,     0.69952,     0.70053,     0.70142,     0.70249,     0.70373,     0.70487,     0.70586,     0.70661,     0.70761,     0.70842,     0.70983,     0.71086,     0.71197,     0.71277,      0.7136,     0.71439,       0.715,      0.7158,\n",
       "            0.71636,     0.71729,     0.71811,     0.71895,     0.71961,     0.72061,     0.72154,     0.72216,     0.72323,     0.72391,     0.72481,     0.72565,     0.72634,     0.72738,     0.72763,     0.72845,     0.72895,     0.72992,     0.73079,     0.73115,     0.73185,     0.73263,     0.73303,\n",
       "            0.73364,     0.73415,      0.7349,     0.73538,     0.73604,     0.73667,     0.73715,     0.73806,     0.73886,     0.73954,     0.74023,      0.7407,     0.74131,     0.74164,      0.7426,     0.74302,     0.74359,     0.74446,     0.74509,     0.74577,     0.74602,     0.74638,     0.74686,\n",
       "            0.74766,     0.74827,      0.7486,     0.74945,     0.74989,     0.75033,     0.75057,     0.75099,      0.7518,     0.75263,       0.753,     0.75356,     0.75356,     0.75408,     0.75452,     0.75513,     0.75546,     0.75603,     0.75625,     0.75674,     0.75702,      0.7574,     0.75791,\n",
       "            0.75825,     0.75894,     0.75923,     0.75988,     0.76023,     0.76091,     0.76141,     0.76183,      0.7629,     0.76325,     0.76339,      0.7639,     0.76453,     0.76476,     0.76522,     0.76548,     0.76615,     0.76665,     0.76702,     0.76765,     0.76775,     0.76803,     0.76831,\n",
       "            0.76875,     0.76919,     0.76931,      0.7696,     0.76969,     0.77013,      0.7703,     0.77081,     0.77112,     0.77171,     0.77201,     0.77242,      0.7728,     0.77333,     0.77374,      0.7742,     0.77457,     0.77517,      0.7757,     0.77618,     0.77638,     0.77684,     0.77701,\n",
       "            0.77773,     0.77791,     0.77816,     0.77845,     0.77899,     0.77944,     0.77971,     0.78039,     0.78048,     0.78066,     0.78128,      0.7817,     0.78199,     0.78233,     0.78244,     0.78279,     0.78291,     0.78327,     0.78383,     0.78406,     0.78462,     0.78467,     0.78479,\n",
       "            0.78497,     0.78496,     0.78527,     0.78573,     0.78585,       0.786,      0.7866,     0.78686,     0.78726,     0.78747,     0.78755,     0.78781,      0.7883,     0.78833,     0.78857,     0.78908,     0.78935,     0.78942,     0.78957,     0.78992,     0.79008,     0.79047,     0.79091,\n",
       "            0.79113,     0.79129,     0.79136,     0.79193,     0.79202,     0.79213,     0.79253,     0.79259,      0.7926,     0.79273,     0.79292,     0.79313,     0.79353,     0.79386,     0.79414,      0.7942,     0.79429,     0.79439,     0.79468,     0.79492,       0.795,     0.79516,     0.79554,\n",
       "            0.79591,     0.79609,     0.79639,     0.79654,     0.79681,     0.79679,     0.79704,     0.79725,     0.79751,      0.7977,     0.79765,     0.79784,     0.79799,     0.79841,      0.7985,     0.79882,     0.79892,     0.79899,     0.79905,     0.79907,     0.79939,     0.79956,     0.79995,\n",
       "            0.80027,     0.80032,     0.80049,     0.80067,     0.80095,      0.8011,     0.80131,      0.8014,     0.80159,     0.80167,     0.80163,     0.80177,       0.802,     0.80235,     0.80251,      0.8027,     0.80294,     0.80303,     0.80333,     0.80351,     0.80362,       0.804,     0.80398,\n",
       "            0.80384,     0.80393,     0.80394,     0.80399,      0.8043,     0.80453,     0.80447,      0.8047,     0.80494,     0.80523,     0.80559,     0.80558,      0.8056,     0.80585,     0.80605,      0.8066,      0.8068,     0.80699,     0.80708,     0.80723,     0.80749,     0.80763,      0.8078,\n",
       "            0.80807,     0.80814,     0.80812,     0.80848,     0.80852,     0.80874,     0.80899,     0.80898,     0.80905,     0.80934,     0.80934,     0.80934,     0.80957,     0.80969,     0.80981,     0.80994,     0.81011,      0.8105,     0.81065,     0.81089,       0.811,     0.81108,     0.81127,\n",
       "            0.81138,      0.8115,     0.81155,     0.81151,     0.81144,     0.81169,     0.81174,     0.81165,      0.8118,     0.81188,     0.81203,     0.81189,     0.81192,     0.81213,     0.81197,     0.81219,     0.81227,     0.81234,     0.81253,     0.81247,     0.81254,     0.81233,     0.81241,\n",
       "            0.81247,     0.81262,     0.81253,     0.81258,     0.81271,     0.81259,     0.81275,     0.81279,     0.81274,     0.81294,     0.81303,     0.81304,     0.81298,       0.813,     0.81301,     0.81301,     0.81302,     0.81311,     0.81333,     0.81346,     0.81366,     0.81356,     0.81378,\n",
       "            0.81396,     0.81411,     0.81401,      0.8143,     0.81449,     0.81493,     0.81483,     0.81505,     0.81495,       0.815,     0.81508,     0.81528,     0.81547,     0.81564,      0.8157,     0.81583,     0.81604,      0.8163,     0.81626,     0.81639,     0.81642,     0.81644,     0.81633,\n",
       "            0.81635,     0.81647,     0.81665,     0.81673,     0.81699,     0.81687,     0.81702,     0.81717,     0.81749,     0.81741,     0.81737,      0.8173,     0.81738,     0.81755,     0.81754,     0.81761,      0.8177,     0.81782,     0.81733,     0.81736,     0.81729,     0.81751,     0.81761,\n",
       "            0.81746,     0.81754,     0.81751,     0.81748,     0.81766,     0.81753,      0.8175,     0.81758,      0.8173,      0.8174,     0.81747,     0.81734,     0.81744,     0.81752,     0.81751,      0.8176,     0.81749,     0.81719,     0.81715,     0.81696,     0.81675,      0.8167,     0.81648,\n",
       "            0.81668,      0.8162,     0.81618,     0.81614,     0.81625,     0.81618,     0.81628,     0.81621,     0.81626,     0.81618,     0.81642,     0.81636,     0.81627,     0.81635,     0.81633,     0.81658,     0.81664,     0.81653,     0.81648,     0.81638,     0.81648,     0.81633,     0.81631,\n",
       "            0.81601,      0.8161,      0.8161,     0.81597,     0.81585,     0.81595,     0.81583,     0.81591,     0.81566,     0.81556,     0.81562,     0.81571,     0.81568,     0.81561,     0.81546,     0.81543,     0.81579,     0.81583,     0.81558,     0.81571,     0.81563,     0.81567,     0.81529,\n",
       "            0.81547,     0.81554,     0.81532,     0.81509,     0.81528,     0.81535,     0.81529,     0.81534,     0.81531,     0.81534,     0.81544,     0.81524,     0.81519,     0.81495,     0.81475,     0.81453,     0.81428,     0.81403,     0.81411,     0.81399,     0.81392,     0.81374,      0.8136,\n",
       "            0.81347,     0.81346,     0.81346,     0.81322,     0.81319,     0.81273,     0.81251,     0.81235,     0.81234,     0.81253,     0.81245,      0.8124,     0.81236,     0.81243,     0.81231,     0.81211,     0.81212,     0.81199,     0.81203,     0.81196,     0.81205,     0.81179,     0.81155,\n",
       "            0.81152,     0.81125,     0.81099,     0.81096,     0.81083,     0.81085,     0.81049,     0.81005,     0.81005,     0.80968,     0.80959,     0.80938,     0.80903,     0.80892,     0.80865,     0.80855,     0.80854,     0.80844,     0.80877,     0.80844,      0.8082,     0.80818,     0.80799,\n",
       "            0.80794,     0.80774,     0.80742,     0.80705,     0.80692,     0.80661,     0.80652,     0.80648,     0.80621,     0.80621,     0.80625,     0.80577,     0.80555,     0.80499,     0.80488,     0.80457,     0.80399,     0.80353,     0.80343,     0.80299,     0.80295,     0.80272,     0.80261,\n",
       "            0.80247,     0.80225,     0.80195,     0.80176,     0.80166,     0.80136,     0.80105,     0.80067,     0.80013,     0.79993,     0.79956,     0.79946,     0.79922,     0.79904,     0.79843,     0.79803,     0.79773,     0.79743,     0.79696,     0.79662,     0.79626,      0.7958,     0.79585,\n",
       "            0.79559,     0.79535,     0.79476,     0.79449,      0.7943,     0.79363,     0.79317,     0.79311,     0.79285,      0.7924,     0.79219,     0.79167,     0.79121,     0.79025,     0.78978,     0.78915,     0.78877,     0.78829,      0.7881,     0.78754,     0.78658,     0.78618,     0.78618,\n",
       "             0.7857,     0.78514,     0.78475,     0.78382,     0.78338,     0.78281,     0.78238,     0.78177,     0.78039,     0.77977,      0.7785,     0.77789,     0.77757,     0.77698,     0.77689,     0.77554,     0.77389,     0.77381,     0.77277,     0.77272,     0.77153,      0.7704,     0.77047,\n",
       "            0.76981,     0.76988,     0.76897,     0.76819,     0.76815,     0.76732,     0.76589,     0.76582,     0.76516,     0.76397,     0.76392,     0.76279,     0.76185,     0.76188,     0.76109,     0.75976,     0.75957,     0.75859,      0.7585,     0.75713,     0.75626,     0.75622,     0.75507,\n",
       "            0.75359,     0.75359,      0.7523,     0.75126,     0.75048,     0.75027,     0.74943,      0.7494,     0.74758,     0.74612,     0.74608,     0.74401,     0.74276,     0.74267,     0.74168,     0.73976,     0.73954,     0.73754,      0.7361,     0.73605,     0.73509,     0.73345,     0.73232,\n",
       "            0.73227,     0.73083,     0.72934,      0.7279,     0.72795,      0.7262,      0.7244,     0.72423,     0.72298,     0.72116,     0.71914,     0.71909,     0.71633,     0.71526,     0.71524,     0.71297,     0.71096,     0.71091,     0.70935,     0.70722,     0.70512,     0.70293,     0.70282,\n",
       "            0.70098,     0.69839,     0.69607,     0.69602,     0.69374,     0.69172,     0.68936,     0.68926,       0.686,     0.68385,     0.68197,      0.6818,     0.67922,     0.67681,      0.6742,      0.6715,      0.6713,     0.66853,     0.66627,     0.66354,     0.66166,     0.65929,     0.65924,\n",
       "            0.65653,     0.65393,     0.65046,     0.64665,     0.64646,     0.64375,      0.6409,     0.63769,     0.63411,     0.63115,     0.63105,     0.62794,     0.62518,     0.62158,     0.61861,      0.6164,     0.61375,     0.61017,     0.60699,     0.60693,     0.60351,     0.60078,     0.59724,\n",
       "            0.59399,      0.5895,     0.58578,     0.58152,     0.58146,     0.57835,     0.57477,     0.57031,     0.56604,     0.56143,     0.55677,     0.55269,     0.54958,     0.54594,     0.54204,     0.53665,     0.53338,     0.52844,     0.52422,     0.51946,      0.5162,     0.51121,     0.50681,\n",
       "            0.50238,     0.49912,     0.49511,      0.4904,     0.48648,     0.48275,     0.47837,     0.47393,     0.46965,     0.46023,     0.45648,     0.45158,     0.44455,     0.43986,     0.43413,     0.42978,     0.42499,     0.41916,     0.41412,     0.40757,     0.40221,     0.39227,     0.38677,\n",
       "            0.38046,     0.37419,     0.36885,     0.36307,     0.35654,     0.34685,     0.34154,     0.33085,     0.32364,     0.31693,     0.31117,     0.30706,     0.29379,     0.28829,     0.28279,      0.2766,     0.26495,      0.2581,     0.25206,      0.2405,     0.23447,     0.22917,     0.21836,\n",
       "            0.21157,     0.20598,     0.19427,     0.18119,     0.17593,     0.16371,     0.15731,     0.14663,     0.14024,     0.13492,      0.1222,     0.11724,     0.10608,    0.099787,    0.095549,    0.087171,    0.082698,    0.074322,     0.07086,    0.063445,    0.054734,    0.050686,    0.043979,\n",
       "           0.037053,    0.033468,    0.027896,    0.024823,    0.023009,    0.021126,    0.016458,    0.013897,    0.012061,   0.0098547,   0.0078274,   0.0063478,   0.0043134,   0.0037518,   0.0031657,   0.0026263,   0.0020629,   0.0017997,   0.0017456,   0.0016915,   0.0013833,   0.0011013,  0.00089811,\n",
       "         0.00049991,  0.00040506,           0,           0,           0,           0,           0,           0,           0,           0,           0,           0,           0,           0,           0,           0,           0,           0,           0,           0,           0,           0,           0,\n",
       "                  0,           0,           0,           0,           0,           0,           0,           0,           0,           0,           0,           0,           0,           0,           0,           0,           0,           0,           0,           0,           0,           0,           0,\n",
       "                  0,           0,           0,           0,           0,           0,           0,           0,           0,           0,           0]]), 'Confidence', 'F1'], [array([          0,    0.001001,    0.002002,    0.003003,    0.004004,    0.005005,    0.006006,    0.007007,    0.008008,    0.009009,     0.01001,    0.011011,    0.012012,    0.013013,    0.014014,    0.015015,    0.016016,    0.017017,    0.018018,    0.019019,     0.02002,    0.021021,    0.022022,    0.023023,\n",
       "          0.024024,    0.025025,    0.026026,    0.027027,    0.028028,    0.029029,     0.03003,    0.031031,    0.032032,    0.033033,    0.034034,    0.035035,    0.036036,    0.037037,    0.038038,    0.039039,     0.04004,    0.041041,    0.042042,    0.043043,    0.044044,    0.045045,    0.046046,    0.047047,\n",
       "          0.048048,    0.049049,     0.05005,    0.051051,    0.052052,    0.053053,    0.054054,    0.055055,    0.056056,    0.057057,    0.058058,    0.059059,     0.06006,    0.061061,    0.062062,    0.063063,    0.064064,    0.065065,    0.066066,    0.067067,    0.068068,    0.069069,     0.07007,    0.071071,\n",
       "          0.072072,    0.073073,    0.074074,    0.075075,    0.076076,    0.077077,    0.078078,    0.079079,     0.08008,    0.081081,    0.082082,    0.083083,    0.084084,    0.085085,    0.086086,    0.087087,    0.088088,    0.089089,     0.09009,    0.091091,    0.092092,    0.093093,    0.094094,    0.095095,\n",
       "          0.096096,    0.097097,    0.098098,    0.099099,      0.1001,      0.1011,      0.1021,      0.1031,      0.1041,     0.10511,     0.10611,     0.10711,     0.10811,     0.10911,     0.11011,     0.11111,     0.11211,     0.11311,     0.11411,     0.11512,     0.11612,     0.11712,     0.11812,     0.11912,\n",
       "           0.12012,     0.12112,     0.12212,     0.12312,     0.12412,     0.12513,     0.12613,     0.12713,     0.12813,     0.12913,     0.13013,     0.13113,     0.13213,     0.13313,     0.13413,     0.13514,     0.13614,     0.13714,     0.13814,     0.13914,     0.14014,     0.14114,     0.14214,     0.14314,\n",
       "           0.14414,     0.14515,     0.14615,     0.14715,     0.14815,     0.14915,     0.15015,     0.15115,     0.15215,     0.15315,     0.15415,     0.15516,     0.15616,     0.15716,     0.15816,     0.15916,     0.16016,     0.16116,     0.16216,     0.16316,     0.16416,     0.16517,     0.16617,     0.16717,\n",
       "           0.16817,     0.16917,     0.17017,     0.17117,     0.17217,     0.17317,     0.17417,     0.17518,     0.17618,     0.17718,     0.17818,     0.17918,     0.18018,     0.18118,     0.18218,     0.18318,     0.18418,     0.18519,     0.18619,     0.18719,     0.18819,     0.18919,     0.19019,     0.19119,\n",
       "           0.19219,     0.19319,     0.19419,      0.1952,      0.1962,      0.1972,      0.1982,      0.1992,      0.2002,      0.2012,      0.2022,      0.2032,      0.2042,     0.20521,     0.20621,     0.20721,     0.20821,     0.20921,     0.21021,     0.21121,     0.21221,     0.21321,     0.21421,     0.21522,\n",
       "           0.21622,     0.21722,     0.21822,     0.21922,     0.22022,     0.22122,     0.22222,     0.22322,     0.22422,     0.22523,     0.22623,     0.22723,     0.22823,     0.22923,     0.23023,     0.23123,     0.23223,     0.23323,     0.23423,     0.23524,     0.23624,     0.23724,     0.23824,     0.23924,\n",
       "           0.24024,     0.24124,     0.24224,     0.24324,     0.24424,     0.24525,     0.24625,     0.24725,     0.24825,     0.24925,     0.25025,     0.25125,     0.25225,     0.25325,     0.25425,     0.25526,     0.25626,     0.25726,     0.25826,     0.25926,     0.26026,     0.26126,     0.26226,     0.26326,\n",
       "           0.26426,     0.26527,     0.26627,     0.26727,     0.26827,     0.26927,     0.27027,     0.27127,     0.27227,     0.27327,     0.27427,     0.27528,     0.27628,     0.27728,     0.27828,     0.27928,     0.28028,     0.28128,     0.28228,     0.28328,     0.28428,     0.28529,     0.28629,     0.28729,\n",
       "           0.28829,     0.28929,     0.29029,     0.29129,     0.29229,     0.29329,     0.29429,      0.2953,      0.2963,      0.2973,      0.2983,      0.2993,      0.3003,      0.3013,      0.3023,      0.3033,      0.3043,     0.30531,     0.30631,     0.30731,     0.30831,     0.30931,     0.31031,     0.31131,\n",
       "           0.31231,     0.31331,     0.31431,     0.31532,     0.31632,     0.31732,     0.31832,     0.31932,     0.32032,     0.32132,     0.32232,     0.32332,     0.32432,     0.32533,     0.32633,     0.32733,     0.32833,     0.32933,     0.33033,     0.33133,     0.33233,     0.33333,     0.33433,     0.33534,\n",
       "           0.33634,     0.33734,     0.33834,     0.33934,     0.34034,     0.34134,     0.34234,     0.34334,     0.34434,     0.34535,     0.34635,     0.34735,     0.34835,     0.34935,     0.35035,     0.35135,     0.35235,     0.35335,     0.35435,     0.35536,     0.35636,     0.35736,     0.35836,     0.35936,\n",
       "           0.36036,     0.36136,     0.36236,     0.36336,     0.36436,     0.36537,     0.36637,     0.36737,     0.36837,     0.36937,     0.37037,     0.37137,     0.37237,     0.37337,     0.37437,     0.37538,     0.37638,     0.37738,     0.37838,     0.37938,     0.38038,     0.38138,     0.38238,     0.38338,\n",
       "           0.38438,     0.38539,     0.38639,     0.38739,     0.38839,     0.38939,     0.39039,     0.39139,     0.39239,     0.39339,     0.39439,      0.3954,      0.3964,      0.3974,      0.3984,      0.3994,      0.4004,      0.4014,      0.4024,      0.4034,      0.4044,     0.40541,     0.40641,     0.40741,\n",
       "           0.40841,     0.40941,     0.41041,     0.41141,     0.41241,     0.41341,     0.41441,     0.41542,     0.41642,     0.41742,     0.41842,     0.41942,     0.42042,     0.42142,     0.42242,     0.42342,     0.42442,     0.42543,     0.42643,     0.42743,     0.42843,     0.42943,     0.43043,     0.43143,\n",
       "           0.43243,     0.43343,     0.43443,     0.43544,     0.43644,     0.43744,     0.43844,     0.43944,     0.44044,     0.44144,     0.44244,     0.44344,     0.44444,     0.44545,     0.44645,     0.44745,     0.44845,     0.44945,     0.45045,     0.45145,     0.45245,     0.45345,     0.45445,     0.45546,\n",
       "           0.45646,     0.45746,     0.45846,     0.45946,     0.46046,     0.46146,     0.46246,     0.46346,     0.46446,     0.46547,     0.46647,     0.46747,     0.46847,     0.46947,     0.47047,     0.47147,     0.47247,     0.47347,     0.47447,     0.47548,     0.47648,     0.47748,     0.47848,     0.47948,\n",
       "           0.48048,     0.48148,     0.48248,     0.48348,     0.48448,     0.48549,     0.48649,     0.48749,     0.48849,     0.48949,     0.49049,     0.49149,     0.49249,     0.49349,     0.49449,      0.4955,      0.4965,      0.4975,      0.4985,      0.4995,      0.5005,      0.5015,      0.5025,      0.5035,\n",
       "            0.5045,     0.50551,     0.50651,     0.50751,     0.50851,     0.50951,     0.51051,     0.51151,     0.51251,     0.51351,     0.51451,     0.51552,     0.51652,     0.51752,     0.51852,     0.51952,     0.52052,     0.52152,     0.52252,     0.52352,     0.52452,     0.52553,     0.52653,     0.52753,\n",
       "           0.52853,     0.52953,     0.53053,     0.53153,     0.53253,     0.53353,     0.53453,     0.53554,     0.53654,     0.53754,     0.53854,     0.53954,     0.54054,     0.54154,     0.54254,     0.54354,     0.54454,     0.54555,     0.54655,     0.54755,     0.54855,     0.54955,     0.55055,     0.55155,\n",
       "           0.55255,     0.55355,     0.55455,     0.55556,     0.55656,     0.55756,     0.55856,     0.55956,     0.56056,     0.56156,     0.56256,     0.56356,     0.56456,     0.56557,     0.56657,     0.56757,     0.56857,     0.56957,     0.57057,     0.57157,     0.57257,     0.57357,     0.57457,     0.57558,\n",
       "           0.57658,     0.57758,     0.57858,     0.57958,     0.58058,     0.58158,     0.58258,     0.58358,     0.58458,     0.58559,     0.58659,     0.58759,     0.58859,     0.58959,     0.59059,     0.59159,     0.59259,     0.59359,     0.59459,      0.5956,      0.5966,      0.5976,      0.5986,      0.5996,\n",
       "            0.6006,      0.6016,      0.6026,      0.6036,      0.6046,     0.60561,     0.60661,     0.60761,     0.60861,     0.60961,     0.61061,     0.61161,     0.61261,     0.61361,     0.61461,     0.61562,     0.61662,     0.61762,     0.61862,     0.61962,     0.62062,     0.62162,     0.62262,     0.62362,\n",
       "           0.62462,     0.62563,     0.62663,     0.62763,     0.62863,     0.62963,     0.63063,     0.63163,     0.63263,     0.63363,     0.63463,     0.63564,     0.63664,     0.63764,     0.63864,     0.63964,     0.64064,     0.64164,     0.64264,     0.64364,     0.64464,     0.64565,     0.64665,     0.64765,\n",
       "           0.64865,     0.64965,     0.65065,     0.65165,     0.65265,     0.65365,     0.65465,     0.65566,     0.65666,     0.65766,     0.65866,     0.65966,     0.66066,     0.66166,     0.66266,     0.66366,     0.66466,     0.66567,     0.66667,     0.66767,     0.66867,     0.66967,     0.67067,     0.67167,\n",
       "           0.67267,     0.67367,     0.67467,     0.67568,     0.67668,     0.67768,     0.67868,     0.67968,     0.68068,     0.68168,     0.68268,     0.68368,     0.68468,     0.68569,     0.68669,     0.68769,     0.68869,     0.68969,     0.69069,     0.69169,     0.69269,     0.69369,     0.69469,      0.6957,\n",
       "            0.6967,      0.6977,      0.6987,      0.6997,      0.7007,      0.7017,      0.7027,      0.7037,      0.7047,     0.70571,     0.70671,     0.70771,     0.70871,     0.70971,     0.71071,     0.71171,     0.71271,     0.71371,     0.71471,     0.71572,     0.71672,     0.71772,     0.71872,     0.71972,\n",
       "           0.72072,     0.72172,     0.72272,     0.72372,     0.72472,     0.72573,     0.72673,     0.72773,     0.72873,     0.72973,     0.73073,     0.73173,     0.73273,     0.73373,     0.73473,     0.73574,     0.73674,     0.73774,     0.73874,     0.73974,     0.74074,     0.74174,     0.74274,     0.74374,\n",
       "           0.74474,     0.74575,     0.74675,     0.74775,     0.74875,     0.74975,     0.75075,     0.75175,     0.75275,     0.75375,     0.75475,     0.75576,     0.75676,     0.75776,     0.75876,     0.75976,     0.76076,     0.76176,     0.76276,     0.76376,     0.76476,     0.76577,     0.76677,     0.76777,\n",
       "           0.76877,     0.76977,     0.77077,     0.77177,     0.77277,     0.77377,     0.77477,     0.77578,     0.77678,     0.77778,     0.77878,     0.77978,     0.78078,     0.78178,     0.78278,     0.78378,     0.78478,     0.78579,     0.78679,     0.78779,     0.78879,     0.78979,     0.79079,     0.79179,\n",
       "           0.79279,     0.79379,     0.79479,      0.7958,      0.7968,      0.7978,      0.7988,      0.7998,      0.8008,      0.8018,      0.8028,      0.8038,      0.8048,     0.80581,     0.80681,     0.80781,     0.80881,     0.80981,     0.81081,     0.81181,     0.81281,     0.81381,     0.81481,     0.81582,\n",
       "           0.81682,     0.81782,     0.81882,     0.81982,     0.82082,     0.82182,     0.82282,     0.82382,     0.82482,     0.82583,     0.82683,     0.82783,     0.82883,     0.82983,     0.83083,     0.83183,     0.83283,     0.83383,     0.83483,     0.83584,     0.83684,     0.83784,     0.83884,     0.83984,\n",
       "           0.84084,     0.84184,     0.84284,     0.84384,     0.84484,     0.84585,     0.84685,     0.84785,     0.84885,     0.84985,     0.85085,     0.85185,     0.85285,     0.85385,     0.85485,     0.85586,     0.85686,     0.85786,     0.85886,     0.85986,     0.86086,     0.86186,     0.86286,     0.86386,\n",
       "           0.86486,     0.86587,     0.86687,     0.86787,     0.86887,     0.86987,     0.87087,     0.87187,     0.87287,     0.87387,     0.87487,     0.87588,     0.87688,     0.87788,     0.87888,     0.87988,     0.88088,     0.88188,     0.88288,     0.88388,     0.88488,     0.88589,     0.88689,     0.88789,\n",
       "           0.88889,     0.88989,     0.89089,     0.89189,     0.89289,     0.89389,     0.89489,      0.8959,      0.8969,      0.8979,      0.8989,      0.8999,      0.9009,      0.9019,      0.9029,      0.9039,      0.9049,     0.90591,     0.90691,     0.90791,     0.90891,     0.90991,     0.91091,     0.91191,\n",
       "           0.91291,     0.91391,     0.91491,     0.91592,     0.91692,     0.91792,     0.91892,     0.91992,     0.92092,     0.92192,     0.92292,     0.92392,     0.92492,     0.92593,     0.92693,     0.92793,     0.92893,     0.92993,     0.93093,     0.93193,     0.93293,     0.93393,     0.93493,     0.93594,\n",
       "           0.93694,     0.93794,     0.93894,     0.93994,     0.94094,     0.94194,     0.94294,     0.94394,     0.94494,     0.94595,     0.94695,     0.94795,     0.94895,     0.94995,     0.95095,     0.95195,     0.95295,     0.95395,     0.95495,     0.95596,     0.95696,     0.95796,     0.95896,     0.95996,\n",
       "           0.96096,     0.96196,     0.96296,     0.96396,     0.96496,     0.96597,     0.96697,     0.96797,     0.96897,     0.96997,     0.97097,     0.97197,     0.97297,     0.97397,     0.97497,     0.97598,     0.97698,     0.97798,     0.97898,     0.97998,     0.98098,     0.98198,     0.98298,     0.98398,\n",
       "           0.98498,     0.98599,     0.98699,     0.98799,     0.98899,     0.98999,     0.99099,     0.99199,     0.99299,     0.99399,     0.99499,       0.996,       0.997,       0.998,       0.999,           1]), array([[     0.2833,      0.2833,     0.28666,     0.29156,     0.29811,     0.30586,     0.31207,     0.31768,     0.32322,     0.32821,     0.33349,     0.33869,     0.34378,     0.34876,     0.35396,     0.35848,     0.36331,     0.36784,     0.37201,     0.37596,     0.38026,     0.38347,     0.38705,\n",
       "             0.3903,     0.39331,     0.39664,     0.39981,     0.40326,       0.407,     0.41047,     0.41307,     0.41606,     0.41889,     0.42223,     0.42509,     0.42775,     0.43049,     0.43314,     0.43594,     0.43836,     0.44169,     0.44403,     0.44618,     0.44899,     0.45136,     0.45361,\n",
       "            0.45583,     0.45785,     0.46025,     0.46295,     0.46578,     0.46798,     0.47046,     0.47295,     0.47506,     0.47748,     0.47948,      0.4813,     0.48357,     0.48563,     0.48767,     0.48943,     0.49139,     0.49391,     0.49566,     0.49789,     0.49985,     0.50153,     0.50403,\n",
       "            0.50562,     0.50731,     0.50901,      0.5106,     0.51241,     0.51432,     0.51643,     0.51797,     0.51997,     0.52209,     0.52382,     0.52605,     0.52781,     0.52944,     0.53114,     0.53281,     0.53511,     0.53648,     0.53797,     0.53961,     0.54079,     0.54325,     0.54475,\n",
       "            0.54639,     0.54797,     0.54942,     0.55076,     0.55208,      0.5539,     0.55531,     0.55645,     0.55781,     0.55953,       0.561,     0.56232,      0.5633,     0.56465,     0.56584,     0.56765,     0.56903,     0.57052,     0.57175,     0.57286,     0.57394,     0.57483,       0.576,\n",
       "            0.57677,     0.57825,     0.57942,     0.58069,     0.58159,     0.58293,      0.5843,     0.58518,     0.58668,     0.58769,     0.58899,     0.59018,     0.59119,     0.59269,     0.59328,     0.59437,     0.59518,     0.59655,     0.59779,     0.59842,     0.59939,      0.6006,     0.60124,\n",
       "            0.60225,     0.60298,      0.6041,     0.60484,      0.6058,     0.60674,     0.60762,     0.60909,     0.61026,     0.61119,     0.61221,      0.6129,     0.61377,     0.61427,     0.61563,     0.61624,     0.61707,     0.61843,     0.61941,     0.62049,     0.62082,      0.6215,     0.62237,\n",
       "            0.62348,     0.62445,     0.62516,     0.62643,     0.62717,     0.62786,     0.62834,     0.62904,     0.63018,     0.63143,      0.6321,     0.63304,     0.63322,     0.63412,     0.63496,     0.63591,     0.63638,     0.63724,     0.63776,     0.63864,     0.63903,      0.6398,     0.64066,\n",
       "            0.64114,     0.64231,     0.64291,     0.64392,     0.64446,     0.64545,     0.64621,     0.64682,     0.64836,     0.64905,     0.64939,     0.65021,     0.65113,      0.6516,     0.65232,     0.65283,     0.65386,     0.65463,     0.65526,     0.65624,     0.65646,     0.65716,     0.65775,\n",
       "            0.65866,     0.65952,     0.65974,     0.66046,     0.66087,     0.66175,     0.66219,      0.6631,     0.66365,     0.66467,     0.66517,     0.66603,     0.66664,     0.66758,     0.66828,     0.66906,     0.66972,     0.67076,     0.67155,     0.67258,     0.67297,     0.67386,     0.67418,\n",
       "            0.67535,     0.67585,     0.67651,      0.6772,     0.67802,     0.67885,     0.67932,     0.68046,     0.68076,      0.6812,     0.68222,     0.68296,     0.68377,     0.68433,      0.6847,      0.6854,     0.68564,     0.68635,     0.68726,     0.68772,      0.6887,     0.68904,     0.68928,\n",
       "            0.68982,     0.68996,     0.69049,     0.69147,     0.69171,      0.6921,     0.69325,     0.69387,     0.69476,     0.69521,     0.69545,     0.69595,     0.69682,       0.697,     0.69746,     0.69848,     0.69897,     0.69927,     0.70002,     0.70062,     0.70088,     0.70161,     0.70247,\n",
       "            0.70309,     0.70346,     0.70368,     0.70486,     0.70517,     0.70563,     0.70645,     0.70673,     0.70695,     0.70732,     0.70808,     0.70848,     0.70911,     0.70976,     0.71026,     0.71053,     0.71085,     0.71123,     0.71218,     0.71269,     0.71298,     0.71341,     0.71407,\n",
       "             0.7149,     0.71526,     0.71575,     0.71617,     0.71696,     0.71718,     0.71772,     0.71815,     0.71862,     0.71911,     0.71933,     0.71981,     0.72012,     0.72111,     0.72131,     0.72214,     0.72255,     0.72288,     0.72306,     0.72327,     0.72411,     0.72451,     0.72521,\n",
       "            0.72592,     0.72612,     0.72676,     0.72725,     0.72783,     0.72828,     0.72861,     0.72883,     0.72932,     0.72961,     0.72978,     0.73001,     0.73044,     0.73114,     0.73154,      0.7323,     0.73282,     0.73304,     0.73367,     0.73409,     0.73445,     0.73529,     0.73558,\n",
       "            0.73578,       0.736,     0.73625,     0.73656,      0.7372,     0.73791,     0.73806,     0.73846,     0.73905,      0.7396,     0.74041,     0.74059,     0.74095,     0.74137,     0.74185,     0.74317,     0.74358,     0.74417,     0.74461,     0.74497,     0.74547,     0.74584,     0.74633,\n",
       "             0.7468,     0.74705,     0.74742,     0.74818,     0.74852,     0.74908,     0.74964,     0.74982,     0.75022,     0.75085,     0.75099,     0.75127,     0.75187,      0.7522,     0.75248,      0.7529,     0.75334,     0.75416,     0.75455,     0.75511,     0.75558,     0.75576,     0.75673,\n",
       "            0.75706,     0.75748,     0.75779,     0.75806,     0.75815,     0.75889,     0.75936,     0.75959,     0.75996,     0.76039,     0.76085,     0.76089,     0.76108,     0.76146,      0.7616,     0.76221,     0.76278,     0.76296,     0.76347,     0.76379,     0.76406,     0.76409,     0.76455,\n",
       "            0.76484,      0.7654,     0.76573,     0.76598,     0.76635,     0.76644,     0.76686,     0.76722,     0.76736,     0.76793,     0.76832,     0.76872,     0.76911,     0.76937,     0.76968,     0.76992,     0.77029,     0.77062,     0.77122,     0.77156,     0.77215,     0.77241,     0.77291,\n",
       "            0.77347,     0.77395,     0.77423,     0.77484,     0.77527,     0.77621,     0.77633,     0.77688,     0.77701,      0.7774,     0.77763,     0.77807,     0.77856,     0.77926,     0.77944,     0.77991,      0.7803,     0.78093,     0.78109,     0.78141,     0.78168,     0.78215,      0.7823,\n",
       "            0.78258,     0.78294,     0.78344,     0.78374,     0.78437,     0.78451,      0.7851,      0.7857,      0.7864,     0.78655,     0.78686,     0.78732,     0.78769,     0.78818,      0.7884,     0.78876,     0.78935,     0.78972,     0.78978,      0.7904,     0.79099,     0.79157,     0.79183,\n",
       "            0.79195,     0.79237,     0.79264,     0.79298,     0.79372,     0.79406,     0.79434,     0.79482,     0.79486,     0.79529,      0.7957,     0.79585,     0.79629,     0.79664,     0.79701,      0.7975,     0.79767,     0.79768,     0.79799,     0.79819,     0.79829,     0.79849,     0.79865,\n",
       "            0.79926,     0.79928,     0.79961,     0.79984,     0.80024,     0.80038,     0.80089,     0.80104,     0.80129,     0.80157,     0.80212,     0.80252,     0.80279,     0.80312,     0.80377,     0.80451,      0.8049,     0.80522,     0.80581,     0.80596,     0.80661,     0.80692,     0.80709,\n",
       "            0.80719,     0.80739,     0.80789,     0.80802,     0.80822,     0.80887,     0.80923,     0.80979,     0.80998,     0.81014,     0.81053,     0.81124,     0.81152,     0.81175,     0.81207,     0.81256,     0.81341,     0.81382,     0.81406,     0.81472,      0.8149,     0.81536,     0.81562,\n",
       "            0.81618,      0.8166,      0.8169,     0.81709,     0.81786,     0.81879,     0.81919,     0.81967,     0.82018,     0.82048,     0.82101,     0.82124,     0.82142,     0.82145,     0.82168,     0.82212,     0.82257,     0.82272,     0.82327,      0.8239,     0.82415,     0.82428,     0.82478,\n",
       "            0.82508,     0.82555,     0.82595,     0.82615,     0.82648,     0.82682,     0.82717,     0.82739,     0.82766,      0.8283,     0.82883,     0.82923,     0.82951,     0.82999,     0.83032,     0.83061,     0.83124,     0.83139,     0.83198,     0.83223,     0.83274,     0.83333,     0.83359,\n",
       "             0.8341,     0.83445,     0.83452,     0.83483,     0.83533,     0.83569,     0.83583,     0.83618,     0.83656,      0.8371,     0.83744,     0.83752,     0.83758,     0.83821,      0.8384,     0.83851,     0.83924,     0.83953,     0.84024,     0.84059,     0.84104,     0.84133,      0.8418,\n",
       "              0.842,     0.84224,     0.84252,     0.84281,      0.8434,     0.84356,     0.84396,     0.84427,      0.8448,     0.84548,     0.84592,     0.84656,     0.84706,     0.84734,     0.84754,     0.84772,     0.84791,     0.84802,     0.84884,      0.8498,     0.85018,     0.85036,     0.85071,\n",
       "            0.85114,     0.85148,     0.85153,      0.8519,     0.85226,     0.85329,     0.85352,     0.85374,     0.85378,     0.85416,     0.85439,     0.85477,     0.85503,     0.85547,     0.85596,     0.85601,     0.85598,     0.85635,     0.85704,     0.85735,     0.85775,     0.85789,     0.85855,\n",
       "            0.85879,     0.85922,     0.85942,     0.86045,      0.8608,     0.86088,      0.8611,      0.8615,     0.86177,       0.862,     0.86265,     0.86291,     0.86318,     0.86426,     0.86457,     0.86476,     0.86518,      0.8654,     0.86619,     0.86632,     0.86654,     0.86716,     0.86775,\n",
       "            0.86799,     0.86812,     0.86811,     0.86871,      0.8692,     0.86924,     0.86958,     0.86988,     0.87022,      0.8703,     0.87045,     0.87049,     0.87068,     0.87059,     0.87061,     0.87102,     0.87117,     0.87116,     0.87146,     0.87152,      0.8719,     0.87222,     0.87249,\n",
       "            0.87336,     0.87355,     0.87428,     0.87485,     0.87493,      0.8755,     0.87613,     0.87611,     0.87692,     0.87751,      0.8775,      0.8784,     0.87896,      0.8792,     0.88006,     0.88075,      0.8807,     0.88118,     0.88116,     0.88138,     0.88186,     0.88185,     0.88229,\n",
       "            0.88287,     0.88296,      0.8837,     0.88444,     0.88484,     0.88479,     0.88523,     0.88522,     0.88555,     0.88596,     0.88595,     0.88582,     0.88691,     0.88689,     0.88774,     0.88807,     0.88803,     0.88835,     0.88858,     0.88857,      0.8891,     0.89041,     0.89138,\n",
       "            0.89137,     0.89207,     0.89253,     0.89358,     0.89372,     0.89424,     0.89489,     0.89493,     0.89597,     0.89623,     0.89635,     0.89634,     0.89625,     0.89802,      0.8981,     0.89828,     0.89847,     0.89846,     0.89887,     0.89904,     0.89984,     0.90026,     0.90024,\n",
       "            0.90088,     0.90159,     0.90188,     0.90187,     0.90202,     0.90268,     0.90393,     0.90399,     0.90459,     0.90528,     0.90571,     0.90568,     0.90624,     0.90672,     0.90757,     0.90855,     0.90852,     0.90937,      0.9102,     0.91114,     0.91173,     0.91215,     0.91214,\n",
       "            0.91265,     0.91282,     0.91373,     0.91393,     0.91389,     0.91444,     0.91513,     0.91571,     0.91605,     0.91629,      0.9164,     0.91744,      0.9179,      0.9187,     0.91995,     0.92119,     0.92222,     0.92328,      0.9251,     0.92509,     0.92538,     0.92579,     0.92608,\n",
       "            0.92783,      0.9288,     0.92966,      0.9298,     0.92979,     0.93004,     0.92982,     0.93102,     0.93168,     0.93134,     0.93138,     0.93212,     0.93303,     0.93388,      0.9345,     0.93512,     0.93652,     0.93662,     0.93754,      0.9381,     0.93917,     0.94047,      0.9412,\n",
       "            0.94219,     0.94338,     0.94352,     0.94357,     0.94498,     0.94595,     0.94635,      0.9465,     0.94825,     0.94936,     0.95104,     0.95234,     0.95255,     0.95251,     0.95352,     0.95324,     0.95351,     0.95397,     0.95455,     0.95399,     0.95555,     0.95759,     0.95895,\n",
       "             0.9585,      0.9584,     0.95806,     0.96029,     0.96137,     0.96171,     0.96265,     0.96638,     0.96552,     0.96558,     0.96577,     0.96713,     0.96742,     0.96774,     0.96807,     0.96766,     0.96845,      0.9681,     0.96785,     0.97054,     0.97101,     0.97228,     0.97219,\n",
       "            0.97335,     0.97416,     0.97409,     0.97383,      0.9748,      0.9787,     0.97985,     0.98165,     0.98194,     0.98365,     0.98599,     0.98536,     0.98535,     0.98439,     0.98368,     0.98206,     0.98106,     0.97889,     0.97784,     0.97791,     0.98065,      0.9791,      0.9759,\n",
       "            0.98077,     0.97871,      0.9745,     0.97139,      0.9767,     0.97465,     0.96762,     0.96183,     0.95624,      0.9469,     0.93399,     0.91978,     0.88613,     0.95304,     0.94481,           1,           1,           1,           1,           1,           1,           1,           1,\n",
       "                  1,           1,           1,           1,           1,           1,           1,           1,           1,           1,           1,           1,           1,           1,           1,           1,           1,           1,           1,           1,           1,           1,           1,\n",
       "                  1,           1,           1,           1,           1,           1,           1,           1,           1,           1,           1,           1,           1,           1,           1,           1,           1,           1,           1,           1,           1,           1,           1,\n",
       "                  1,           1,           1,           1,           1,           1,           1,           1,           1,           1,           1]]), 'Confidence', 'Precision'], [array([          0,    0.001001,    0.002002,    0.003003,    0.004004,    0.005005,    0.006006,    0.007007,    0.008008,    0.009009,     0.01001,    0.011011,    0.012012,    0.013013,    0.014014,    0.015015,    0.016016,    0.017017,    0.018018,    0.019019,     0.02002,    0.021021,    0.022022,    0.023023,\n",
       "          0.024024,    0.025025,    0.026026,    0.027027,    0.028028,    0.029029,     0.03003,    0.031031,    0.032032,    0.033033,    0.034034,    0.035035,    0.036036,    0.037037,    0.038038,    0.039039,     0.04004,    0.041041,    0.042042,    0.043043,    0.044044,    0.045045,    0.046046,    0.047047,\n",
       "          0.048048,    0.049049,     0.05005,    0.051051,    0.052052,    0.053053,    0.054054,    0.055055,    0.056056,    0.057057,    0.058058,    0.059059,     0.06006,    0.061061,    0.062062,    0.063063,    0.064064,    0.065065,    0.066066,    0.067067,    0.068068,    0.069069,     0.07007,    0.071071,\n",
       "          0.072072,    0.073073,    0.074074,    0.075075,    0.076076,    0.077077,    0.078078,    0.079079,     0.08008,    0.081081,    0.082082,    0.083083,    0.084084,    0.085085,    0.086086,    0.087087,    0.088088,    0.089089,     0.09009,    0.091091,    0.092092,    0.093093,    0.094094,    0.095095,\n",
       "          0.096096,    0.097097,    0.098098,    0.099099,      0.1001,      0.1011,      0.1021,      0.1031,      0.1041,     0.10511,     0.10611,     0.10711,     0.10811,     0.10911,     0.11011,     0.11111,     0.11211,     0.11311,     0.11411,     0.11512,     0.11612,     0.11712,     0.11812,     0.11912,\n",
       "           0.12012,     0.12112,     0.12212,     0.12312,     0.12412,     0.12513,     0.12613,     0.12713,     0.12813,     0.12913,     0.13013,     0.13113,     0.13213,     0.13313,     0.13413,     0.13514,     0.13614,     0.13714,     0.13814,     0.13914,     0.14014,     0.14114,     0.14214,     0.14314,\n",
       "           0.14414,     0.14515,     0.14615,     0.14715,     0.14815,     0.14915,     0.15015,     0.15115,     0.15215,     0.15315,     0.15415,     0.15516,     0.15616,     0.15716,     0.15816,     0.15916,     0.16016,     0.16116,     0.16216,     0.16316,     0.16416,     0.16517,     0.16617,     0.16717,\n",
       "           0.16817,     0.16917,     0.17017,     0.17117,     0.17217,     0.17317,     0.17417,     0.17518,     0.17618,     0.17718,     0.17818,     0.17918,     0.18018,     0.18118,     0.18218,     0.18318,     0.18418,     0.18519,     0.18619,     0.18719,     0.18819,     0.18919,     0.19019,     0.19119,\n",
       "           0.19219,     0.19319,     0.19419,      0.1952,      0.1962,      0.1972,      0.1982,      0.1992,      0.2002,      0.2012,      0.2022,      0.2032,      0.2042,     0.20521,     0.20621,     0.20721,     0.20821,     0.20921,     0.21021,     0.21121,     0.21221,     0.21321,     0.21421,     0.21522,\n",
       "           0.21622,     0.21722,     0.21822,     0.21922,     0.22022,     0.22122,     0.22222,     0.22322,     0.22422,     0.22523,     0.22623,     0.22723,     0.22823,     0.22923,     0.23023,     0.23123,     0.23223,     0.23323,     0.23423,     0.23524,     0.23624,     0.23724,     0.23824,     0.23924,\n",
       "           0.24024,     0.24124,     0.24224,     0.24324,     0.24424,     0.24525,     0.24625,     0.24725,     0.24825,     0.24925,     0.25025,     0.25125,     0.25225,     0.25325,     0.25425,     0.25526,     0.25626,     0.25726,     0.25826,     0.25926,     0.26026,     0.26126,     0.26226,     0.26326,\n",
       "           0.26426,     0.26527,     0.26627,     0.26727,     0.26827,     0.26927,     0.27027,     0.27127,     0.27227,     0.27327,     0.27427,     0.27528,     0.27628,     0.27728,     0.27828,     0.27928,     0.28028,     0.28128,     0.28228,     0.28328,     0.28428,     0.28529,     0.28629,     0.28729,\n",
       "           0.28829,     0.28929,     0.29029,     0.29129,     0.29229,     0.29329,     0.29429,      0.2953,      0.2963,      0.2973,      0.2983,      0.2993,      0.3003,      0.3013,      0.3023,      0.3033,      0.3043,     0.30531,     0.30631,     0.30731,     0.30831,     0.30931,     0.31031,     0.31131,\n",
       "           0.31231,     0.31331,     0.31431,     0.31532,     0.31632,     0.31732,     0.31832,     0.31932,     0.32032,     0.32132,     0.32232,     0.32332,     0.32432,     0.32533,     0.32633,     0.32733,     0.32833,     0.32933,     0.33033,     0.33133,     0.33233,     0.33333,     0.33433,     0.33534,\n",
       "           0.33634,     0.33734,     0.33834,     0.33934,     0.34034,     0.34134,     0.34234,     0.34334,     0.34434,     0.34535,     0.34635,     0.34735,     0.34835,     0.34935,     0.35035,     0.35135,     0.35235,     0.35335,     0.35435,     0.35536,     0.35636,     0.35736,     0.35836,     0.35936,\n",
       "           0.36036,     0.36136,     0.36236,     0.36336,     0.36436,     0.36537,     0.36637,     0.36737,     0.36837,     0.36937,     0.37037,     0.37137,     0.37237,     0.37337,     0.37437,     0.37538,     0.37638,     0.37738,     0.37838,     0.37938,     0.38038,     0.38138,     0.38238,     0.38338,\n",
       "           0.38438,     0.38539,     0.38639,     0.38739,     0.38839,     0.38939,     0.39039,     0.39139,     0.39239,     0.39339,     0.39439,      0.3954,      0.3964,      0.3974,      0.3984,      0.3994,      0.4004,      0.4014,      0.4024,      0.4034,      0.4044,     0.40541,     0.40641,     0.40741,\n",
       "           0.40841,     0.40941,     0.41041,     0.41141,     0.41241,     0.41341,     0.41441,     0.41542,     0.41642,     0.41742,     0.41842,     0.41942,     0.42042,     0.42142,     0.42242,     0.42342,     0.42442,     0.42543,     0.42643,     0.42743,     0.42843,     0.42943,     0.43043,     0.43143,\n",
       "           0.43243,     0.43343,     0.43443,     0.43544,     0.43644,     0.43744,     0.43844,     0.43944,     0.44044,     0.44144,     0.44244,     0.44344,     0.44444,     0.44545,     0.44645,     0.44745,     0.44845,     0.44945,     0.45045,     0.45145,     0.45245,     0.45345,     0.45445,     0.45546,\n",
       "           0.45646,     0.45746,     0.45846,     0.45946,     0.46046,     0.46146,     0.46246,     0.46346,     0.46446,     0.46547,     0.46647,     0.46747,     0.46847,     0.46947,     0.47047,     0.47147,     0.47247,     0.47347,     0.47447,     0.47548,     0.47648,     0.47748,     0.47848,     0.47948,\n",
       "           0.48048,     0.48148,     0.48248,     0.48348,     0.48448,     0.48549,     0.48649,     0.48749,     0.48849,     0.48949,     0.49049,     0.49149,     0.49249,     0.49349,     0.49449,      0.4955,      0.4965,      0.4975,      0.4985,      0.4995,      0.5005,      0.5015,      0.5025,      0.5035,\n",
       "            0.5045,     0.50551,     0.50651,     0.50751,     0.50851,     0.50951,     0.51051,     0.51151,     0.51251,     0.51351,     0.51451,     0.51552,     0.51652,     0.51752,     0.51852,     0.51952,     0.52052,     0.52152,     0.52252,     0.52352,     0.52452,     0.52553,     0.52653,     0.52753,\n",
       "           0.52853,     0.52953,     0.53053,     0.53153,     0.53253,     0.53353,     0.53453,     0.53554,     0.53654,     0.53754,     0.53854,     0.53954,     0.54054,     0.54154,     0.54254,     0.54354,     0.54454,     0.54555,     0.54655,     0.54755,     0.54855,     0.54955,     0.55055,     0.55155,\n",
       "           0.55255,     0.55355,     0.55455,     0.55556,     0.55656,     0.55756,     0.55856,     0.55956,     0.56056,     0.56156,     0.56256,     0.56356,     0.56456,     0.56557,     0.56657,     0.56757,     0.56857,     0.56957,     0.57057,     0.57157,     0.57257,     0.57357,     0.57457,     0.57558,\n",
       "           0.57658,     0.57758,     0.57858,     0.57958,     0.58058,     0.58158,     0.58258,     0.58358,     0.58458,     0.58559,     0.58659,     0.58759,     0.58859,     0.58959,     0.59059,     0.59159,     0.59259,     0.59359,     0.59459,      0.5956,      0.5966,      0.5976,      0.5986,      0.5996,\n",
       "            0.6006,      0.6016,      0.6026,      0.6036,      0.6046,     0.60561,     0.60661,     0.60761,     0.60861,     0.60961,     0.61061,     0.61161,     0.61261,     0.61361,     0.61461,     0.61562,     0.61662,     0.61762,     0.61862,     0.61962,     0.62062,     0.62162,     0.62262,     0.62362,\n",
       "           0.62462,     0.62563,     0.62663,     0.62763,     0.62863,     0.62963,     0.63063,     0.63163,     0.63263,     0.63363,     0.63463,     0.63564,     0.63664,     0.63764,     0.63864,     0.63964,     0.64064,     0.64164,     0.64264,     0.64364,     0.64464,     0.64565,     0.64665,     0.64765,\n",
       "           0.64865,     0.64965,     0.65065,     0.65165,     0.65265,     0.65365,     0.65465,     0.65566,     0.65666,     0.65766,     0.65866,     0.65966,     0.66066,     0.66166,     0.66266,     0.66366,     0.66466,     0.66567,     0.66667,     0.66767,     0.66867,     0.66967,     0.67067,     0.67167,\n",
       "           0.67267,     0.67367,     0.67467,     0.67568,     0.67668,     0.67768,     0.67868,     0.67968,     0.68068,     0.68168,     0.68268,     0.68368,     0.68468,     0.68569,     0.68669,     0.68769,     0.68869,     0.68969,     0.69069,     0.69169,     0.69269,     0.69369,     0.69469,      0.6957,\n",
       "            0.6967,      0.6977,      0.6987,      0.6997,      0.7007,      0.7017,      0.7027,      0.7037,      0.7047,     0.70571,     0.70671,     0.70771,     0.70871,     0.70971,     0.71071,     0.71171,     0.71271,     0.71371,     0.71471,     0.71572,     0.71672,     0.71772,     0.71872,     0.71972,\n",
       "           0.72072,     0.72172,     0.72272,     0.72372,     0.72472,     0.72573,     0.72673,     0.72773,     0.72873,     0.72973,     0.73073,     0.73173,     0.73273,     0.73373,     0.73473,     0.73574,     0.73674,     0.73774,     0.73874,     0.73974,     0.74074,     0.74174,     0.74274,     0.74374,\n",
       "           0.74474,     0.74575,     0.74675,     0.74775,     0.74875,     0.74975,     0.75075,     0.75175,     0.75275,     0.75375,     0.75475,     0.75576,     0.75676,     0.75776,     0.75876,     0.75976,     0.76076,     0.76176,     0.76276,     0.76376,     0.76476,     0.76577,     0.76677,     0.76777,\n",
       "           0.76877,     0.76977,     0.77077,     0.77177,     0.77277,     0.77377,     0.77477,     0.77578,     0.77678,     0.77778,     0.77878,     0.77978,     0.78078,     0.78178,     0.78278,     0.78378,     0.78478,     0.78579,     0.78679,     0.78779,     0.78879,     0.78979,     0.79079,     0.79179,\n",
       "           0.79279,     0.79379,     0.79479,      0.7958,      0.7968,      0.7978,      0.7988,      0.7998,      0.8008,      0.8018,      0.8028,      0.8038,      0.8048,     0.80581,     0.80681,     0.80781,     0.80881,     0.80981,     0.81081,     0.81181,     0.81281,     0.81381,     0.81481,     0.81582,\n",
       "           0.81682,     0.81782,     0.81882,     0.81982,     0.82082,     0.82182,     0.82282,     0.82382,     0.82482,     0.82583,     0.82683,     0.82783,     0.82883,     0.82983,     0.83083,     0.83183,     0.83283,     0.83383,     0.83483,     0.83584,     0.83684,     0.83784,     0.83884,     0.83984,\n",
       "           0.84084,     0.84184,     0.84284,     0.84384,     0.84484,     0.84585,     0.84685,     0.84785,     0.84885,     0.84985,     0.85085,     0.85185,     0.85285,     0.85385,     0.85485,     0.85586,     0.85686,     0.85786,     0.85886,     0.85986,     0.86086,     0.86186,     0.86286,     0.86386,\n",
       "           0.86486,     0.86587,     0.86687,     0.86787,     0.86887,     0.86987,     0.87087,     0.87187,     0.87287,     0.87387,     0.87487,     0.87588,     0.87688,     0.87788,     0.87888,     0.87988,     0.88088,     0.88188,     0.88288,     0.88388,     0.88488,     0.88589,     0.88689,     0.88789,\n",
       "           0.88889,     0.88989,     0.89089,     0.89189,     0.89289,     0.89389,     0.89489,      0.8959,      0.8969,      0.8979,      0.8989,      0.8999,      0.9009,      0.9019,      0.9029,      0.9039,      0.9049,     0.90591,     0.90691,     0.90791,     0.90891,     0.90991,     0.91091,     0.91191,\n",
       "           0.91291,     0.91391,     0.91491,     0.91592,     0.91692,     0.91792,     0.91892,     0.91992,     0.92092,     0.92192,     0.92292,     0.92392,     0.92492,     0.92593,     0.92693,     0.92793,     0.92893,     0.92993,     0.93093,     0.93193,     0.93293,     0.93393,     0.93493,     0.93594,\n",
       "           0.93694,     0.93794,     0.93894,     0.93994,     0.94094,     0.94194,     0.94294,     0.94394,     0.94494,     0.94595,     0.94695,     0.94795,     0.94895,     0.94995,     0.95095,     0.95195,     0.95295,     0.95395,     0.95495,     0.95596,     0.95696,     0.95796,     0.95896,     0.95996,\n",
       "           0.96096,     0.96196,     0.96296,     0.96396,     0.96496,     0.96597,     0.96697,     0.96797,     0.96897,     0.96997,     0.97097,     0.97197,     0.97297,     0.97397,     0.97497,     0.97598,     0.97698,     0.97798,     0.97898,     0.97998,     0.98098,     0.98198,     0.98298,     0.98398,\n",
       "           0.98498,     0.98599,     0.98699,     0.98799,     0.98899,     0.98999,     0.99099,     0.99199,     0.99299,     0.99399,     0.99499,       0.996,       0.997,       0.998,       0.999,           1]), array([[     0.9751,      0.9751,      0.9751,     0.97491,     0.97491,     0.97482,     0.97463,     0.97426,      0.9738,     0.97334,     0.97315,     0.97288,     0.97278,     0.97223,     0.97213,     0.97167,     0.97158,     0.97149,     0.97139,     0.97112,     0.97093,     0.97056,      0.9701,\n",
       "            0.96973,     0.96917,     0.96862,     0.96815,     0.96815,     0.96788,     0.96769,     0.96741,     0.96704,     0.96695,     0.96667,      0.9663,     0.96593,     0.96538,     0.96538,      0.9651,     0.96464,     0.96417,     0.96371,     0.96334,     0.96269,     0.96241,     0.96204,\n",
       "            0.96186,     0.96158,      0.9614,     0.96112,     0.96093,     0.96075,     0.96029,     0.96019,     0.95982,     0.95945,     0.95927,     0.95917,      0.9589,     0.95834,     0.95825,     0.95763,     0.95723,     0.95704,     0.95686,     0.95667,     0.95658,     0.95593,     0.95538,\n",
       "            0.95492,     0.95464,     0.95436,     0.95418,      0.9539,      0.9538,     0.95371,     0.95343,     0.95334,     0.95316,     0.95288,     0.95232,     0.95232,     0.95223,     0.95195,     0.95186,     0.95168,     0.95121,     0.95084,     0.95066,     0.95056,      0.9501,     0.95001,\n",
       "            0.94992,     0.94982,     0.94973,     0.94941,     0.94922,     0.94899,     0.94862,     0.94853,     0.94853,     0.94807,     0.94797,     0.94779,     0.94769,     0.94751,     0.94705,     0.94705,     0.94686,     0.94668,     0.94612,     0.94603,     0.94584,     0.94559,      0.9452,\n",
       "             0.9451,     0.94436,     0.94408,     0.94362,     0.94353,     0.94344,     0.94307,     0.94288,      0.9426,     0.94233,     0.94205,     0.94186,     0.94158,     0.94131,     0.94067,     0.94066,     0.94029,      0.9401,     0.93992,     0.93955,     0.93946,     0.93909,     0.93881,\n",
       "            0.93834,     0.93825,     0.93797,     0.93779,      0.9376,     0.93742,     0.93686,     0.93631,     0.93612,     0.93612,     0.93594,     0.93585,     0.93575,     0.93566,     0.93557,     0.93547,     0.93536,     0.93501,     0.93473,     0.93446,     0.93446,     0.93409,     0.93362,\n",
       "            0.93362,     0.93335,     0.93279,     0.93261,     0.93233,     0.93214,     0.93186,     0.93159,     0.93159,      0.9314,      0.9311,     0.93075,     0.93038,     0.93001,     0.92955,     0.92936,     0.92936,     0.92927,     0.92881,     0.92844,     0.92844,     0.92798,      0.9277,\n",
       "             0.9277,     0.92733,     0.92696,     0.92677,     0.92668,     0.92668,     0.92659,     0.92659,     0.92659,     0.92622,     0.92594,     0.92575,     0.92575,     0.92548,     0.92538,     0.92511,     0.92501,     0.92492,     0.92474,     0.92463,     0.92448,      0.9239,     0.92354,\n",
       "            0.92302,     0.92261,     0.92251,     0.92196,      0.9214,     0.92094,      0.9206,     0.92029,     0.92011,     0.91983,     0.91974,     0.91924,     0.91918,      0.9189,     0.91872,     0.91853,     0.91835,     0.91807,     0.91807,     0.91752,     0.91733,     0.91696,     0.91687,\n",
       "            0.91668,     0.91627,     0.91576,     0.91529,     0.91529,     0.91502,     0.91492,     0.91473,     0.91442,     0.91411,       0.914,     0.91381,     0.91316,     0.91307,     0.91272,     0.91242,     0.91233,     0.91205,     0.91196,     0.91178,     0.91159,     0.91113,     0.91103,\n",
       "            0.91057,     0.91029,      0.9102,     0.90974,     0.90965,     0.90937,       0.909,     0.90863,     0.90817,     0.90797,     0.90775,     0.90761,     0.90742,     0.90719,     0.90705,     0.90668,     0.90659,     0.90625,     0.90539,      0.9053,      0.9053,     0.90511,     0.90483,\n",
       "            0.90437,     0.90418,       0.904,     0.90354,     0.90326,      0.9028,     0.90251,      0.9022,     0.90187,     0.90161,     0.90085,     0.90076,     0.90076,     0.90057,     0.90048,      0.9002,     0.89993,     0.89956,     0.89882,     0.89859,     0.89835,     0.89807,     0.89798,\n",
       "            0.89761,     0.89752,     0.89752,     0.89724,     0.89669,     0.89628,     0.89608,     0.89595,     0.89585,     0.89557,     0.89511,     0.89483,     0.89474,     0.89428,     0.89419,     0.89372,     0.89335,     0.89301,     0.89289,     0.89261,     0.89215,     0.89196,     0.89187,\n",
       "            0.89159,     0.89142,     0.89085,     0.89058,     0.89039,     0.89011,     0.89011,     0.89002,     0.88974,     0.88953,     0.88919,     0.88919,     0.88909,     0.88892,     0.88873,     0.88808,     0.88789,      0.8878,     0.88761,     0.88743,     0.88717,     0.88687,     0.88641,\n",
       "            0.88576,     0.88567,     0.88534,     0.88502,     0.88484,     0.88437,       0.884,       0.884,     0.88373,     0.88363,     0.88335,     0.88308,     0.88261,     0.88261,     0.88243,     0.88187,     0.88178,     0.88138,       0.881,     0.88086,     0.88076,     0.88058,     0.88031,\n",
       "             0.8803,     0.88012,     0.87956,     0.87935,     0.87898,     0.87873,     0.87854,     0.87826,     0.87789,     0.87771,     0.87753,     0.87715,     0.87687,     0.87669,      0.8766,     0.87632,     0.87613,     0.87595,     0.87576,     0.87558,     0.87521,     0.87514,     0.87428,\n",
       "             0.8741,     0.87381,     0.87353,     0.87307,      0.8728,     0.87239,     0.87188,     0.87137,     0.87123,     0.87086,      0.8706,     0.87023,     0.87002,     0.87002,     0.86948,     0.86919,     0.86862,     0.86854,     0.86834,     0.86778,     0.86759,     0.86706,     0.86666,\n",
       "            0.86641,     0.86604,     0.86543,     0.86521,     0.86505,     0.86465,     0.86449,     0.86412,     0.86384,     0.86354,     0.86327,     0.86279,     0.86216,     0.86188,     0.86151,     0.86121,     0.86077,     0.86055,      0.8603,     0.86018,      0.8599,     0.85933,     0.85922,\n",
       "            0.85892,     0.85866,     0.85811,     0.85799,      0.8579,     0.85771,     0.85734,     0.85716,     0.85679,     0.85642,     0.85632,     0.85623,     0.85605,     0.85558,     0.85549,     0.85521,      0.8552,     0.85503,     0.85475,     0.85466,     0.85438,     0.85387,     0.85345,\n",
       "            0.85318,     0.85299,     0.85281,     0.85262,     0.85243,     0.85201,     0.85163,     0.85126,     0.85114,     0.85079,     0.85033,     0.84966,      0.8494,     0.84919,     0.84892,     0.84865,     0.84818,     0.84799,     0.84688,     0.84623,      0.8454,     0.84521,     0.84512,\n",
       "            0.84466,     0.84437,       0.844,     0.84355,     0.84308,     0.84242,     0.84204,     0.84167,     0.84105,     0.84077,     0.84046,     0.84003,     0.83975,     0.83953,      0.8391,     0.83873,     0.83832,     0.83767,     0.83725,     0.83664,     0.83609,     0.83577,     0.83512,\n",
       "            0.83488,     0.83386,     0.83346,     0.83311,     0.83292,     0.83262,     0.83227,     0.83198,     0.83179,     0.83134,     0.83123,     0.83068,     0.83022,     0.83003,     0.82929,     0.82901,     0.82874,     0.82817,     0.82744,     0.82707,     0.82661,     0.82596,     0.82575,\n",
       "            0.82503,     0.82501,     0.82448,     0.82408,     0.82361,     0.82315,     0.82253,     0.82212,     0.82142,     0.82105,     0.82077,     0.82022,     0.81989,     0.81952,     0.81887,     0.81831,     0.81818,     0.81784,      0.8171,      0.8167,     0.81635,     0.81598,     0.81496,\n",
       "            0.81476,     0.81449,     0.81374,     0.81309,     0.81272,     0.81194,     0.81142,     0.81105,      0.8105,     0.81026,     0.80994,     0.80933,     0.80905,     0.80855,     0.80794,     0.80707,     0.80615,     0.80552,     0.80515,     0.80432,     0.80394,     0.80346,     0.80272,\n",
       "            0.80218,     0.80171,     0.80133,     0.80069,     0.80031,     0.79911,     0.79837,     0.79786,     0.79758,     0.79735,      0.7967,     0.79624,      0.7959,     0.79559,     0.79506,     0.79441,     0.79385,     0.79346,     0.79302,     0.79264,     0.79235,     0.79133,     0.79065,\n",
       "            0.79013,      0.7893,     0.78874,     0.78842,     0.78772,     0.78745,     0.78665,      0.7855,     0.78516,       0.784,     0.78354,     0.78307,     0.78236,     0.78161,     0.78094,     0.78066,     0.78001,     0.77958,     0.77958,     0.77865,     0.77782,     0.77754,      0.7768,\n",
       "            0.77652,     0.77596,     0.77513,     0.77421,     0.77347,     0.77276,     0.77226,     0.77192,     0.77099,     0.77043,     0.77014,     0.76872,     0.76791,     0.76668,      0.7663,      0.7656,      0.7644,     0.76347,     0.76264,     0.76106,     0.76069,     0.76014,     0.75966,\n",
       "            0.75906,     0.75841,     0.75782,      0.7572,     0.75674,     0.75539,     0.75465,     0.75381,     0.75282,     0.75218,     0.75134,     0.75088,     0.75024,     0.74959,     0.74815,     0.74741,      0.7469,     0.74611,     0.74476,     0.74393,       0.743,     0.74208,     0.74168,\n",
       "            0.74107,     0.74033,     0.73915,     0.73792,     0.73734,     0.73613,     0.73517,     0.73478,     0.73413,     0.73321,     0.73236,      0.7313,     0.73033,     0.72792,      0.7269,      0.7257,     0.72476,     0.72379,     0.72292,      0.7219,     0.72013,     0.71903,     0.71862,\n",
       "            0.71767,     0.71665,       0.716,     0.71403,     0.71298,     0.71202,     0.71108,     0.70987,     0.70737,     0.70631,     0.70413,     0.70311,     0.70245,     0.70154,     0.70139,     0.69893,     0.69615,     0.69604,     0.69416,     0.69404,     0.69188,     0.68987,     0.68981,\n",
       "            0.68822,     0.68821,      0.6863,      0.6847,      0.6846,     0.68293,     0.68029,      0.6802,     0.67867,     0.67644,     0.67638,     0.67408,     0.67227,     0.67219,     0.67046,       0.668,     0.66772,     0.66594,     0.66582,     0.66358,     0.66199,     0.66192,     0.65992,\n",
       "            0.65734,     0.65729,     0.65491,     0.65293,     0.65154,     0.65126,     0.64976,     0.64971,     0.64681,     0.64441,     0.64435,     0.64134,     0.63892,     0.63879,     0.63689,      0.6339,      0.6336,      0.6305,     0.62829,     0.62822,     0.62655,     0.62353,     0.62143,\n",
       "            0.62137,     0.61896,     0.61659,     0.61405,     0.61405,     0.61133,     0.60847,     0.60822,     0.60598,     0.60331,     0.60043,     0.60037,     0.59658,      0.5943,     0.59424,     0.59104,      0.5882,     0.58814,     0.58583,     0.58286,     0.57968,     0.57656,     0.57642,\n",
       "            0.57369,     0.56993,     0.56674,     0.56668,      0.5636,     0.56069,     0.55712,     0.55696,     0.55249,     0.54945,     0.54688,     0.54667,     0.54315,     0.53991,      0.5363,     0.53255,     0.53231,     0.52854,     0.52545,     0.52176,     0.51924,     0.51619,     0.51613,\n",
       "            0.51266,     0.50944,     0.50496,     0.50033,     0.50012,     0.49671,     0.49312,     0.48917,     0.48488,     0.48136,     0.48121,     0.47733,     0.47402,     0.46968,     0.46598,     0.46315,     0.45991,     0.45564,     0.45167,     0.45161,     0.44776,     0.44467,     0.44073,\n",
       "            0.43682,     0.43177,     0.42761,     0.42305,     0.42299,     0.41966,     0.41594,     0.41105,     0.40651,     0.40183,     0.39706,      0.3928,     0.38951,     0.38571,     0.38173,      0.3763,     0.37287,     0.36804,     0.36382,     0.35917,     0.35591,       0.351,     0.34676,\n",
       "             0.3425,     0.33932,     0.33561,     0.33129,     0.32755,     0.32407,     0.32008,      0.3161,     0.31212,     0.30374,     0.30031,     0.29596,     0.28993,     0.28595,     0.28105,     0.27743,     0.27343,     0.26859,     0.26442,     0.25914,     0.25471,     0.24665,     0.24224,\n",
       "            0.23733,     0.23248,     0.22839,     0.22385,     0.21885,     0.21158,      0.2076,     0.19959,      0.1944,     0.18958,     0.18546,      0.1825,     0.17319,     0.16938,     0.16558,     0.16136,     0.15346,      0.1489,      0.1449,     0.13726,     0.13333,     0.12989,     0.12299,\n",
       "            0.11868,     0.11517,      0.1079,    0.099885,    0.096691,    0.089329,    0.085522,    0.079233,    0.075514,    0.072424,    0.065137,    0.062329,    0.056055,    0.052558,    0.050213,     0.04561,    0.043168,    0.038627,    0.036762,    0.032786,    0.028153,    0.026016,    0.022496,\n",
       "           0.018883,    0.017025,    0.014151,    0.012572,    0.011642,    0.010679,   0.0082997,    0.006999,   0.0060686,   0.0049531,   0.0039301,   0.0031849,   0.0021619,   0.0018796,   0.0015855,   0.0013149,   0.0010325,  0.00090067,  0.00087356,  0.00084644,  0.00069214,  0.00055096,  0.00044926,\n",
       "         0.00025002,  0.00020257,           0,           0,           0,           0,           0,           0,           0,           0,           0,           0,           0,           0,           0,           0,           0,           0,           0,           0,           0,           0,           0,\n",
       "                  0,           0,           0,           0,           0,           0,           0,           0,           0,           0,           0,           0,           0,           0,           0,           0,           0,           0,           0,           0,           0,           0,           0,\n",
       "                  0,           0,           0,           0,           0,           0,           0,           0,           0,           0,           0]]), 'Confidence', 'Recall']]\n",
       "fitness: 0.707887393566762\n",
       "keys: ['metrics/precision(B)', 'metrics/recall(B)', 'metrics/mAP50(B)', 'metrics/mAP50-95(B)']\n",
       "maps: array([    0.69022])\n",
       "names: {0: 'beer'}\n",
       "plot: True\n",
       "results_dict: {'metrics/precision(B)': 0.7976812680414528, 'metrics/recall(B)': 0.8376677918429446, 'metrics/mAP50(B)': 0.8668678070655113, 'metrics/mAP50-95(B)': 0.690222903178012, 'fitness': 0.707887393566762}\n",
       "save_dir: WindowsPath('runs/detect/train3')\n",
       "speed: {'preprocess': 0.09651440009474754, 'inference': 22.26061759982258, 'loss': 0.00025600194931030273, 'postprocess': 1.3912527989596128}\n",
       "task: 'detect'"
      ]
     },
     "execution_count": 9,
     "metadata": {},
     "output_type": "execute_result"
    }
   ],
   "source": [
    "model.train(data='dataset.yaml', epochs=75, imgsz=640, batch=8, show_labels=False, dropout=0.1, **augmentations)"
   ]
  },
  {
   "cell_type": "code",
   "execution_count": 15,
   "id": "452de888",
   "metadata": {},
   "outputs": [
    {
     "name": "stdout",
     "output_type": "stream",
     "text": [
      "Ultralytics 8.3.112  Python-3.11.9 torch-2.6.0+cu126 CUDA:0 (NVIDIA GeForce RTX 4070 Ti SUPER, 16375MiB)\n",
      "\u001b[34m\u001b[1mval: \u001b[0mFast image access  (ping: 0.00.0 ms, read: 30.35.3 MB/s, size: 139.1 KB)\n"
     ]
    },
    {
     "name": "stderr",
     "output_type": "stream",
     "text": [
      "\u001b[34m\u001b[1mval: \u001b[0mScanning C:\\prog\\py\\piv\\pivo-segmentation\\datasets\\yolo\\labels\\test... 60 images, 0 backgrounds, 0 corrupt: 100%|██████████| 60/60 [00:00<00:00, 678.24it/s]"
     ]
    },
    {
     "name": "stdout",
     "output_type": "stream",
     "text": [
      "\u001b[34m\u001b[1mval: \u001b[0mNew cache created: C:\\prog\\py\\piv\\pivo-segmentation\\datasets\\yolo\\labels\\test.cache\n"
     ]
    },
    {
     "name": "stderr",
     "output_type": "stream",
     "text": [
      "\n",
      "                 Class     Images  Instances      Box(P          R      mAP50  mAP50-95): 100%|██████████| 8/8 [00:02<00:00,  2.82it/s]\n"
     ]
    },
    {
     "name": "stdout",
     "output_type": "stream",
     "text": [
      "                   all         60       6015      0.819      0.887      0.884      0.694\n",
      "Speed: 0.6ms preprocess, 27.8ms inference, 0.0ms loss, 1.2ms postprocess per image\n",
      "Results saved to \u001b[1mruns\\detect\\train33\u001b[0m\n"
     ]
    },
    {
     "data": {
      "text/plain": [
       "ultralytics.utils.metrics.DetMetrics object with attributes:\n",
       "\n",
       "ap_class_index: array([0])\n",
       "box: ultralytics.utils.metrics.Metric object\n",
       "confusion_matrix: <ultralytics.utils.metrics.ConfusionMatrix object at 0x0000024835F73010>\n",
       "curves: ['Precision-Recall(B)', 'F1-Confidence(B)', 'Precision-Confidence(B)', 'Recall-Confidence(B)']\n",
       "curves_results: [[array([          0,    0.001001,    0.002002,    0.003003,    0.004004,    0.005005,    0.006006,    0.007007,    0.008008,    0.009009,     0.01001,    0.011011,    0.012012,    0.013013,    0.014014,    0.015015,    0.016016,    0.017017,    0.018018,    0.019019,     0.02002,    0.021021,    0.022022,    0.023023,\n",
       "          0.024024,    0.025025,    0.026026,    0.027027,    0.028028,    0.029029,     0.03003,    0.031031,    0.032032,    0.033033,    0.034034,    0.035035,    0.036036,    0.037037,    0.038038,    0.039039,     0.04004,    0.041041,    0.042042,    0.043043,    0.044044,    0.045045,    0.046046,    0.047047,\n",
       "          0.048048,    0.049049,     0.05005,    0.051051,    0.052052,    0.053053,    0.054054,    0.055055,    0.056056,    0.057057,    0.058058,    0.059059,     0.06006,    0.061061,    0.062062,    0.063063,    0.064064,    0.065065,    0.066066,    0.067067,    0.068068,    0.069069,     0.07007,    0.071071,\n",
       "          0.072072,    0.073073,    0.074074,    0.075075,    0.076076,    0.077077,    0.078078,    0.079079,     0.08008,    0.081081,    0.082082,    0.083083,    0.084084,    0.085085,    0.086086,    0.087087,    0.088088,    0.089089,     0.09009,    0.091091,    0.092092,    0.093093,    0.094094,    0.095095,\n",
       "          0.096096,    0.097097,    0.098098,    0.099099,      0.1001,      0.1011,      0.1021,      0.1031,      0.1041,     0.10511,     0.10611,     0.10711,     0.10811,     0.10911,     0.11011,     0.11111,     0.11211,     0.11311,     0.11411,     0.11512,     0.11612,     0.11712,     0.11812,     0.11912,\n",
       "           0.12012,     0.12112,     0.12212,     0.12312,     0.12412,     0.12513,     0.12613,     0.12713,     0.12813,     0.12913,     0.13013,     0.13113,     0.13213,     0.13313,     0.13413,     0.13514,     0.13614,     0.13714,     0.13814,     0.13914,     0.14014,     0.14114,     0.14214,     0.14314,\n",
       "           0.14414,     0.14515,     0.14615,     0.14715,     0.14815,     0.14915,     0.15015,     0.15115,     0.15215,     0.15315,     0.15415,     0.15516,     0.15616,     0.15716,     0.15816,     0.15916,     0.16016,     0.16116,     0.16216,     0.16316,     0.16416,     0.16517,     0.16617,     0.16717,\n",
       "           0.16817,     0.16917,     0.17017,     0.17117,     0.17217,     0.17317,     0.17417,     0.17518,     0.17618,     0.17718,     0.17818,     0.17918,     0.18018,     0.18118,     0.18218,     0.18318,     0.18418,     0.18519,     0.18619,     0.18719,     0.18819,     0.18919,     0.19019,     0.19119,\n",
       "           0.19219,     0.19319,     0.19419,      0.1952,      0.1962,      0.1972,      0.1982,      0.1992,      0.2002,      0.2012,      0.2022,      0.2032,      0.2042,     0.20521,     0.20621,     0.20721,     0.20821,     0.20921,     0.21021,     0.21121,     0.21221,     0.21321,     0.21421,     0.21522,\n",
       "           0.21622,     0.21722,     0.21822,     0.21922,     0.22022,     0.22122,     0.22222,     0.22322,     0.22422,     0.22523,     0.22623,     0.22723,     0.22823,     0.22923,     0.23023,     0.23123,     0.23223,     0.23323,     0.23423,     0.23524,     0.23624,     0.23724,     0.23824,     0.23924,\n",
       "           0.24024,     0.24124,     0.24224,     0.24324,     0.24424,     0.24525,     0.24625,     0.24725,     0.24825,     0.24925,     0.25025,     0.25125,     0.25225,     0.25325,     0.25425,     0.25526,     0.25626,     0.25726,     0.25826,     0.25926,     0.26026,     0.26126,     0.26226,     0.26326,\n",
       "           0.26426,     0.26527,     0.26627,     0.26727,     0.26827,     0.26927,     0.27027,     0.27127,     0.27227,     0.27327,     0.27427,     0.27528,     0.27628,     0.27728,     0.27828,     0.27928,     0.28028,     0.28128,     0.28228,     0.28328,     0.28428,     0.28529,     0.28629,     0.28729,\n",
       "           0.28829,     0.28929,     0.29029,     0.29129,     0.29229,     0.29329,     0.29429,      0.2953,      0.2963,      0.2973,      0.2983,      0.2993,      0.3003,      0.3013,      0.3023,      0.3033,      0.3043,     0.30531,     0.30631,     0.30731,     0.30831,     0.30931,     0.31031,     0.31131,\n",
       "           0.31231,     0.31331,     0.31431,     0.31532,     0.31632,     0.31732,     0.31832,     0.31932,     0.32032,     0.32132,     0.32232,     0.32332,     0.32432,     0.32533,     0.32633,     0.32733,     0.32833,     0.32933,     0.33033,     0.33133,     0.33233,     0.33333,     0.33433,     0.33534,\n",
       "           0.33634,     0.33734,     0.33834,     0.33934,     0.34034,     0.34134,     0.34234,     0.34334,     0.34434,     0.34535,     0.34635,     0.34735,     0.34835,     0.34935,     0.35035,     0.35135,     0.35235,     0.35335,     0.35435,     0.35536,     0.35636,     0.35736,     0.35836,     0.35936,\n",
       "           0.36036,     0.36136,     0.36236,     0.36336,     0.36436,     0.36537,     0.36637,     0.36737,     0.36837,     0.36937,     0.37037,     0.37137,     0.37237,     0.37337,     0.37437,     0.37538,     0.37638,     0.37738,     0.37838,     0.37938,     0.38038,     0.38138,     0.38238,     0.38338,\n",
       "           0.38438,     0.38539,     0.38639,     0.38739,     0.38839,     0.38939,     0.39039,     0.39139,     0.39239,     0.39339,     0.39439,      0.3954,      0.3964,      0.3974,      0.3984,      0.3994,      0.4004,      0.4014,      0.4024,      0.4034,      0.4044,     0.40541,     0.40641,     0.40741,\n",
       "           0.40841,     0.40941,     0.41041,     0.41141,     0.41241,     0.41341,     0.41441,     0.41542,     0.41642,     0.41742,     0.41842,     0.41942,     0.42042,     0.42142,     0.42242,     0.42342,     0.42442,     0.42543,     0.42643,     0.42743,     0.42843,     0.42943,     0.43043,     0.43143,\n",
       "           0.43243,     0.43343,     0.43443,     0.43544,     0.43644,     0.43744,     0.43844,     0.43944,     0.44044,     0.44144,     0.44244,     0.44344,     0.44444,     0.44545,     0.44645,     0.44745,     0.44845,     0.44945,     0.45045,     0.45145,     0.45245,     0.45345,     0.45445,     0.45546,\n",
       "           0.45646,     0.45746,     0.45846,     0.45946,     0.46046,     0.46146,     0.46246,     0.46346,     0.46446,     0.46547,     0.46647,     0.46747,     0.46847,     0.46947,     0.47047,     0.47147,     0.47247,     0.47347,     0.47447,     0.47548,     0.47648,     0.47748,     0.47848,     0.47948,\n",
       "           0.48048,     0.48148,     0.48248,     0.48348,     0.48448,     0.48549,     0.48649,     0.48749,     0.48849,     0.48949,     0.49049,     0.49149,     0.49249,     0.49349,     0.49449,      0.4955,      0.4965,      0.4975,      0.4985,      0.4995,      0.5005,      0.5015,      0.5025,      0.5035,\n",
       "            0.5045,     0.50551,     0.50651,     0.50751,     0.50851,     0.50951,     0.51051,     0.51151,     0.51251,     0.51351,     0.51451,     0.51552,     0.51652,     0.51752,     0.51852,     0.51952,     0.52052,     0.52152,     0.52252,     0.52352,     0.52452,     0.52553,     0.52653,     0.52753,\n",
       "           0.52853,     0.52953,     0.53053,     0.53153,     0.53253,     0.53353,     0.53453,     0.53554,     0.53654,     0.53754,     0.53854,     0.53954,     0.54054,     0.54154,     0.54254,     0.54354,     0.54454,     0.54555,     0.54655,     0.54755,     0.54855,     0.54955,     0.55055,     0.55155,\n",
       "           0.55255,     0.55355,     0.55455,     0.55556,     0.55656,     0.55756,     0.55856,     0.55956,     0.56056,     0.56156,     0.56256,     0.56356,     0.56456,     0.56557,     0.56657,     0.56757,     0.56857,     0.56957,     0.57057,     0.57157,     0.57257,     0.57357,     0.57457,     0.57558,\n",
       "           0.57658,     0.57758,     0.57858,     0.57958,     0.58058,     0.58158,     0.58258,     0.58358,     0.58458,     0.58559,     0.58659,     0.58759,     0.58859,     0.58959,     0.59059,     0.59159,     0.59259,     0.59359,     0.59459,      0.5956,      0.5966,      0.5976,      0.5986,      0.5996,\n",
       "            0.6006,      0.6016,      0.6026,      0.6036,      0.6046,     0.60561,     0.60661,     0.60761,     0.60861,     0.60961,     0.61061,     0.61161,     0.61261,     0.61361,     0.61461,     0.61562,     0.61662,     0.61762,     0.61862,     0.61962,     0.62062,     0.62162,     0.62262,     0.62362,\n",
       "           0.62462,     0.62563,     0.62663,     0.62763,     0.62863,     0.62963,     0.63063,     0.63163,     0.63263,     0.63363,     0.63463,     0.63564,     0.63664,     0.63764,     0.63864,     0.63964,     0.64064,     0.64164,     0.64264,     0.64364,     0.64464,     0.64565,     0.64665,     0.64765,\n",
       "           0.64865,     0.64965,     0.65065,     0.65165,     0.65265,     0.65365,     0.65465,     0.65566,     0.65666,     0.65766,     0.65866,     0.65966,     0.66066,     0.66166,     0.66266,     0.66366,     0.66466,     0.66567,     0.66667,     0.66767,     0.66867,     0.66967,     0.67067,     0.67167,\n",
       "           0.67267,     0.67367,     0.67467,     0.67568,     0.67668,     0.67768,     0.67868,     0.67968,     0.68068,     0.68168,     0.68268,     0.68368,     0.68468,     0.68569,     0.68669,     0.68769,     0.68869,     0.68969,     0.69069,     0.69169,     0.69269,     0.69369,     0.69469,      0.6957,\n",
       "            0.6967,      0.6977,      0.6987,      0.6997,      0.7007,      0.7017,      0.7027,      0.7037,      0.7047,     0.70571,     0.70671,     0.70771,     0.70871,     0.70971,     0.71071,     0.71171,     0.71271,     0.71371,     0.71471,     0.71572,     0.71672,     0.71772,     0.71872,     0.71972,\n",
       "           0.72072,     0.72172,     0.72272,     0.72372,     0.72472,     0.72573,     0.72673,     0.72773,     0.72873,     0.72973,     0.73073,     0.73173,     0.73273,     0.73373,     0.73473,     0.73574,     0.73674,     0.73774,     0.73874,     0.73974,     0.74074,     0.74174,     0.74274,     0.74374,\n",
       "           0.74474,     0.74575,     0.74675,     0.74775,     0.74875,     0.74975,     0.75075,     0.75175,     0.75275,     0.75375,     0.75475,     0.75576,     0.75676,     0.75776,     0.75876,     0.75976,     0.76076,     0.76176,     0.76276,     0.76376,     0.76476,     0.76577,     0.76677,     0.76777,\n",
       "           0.76877,     0.76977,     0.77077,     0.77177,     0.77277,     0.77377,     0.77477,     0.77578,     0.77678,     0.77778,     0.77878,     0.77978,     0.78078,     0.78178,     0.78278,     0.78378,     0.78478,     0.78579,     0.78679,     0.78779,     0.78879,     0.78979,     0.79079,     0.79179,\n",
       "           0.79279,     0.79379,     0.79479,      0.7958,      0.7968,      0.7978,      0.7988,      0.7998,      0.8008,      0.8018,      0.8028,      0.8038,      0.8048,     0.80581,     0.80681,     0.80781,     0.80881,     0.80981,     0.81081,     0.81181,     0.81281,     0.81381,     0.81481,     0.81582,\n",
       "           0.81682,     0.81782,     0.81882,     0.81982,     0.82082,     0.82182,     0.82282,     0.82382,     0.82482,     0.82583,     0.82683,     0.82783,     0.82883,     0.82983,     0.83083,     0.83183,     0.83283,     0.83383,     0.83483,     0.83584,     0.83684,     0.83784,     0.83884,     0.83984,\n",
       "           0.84084,     0.84184,     0.84284,     0.84384,     0.84484,     0.84585,     0.84685,     0.84785,     0.84885,     0.84985,     0.85085,     0.85185,     0.85285,     0.85385,     0.85485,     0.85586,     0.85686,     0.85786,     0.85886,     0.85986,     0.86086,     0.86186,     0.86286,     0.86386,\n",
       "           0.86486,     0.86587,     0.86687,     0.86787,     0.86887,     0.86987,     0.87087,     0.87187,     0.87287,     0.87387,     0.87487,     0.87588,     0.87688,     0.87788,     0.87888,     0.87988,     0.88088,     0.88188,     0.88288,     0.88388,     0.88488,     0.88589,     0.88689,     0.88789,\n",
       "           0.88889,     0.88989,     0.89089,     0.89189,     0.89289,     0.89389,     0.89489,      0.8959,      0.8969,      0.8979,      0.8989,      0.8999,      0.9009,      0.9019,      0.9029,      0.9039,      0.9049,     0.90591,     0.90691,     0.90791,     0.90891,     0.90991,     0.91091,     0.91191,\n",
       "           0.91291,     0.91391,     0.91491,     0.91592,     0.91692,     0.91792,     0.91892,     0.91992,     0.92092,     0.92192,     0.92292,     0.92392,     0.92492,     0.92593,     0.92693,     0.92793,     0.92893,     0.92993,     0.93093,     0.93193,     0.93293,     0.93393,     0.93493,     0.93594,\n",
       "           0.93694,     0.93794,     0.93894,     0.93994,     0.94094,     0.94194,     0.94294,     0.94394,     0.94494,     0.94595,     0.94695,     0.94795,     0.94895,     0.94995,     0.95095,     0.95195,     0.95295,     0.95395,     0.95495,     0.95596,     0.95696,     0.95796,     0.95896,     0.95996,\n",
       "           0.96096,     0.96196,     0.96296,     0.96396,     0.96496,     0.96597,     0.96697,     0.96797,     0.96897,     0.96997,     0.97097,     0.97197,     0.97297,     0.97397,     0.97497,     0.97598,     0.97698,     0.97798,     0.97898,     0.97998,     0.98098,     0.98198,     0.98298,     0.98398,\n",
       "           0.98498,     0.98599,     0.98699,     0.98799,     0.98899,     0.98999,     0.99099,     0.99199,     0.99299,     0.99399,     0.99499,       0.996,       0.997,       0.998,       0.999,           1]), array([[          1,           1,           1,           1,     0.98571,     0.98571,     0.98571,     0.98571,     0.98571,     0.98571,     0.98571,     0.98571,     0.98315,     0.98315,     0.98315,     0.98315,     0.98315,     0.98315,     0.98315,     0.98315,     0.98315,     0.98315,     0.98315,\n",
       "            0.98315,     0.98315,     0.98315,     0.98315,     0.98315,     0.98315,     0.98315,     0.97872,     0.97166,     0.97166,     0.97166,     0.97166,     0.97166,     0.97166,     0.97166,     0.97166,     0.97166,     0.96947,     0.96947,     0.96947,     0.96667,     0.96541,     0.96541,\n",
       "            0.96541,     0.96541,     0.96541,     0.96541,     0.96541,     0.96505,     0.96505,     0.96505,     0.96505,     0.96505,     0.96505,     0.96505,     0.96505,     0.96505,     0.96084,     0.96084,      0.9601,      0.9601,     0.95913,     0.95913,     0.95913,     0.95821,     0.95821,\n",
       "            0.95821,     0.95821,     0.95821,     0.95821,     0.95821,     0.95821,     0.95821,     0.95821,     0.95821,     0.95821,     0.95821,     0.95821,     0.95821,     0.95821,     0.95821,     0.95821,     0.95821,     0.95821,     0.95821,     0.95821,     0.95821,     0.95821,     0.95821,\n",
       "            0.95821,     0.95821,     0.95821,     0.95821,     0.95821,     0.95821,     0.95821,     0.95821,     0.95821,     0.95821,     0.95821,     0.95821,     0.95821,     0.95821,     0.95821,     0.95821,     0.95821,     0.95821,     0.95821,      0.9581,      0.9581,      0.9581,      0.9574,\n",
       "             0.9574,      0.9574,      0.9574,      0.9574,      0.9574,      0.9574,      0.9574,      0.9574,      0.9574,      0.9574,      0.9574,      0.9574,      0.9574,      0.9574,      0.9574,      0.9574,      0.9574,      0.9574,      0.9574,      0.9574,     0.95703,     0.95703,     0.95602,\n",
       "             0.9552,      0.9552,      0.9552,      0.9552,      0.9552,      0.9552,      0.9552,      0.9552,      0.9552,      0.9552,      0.9552,      0.9552,      0.9552,      0.9552,      0.9552,      0.9552,      0.9552,      0.9552,      0.9552,      0.9552,      0.9552,      0.9552,      0.9552,\n",
       "             0.9552,      0.9552,      0.9552,      0.9552,      0.9552,      0.9552,     0.95482,     0.95482,     0.95482,     0.95482,     0.95482,     0.95482,     0.95482,     0.95482,     0.95482,     0.95482,     0.95482,     0.95482,     0.95482,     0.95482,     0.95482,     0.95482,     0.95415,\n",
       "            0.95329,     0.95329,     0.95329,     0.95329,     0.95329,     0.95329,     0.95281,     0.95281,     0.95238,     0.95238,     0.95238,     0.95238,     0.95227,     0.95227,     0.95227,     0.95178,     0.95149,     0.95149,      0.9509,     0.95027,     0.94985,     0.94935,     0.94935,\n",
       "            0.94935,     0.94935,     0.94935,     0.94935,     0.94935,     0.94935,     0.94935,     0.94935,     0.94935,     0.94935,     0.94935,      0.9491,      0.9491,     0.94857,     0.94733,     0.94719,     0.94719,     0.94719,     0.94719,     0.94719,     0.94719,     0.94719,     0.94719,\n",
       "            0.94668,     0.94569,     0.94488,     0.94488,     0.94488,     0.94488,     0.94488,     0.94488,     0.94488,     0.94488,     0.94451,     0.94451,     0.94451,     0.94451,     0.94451,     0.94451,     0.94451,     0.94451,     0.94451,     0.94409,     0.94409,     0.94409,     0.94409,\n",
       "            0.94409,     0.94409,     0.94409,     0.94409,     0.94409,     0.94409,     0.94409,     0.94409,     0.94409,     0.94409,     0.94409,     0.94409,     0.94409,     0.94409,     0.94409,     0.94409,     0.94409,     0.94409,     0.94409,     0.94409,       0.944,       0.944,       0.944,\n",
       "              0.944,       0.944,     0.94391,     0.94391,     0.94386,     0.94386,     0.94386,     0.94386,     0.94386,     0.94362,     0.94362,     0.94275,     0.94261,     0.94261,     0.94181,     0.94096,     0.94096,     0.94096,     0.94046,     0.94046,     0.94046,     0.93927,     0.93881,\n",
       "             0.9375,      0.9375,      0.9375,      0.9374,      0.9374,     0.93673,     0.93673,     0.93673,     0.93673,     0.93673,     0.93673,     0.93673,     0.93673,     0.93673,     0.93673,     0.93673,     0.93635,     0.93635,     0.93635,     0.93635,     0.93635,     0.93635,     0.93626,\n",
       "            0.93626,      0.9361,      0.9361,      0.9361,      0.9361,     0.93509,     0.93509,     0.93509,     0.93509,     0.93499,     0.93499,     0.93488,     0.93478,     0.93478,     0.93459,     0.93437,     0.93437,     0.93426,     0.93426,     0.93426,     0.93426,     0.93426,     0.93426,\n",
       "            0.93426,     0.93426,     0.93393,     0.93299,     0.93299,     0.93299,     0.93299,     0.93299,     0.93299,     0.93299,     0.93299,     0.93299,     0.93299,     0.93299,     0.93279,      0.9325,     0.93245,     0.93245,     0.93209,     0.93209,     0.93204,     0.93204,     0.93157,\n",
       "            0.93157,     0.93129,     0.93122,     0.93122,     0.93116,     0.93116,     0.93116,     0.93116,     0.93116,     0.93116,     0.93116,     0.93116,     0.93116,     0.93116,     0.93116,     0.93116,     0.93116,     0.93116,     0.93116,     0.93116,     0.93116,     0.93116,     0.93116,\n",
       "            0.93116,     0.93116,     0.93116,     0.93103,     0.93103,     0.93103,     0.93103,     0.93103,     0.93103,     0.93101,     0.93101,     0.93101,     0.93101,     0.93097,     0.93097,     0.93067,     0.93067,     0.93067,     0.93067,     0.93067,     0.93048,     0.93028,      0.9298,\n",
       "            0.92929,     0.92925,     0.92925,     0.92925,     0.92925,     0.92925,     0.92925,     0.92925,     0.92925,     0.92925,     0.92925,     0.92925,     0.92925,     0.92925,     0.92925,     0.92925,     0.92925,     0.92925,     0.92925,     0.92925,     0.92925,     0.92925,     0.92925,\n",
       "             0.9292,      0.9292,     0.92782,     0.92695,     0.92683,     0.92667,     0.92667,     0.92667,     0.92653,     0.92653,     0.92638,      0.9261,      0.9261,     0.92593,     0.92593,     0.92593,     0.92549,     0.92549,     0.92549,     0.92537,     0.92537,     0.92537,     0.92537,\n",
       "            0.92487,      0.9242,     0.92402,     0.92384,     0.92384,     0.92384,     0.92368,     0.92333,     0.92333,     0.92248,     0.92248,      0.9221,     0.92156,     0.92147,     0.92147,     0.92147,     0.92112,     0.92112,     0.92112,     0.92112,     0.92112,      0.9209,     0.92059,\n",
       "            0.92059,      0.9205,     0.92034,     0.92034,     0.92034,     0.92034,     0.92034,     0.92006,     0.92006,     0.91907,     0.91854,     0.91854,     0.91853,     0.91853,     0.91853,     0.91853,     0.91817,     0.91799,      0.9176,      0.9176,      0.9176,     0.91759,     0.91759,\n",
       "            0.91759,     0.91742,     0.91682,     0.91662,     0.91617,      0.9158,     0.91558,     0.91558,     0.91558,     0.91558,     0.91554,     0.91537,      0.9152,     0.91467,     0.91394,     0.91385,     0.91366,     0.91351,     0.91351,     0.91311,     0.91304,     0.91288,     0.91248,\n",
       "            0.91248,     0.91248,     0.91248,     0.91248,     0.91248,     0.91224,     0.91224,     0.91224,     0.91224,     0.91224,     0.91224,     0.91224,     0.91224,     0.91224,     0.91224,     0.91224,     0.91224,     0.91224,     0.91224,     0.91213,     0.91186,     0.91186,     0.91186,\n",
       "            0.91186,     0.91186,     0.91186,     0.91186,     0.91186,     0.91173,     0.91163,     0.91153,     0.91147,       0.911,     0.91073,      0.9098,      0.9098,     0.90916,     0.90878,     0.90878,     0.90878,     0.90878,     0.90851,     0.90839,     0.90804,     0.90792,     0.90759,\n",
       "            0.90726,     0.90648,     0.90597,     0.90597,     0.90597,     0.90546,     0.90517,     0.90508,     0.90495,     0.90458,      0.9044,      0.9044,      0.9044,     0.90408,     0.90392,     0.90295,     0.90248,     0.90233,     0.90136,     0.90101,     0.90028,     0.89973,     0.89973,\n",
       "            0.89973,     0.89973,     0.89973,     0.89921,     0.89908,     0.89882,     0.89882,     0.89872,     0.89845,     0.89828,     0.89801,     0.89785,     0.89785,     0.89785,     0.89759,      0.8974,      0.8972,      0.8972,      0.8972,      0.8972,     0.89663,     0.89605,     0.89605,\n",
       "            0.89605,     0.89585,     0.89585,     0.89585,     0.89558,     0.89556,     0.89553,     0.89553,     0.89553,     0.89506,     0.89506,     0.89506,     0.89506,     0.89506,     0.89479,     0.89472,     0.89466,     0.89434,     0.89432,     0.89432,     0.89393,     0.89335,     0.89324,\n",
       "            0.89254,     0.89251,     0.89243,     0.89217,     0.89173,     0.89142,     0.89142,     0.89063,     0.89045,     0.88994,     0.88994,     0.88994,     0.88974,     0.88974,     0.88974,     0.88929,     0.88909,     0.88891,     0.88889,     0.88889,     0.88889,     0.88889,     0.88889,\n",
       "            0.88854,      0.8883,      0.8883,      0.8883,      0.8883,      0.8883,     0.88816,     0.88804,     0.88768,     0.88768,     0.88768,     0.88737,     0.88737,     0.88713,     0.88697,     0.88637,     0.88595,     0.88589,     0.88589,      0.8857,      0.8857,     0.88547,     0.88534,\n",
       "            0.88503,     0.88475,     0.88456,     0.88456,     0.88426,     0.88368,     0.88343,     0.88321,     0.88269,     0.88225,     0.88207,     0.88207,     0.88201,     0.88187,     0.88134,      0.8813,     0.88122,     0.88103,     0.88063,     0.88023,     0.88007,      0.8798,     0.87927,\n",
       "            0.87927,     0.87901,     0.87878,     0.87802,     0.87802,     0.87744,     0.87725,     0.87687,     0.87629,       0.876,       0.876,     0.87588,     0.87573,     0.87545,     0.87488,     0.87488,     0.87468,     0.87403,     0.87398,     0.87376,     0.87376,      0.8734,     0.87276,\n",
       "            0.87271,     0.87267,     0.87267,     0.87267,     0.87267,     0.87267,     0.87267,     0.87267,     0.87267,     0.87267,     0.87267,      0.8726,     0.87252,     0.87252,     0.87252,     0.87252,     0.87252,     0.87236,     0.87219,     0.87215,     0.87175,     0.87151,     0.87149,\n",
       "            0.87133,     0.86971,     0.86966,     0.86932,     0.86902,     0.86884,      0.8688,     0.86863,     0.86863,     0.86783,     0.86779,     0.86771,     0.86771,     0.86657,     0.86631,      0.8658,      0.8658,      0.8658,      0.8658,     0.86555,     0.86555,     0.86522,     0.86484,\n",
       "             0.8647,     0.86419,     0.86409,     0.86393,     0.86353,     0.86312,     0.86275,     0.86241,     0.86156,     0.86125,     0.86121,     0.86121,     0.86113,      0.8604,     0.86019,     0.85988,     0.85926,     0.85885,     0.85867,     0.85798,     0.85793,     0.85773,     0.85709,\n",
       "            0.85702,     0.85702,     0.85702,     0.85702,     0.85549,     0.85507,     0.85507,     0.85507,     0.85492,     0.85453,     0.85429,     0.85419,     0.85375,     0.85353,     0.85331,     0.85258,     0.85257,     0.85257,     0.85213,     0.85209,     0.85186,     0.85186,     0.85172,\n",
       "              0.851,     0.85028,     0.84959,     0.84917,     0.84886,     0.84861,     0.84805,     0.84766,     0.84747,      0.8472,      0.8467,     0.84651,     0.84533,       0.845,       0.845,     0.84478,     0.84447,     0.84386,     0.84326,     0.84277,     0.84257,     0.84245,     0.84122,\n",
       "            0.84054,     0.84054,     0.84004,     0.83959,     0.83939,     0.83835,     0.83606,     0.83535,     0.83497,     0.83476,     0.83459,     0.83435,     0.83422,     0.83347,     0.83344,      0.8332,      0.8315,     0.83092,     0.83072,     0.83035,     0.82993,     0.82931,     0.82853,\n",
       "            0.82783,     0.82669,     0.82621,     0.82619,     0.82499,     0.82445,     0.82362,     0.82327,     0.82277,     0.82195,     0.82094,     0.81959,     0.81931,     0.81867,     0.81859,     0.81778,     0.81705,     0.81387,      0.8128,     0.81101,     0.81048,     0.80827,     0.80815,\n",
       "            0.80654,     0.80533,     0.80527,      0.8046,     0.80421,     0.80352,     0.80275,     0.80165,       0.801,     0.80003,      0.7988,     0.79697,     0.79391,     0.79254,     0.79232,     0.79193,     0.79077,     0.78888,     0.78692,     0.78553,      0.7846,     0.78259,     0.78164,\n",
       "             0.7805,     0.77904,     0.77904,     0.77767,     0.77224,     0.77115,      0.7691,     0.76605,     0.76464,     0.76278,     0.75925,     0.75512,     0.75087,     0.74777,      0.7448,     0.74137,     0.74012,     0.73761,      0.7337,      0.7303,     0.72685,     0.72483,     0.72044,\n",
       "            0.71547,     0.71317,     0.70895,     0.70504,     0.70127,     0.69644,     0.68985,     0.68643,     0.68244,      0.6787,     0.67383,     0.66787,     0.66359,     0.65555,     0.64699,     0.63739,     0.62813,     0.61576,     0.61106,     0.60717,     0.59422,     0.58442,     0.57615,\n",
       "            0.56105,     0.55001,     0.54522,      0.5338,     0.52999,     0.52472,     0.51252,     0.49928,     0.48411,     0.47915,     0.45961,     0.44497,     0.43156,     0.42128,     0.41237,     0.39158,     0.35516,     0.31359,     0.29399,     0.27439,     0.25479,      0.2352,      0.2156,\n",
       "              0.196,      0.1764,      0.1568,      0.1372,      0.1176,    0.097998,    0.078398,    0.058799,    0.039199,      0.0196,           0]]), 'Recall', 'Precision'], [array([          0,    0.001001,    0.002002,    0.003003,    0.004004,    0.005005,    0.006006,    0.007007,    0.008008,    0.009009,     0.01001,    0.011011,    0.012012,    0.013013,    0.014014,    0.015015,    0.016016,    0.017017,    0.018018,    0.019019,     0.02002,    0.021021,    0.022022,    0.023023,\n",
       "          0.024024,    0.025025,    0.026026,    0.027027,    0.028028,    0.029029,     0.03003,    0.031031,    0.032032,    0.033033,    0.034034,    0.035035,    0.036036,    0.037037,    0.038038,    0.039039,     0.04004,    0.041041,    0.042042,    0.043043,    0.044044,    0.045045,    0.046046,    0.047047,\n",
       "          0.048048,    0.049049,     0.05005,    0.051051,    0.052052,    0.053053,    0.054054,    0.055055,    0.056056,    0.057057,    0.058058,    0.059059,     0.06006,    0.061061,    0.062062,    0.063063,    0.064064,    0.065065,    0.066066,    0.067067,    0.068068,    0.069069,     0.07007,    0.071071,\n",
       "          0.072072,    0.073073,    0.074074,    0.075075,    0.076076,    0.077077,    0.078078,    0.079079,     0.08008,    0.081081,    0.082082,    0.083083,    0.084084,    0.085085,    0.086086,    0.087087,    0.088088,    0.089089,     0.09009,    0.091091,    0.092092,    0.093093,    0.094094,    0.095095,\n",
       "          0.096096,    0.097097,    0.098098,    0.099099,      0.1001,      0.1011,      0.1021,      0.1031,      0.1041,     0.10511,     0.10611,     0.10711,     0.10811,     0.10911,     0.11011,     0.11111,     0.11211,     0.11311,     0.11411,     0.11512,     0.11612,     0.11712,     0.11812,     0.11912,\n",
       "           0.12012,     0.12112,     0.12212,     0.12312,     0.12412,     0.12513,     0.12613,     0.12713,     0.12813,     0.12913,     0.13013,     0.13113,     0.13213,     0.13313,     0.13413,     0.13514,     0.13614,     0.13714,     0.13814,     0.13914,     0.14014,     0.14114,     0.14214,     0.14314,\n",
       "           0.14414,     0.14515,     0.14615,     0.14715,     0.14815,     0.14915,     0.15015,     0.15115,     0.15215,     0.15315,     0.15415,     0.15516,     0.15616,     0.15716,     0.15816,     0.15916,     0.16016,     0.16116,     0.16216,     0.16316,     0.16416,     0.16517,     0.16617,     0.16717,\n",
       "           0.16817,     0.16917,     0.17017,     0.17117,     0.17217,     0.17317,     0.17417,     0.17518,     0.17618,     0.17718,     0.17818,     0.17918,     0.18018,     0.18118,     0.18218,     0.18318,     0.18418,     0.18519,     0.18619,     0.18719,     0.18819,     0.18919,     0.19019,     0.19119,\n",
       "           0.19219,     0.19319,     0.19419,      0.1952,      0.1962,      0.1972,      0.1982,      0.1992,      0.2002,      0.2012,      0.2022,      0.2032,      0.2042,     0.20521,     0.20621,     0.20721,     0.20821,     0.20921,     0.21021,     0.21121,     0.21221,     0.21321,     0.21421,     0.21522,\n",
       "           0.21622,     0.21722,     0.21822,     0.21922,     0.22022,     0.22122,     0.22222,     0.22322,     0.22422,     0.22523,     0.22623,     0.22723,     0.22823,     0.22923,     0.23023,     0.23123,     0.23223,     0.23323,     0.23423,     0.23524,     0.23624,     0.23724,     0.23824,     0.23924,\n",
       "           0.24024,     0.24124,     0.24224,     0.24324,     0.24424,     0.24525,     0.24625,     0.24725,     0.24825,     0.24925,     0.25025,     0.25125,     0.25225,     0.25325,     0.25425,     0.25526,     0.25626,     0.25726,     0.25826,     0.25926,     0.26026,     0.26126,     0.26226,     0.26326,\n",
       "           0.26426,     0.26527,     0.26627,     0.26727,     0.26827,     0.26927,     0.27027,     0.27127,     0.27227,     0.27327,     0.27427,     0.27528,     0.27628,     0.27728,     0.27828,     0.27928,     0.28028,     0.28128,     0.28228,     0.28328,     0.28428,     0.28529,     0.28629,     0.28729,\n",
       "           0.28829,     0.28929,     0.29029,     0.29129,     0.29229,     0.29329,     0.29429,      0.2953,      0.2963,      0.2973,      0.2983,      0.2993,      0.3003,      0.3013,      0.3023,      0.3033,      0.3043,     0.30531,     0.30631,     0.30731,     0.30831,     0.30931,     0.31031,     0.31131,\n",
       "           0.31231,     0.31331,     0.31431,     0.31532,     0.31632,     0.31732,     0.31832,     0.31932,     0.32032,     0.32132,     0.32232,     0.32332,     0.32432,     0.32533,     0.32633,     0.32733,     0.32833,     0.32933,     0.33033,     0.33133,     0.33233,     0.33333,     0.33433,     0.33534,\n",
       "           0.33634,     0.33734,     0.33834,     0.33934,     0.34034,     0.34134,     0.34234,     0.34334,     0.34434,     0.34535,     0.34635,     0.34735,     0.34835,     0.34935,     0.35035,     0.35135,     0.35235,     0.35335,     0.35435,     0.35536,     0.35636,     0.35736,     0.35836,     0.35936,\n",
       "           0.36036,     0.36136,     0.36236,     0.36336,     0.36436,     0.36537,     0.36637,     0.36737,     0.36837,     0.36937,     0.37037,     0.37137,     0.37237,     0.37337,     0.37437,     0.37538,     0.37638,     0.37738,     0.37838,     0.37938,     0.38038,     0.38138,     0.38238,     0.38338,\n",
       "           0.38438,     0.38539,     0.38639,     0.38739,     0.38839,     0.38939,     0.39039,     0.39139,     0.39239,     0.39339,     0.39439,      0.3954,      0.3964,      0.3974,      0.3984,      0.3994,      0.4004,      0.4014,      0.4024,      0.4034,      0.4044,     0.40541,     0.40641,     0.40741,\n",
       "           0.40841,     0.40941,     0.41041,     0.41141,     0.41241,     0.41341,     0.41441,     0.41542,     0.41642,     0.41742,     0.41842,     0.41942,     0.42042,     0.42142,     0.42242,     0.42342,     0.42442,     0.42543,     0.42643,     0.42743,     0.42843,     0.42943,     0.43043,     0.43143,\n",
       "           0.43243,     0.43343,     0.43443,     0.43544,     0.43644,     0.43744,     0.43844,     0.43944,     0.44044,     0.44144,     0.44244,     0.44344,     0.44444,     0.44545,     0.44645,     0.44745,     0.44845,     0.44945,     0.45045,     0.45145,     0.45245,     0.45345,     0.45445,     0.45546,\n",
       "           0.45646,     0.45746,     0.45846,     0.45946,     0.46046,     0.46146,     0.46246,     0.46346,     0.46446,     0.46547,     0.46647,     0.46747,     0.46847,     0.46947,     0.47047,     0.47147,     0.47247,     0.47347,     0.47447,     0.47548,     0.47648,     0.47748,     0.47848,     0.47948,\n",
       "           0.48048,     0.48148,     0.48248,     0.48348,     0.48448,     0.48549,     0.48649,     0.48749,     0.48849,     0.48949,     0.49049,     0.49149,     0.49249,     0.49349,     0.49449,      0.4955,      0.4965,      0.4975,      0.4985,      0.4995,      0.5005,      0.5015,      0.5025,      0.5035,\n",
       "            0.5045,     0.50551,     0.50651,     0.50751,     0.50851,     0.50951,     0.51051,     0.51151,     0.51251,     0.51351,     0.51451,     0.51552,     0.51652,     0.51752,     0.51852,     0.51952,     0.52052,     0.52152,     0.52252,     0.52352,     0.52452,     0.52553,     0.52653,     0.52753,\n",
       "           0.52853,     0.52953,     0.53053,     0.53153,     0.53253,     0.53353,     0.53453,     0.53554,     0.53654,     0.53754,     0.53854,     0.53954,     0.54054,     0.54154,     0.54254,     0.54354,     0.54454,     0.54555,     0.54655,     0.54755,     0.54855,     0.54955,     0.55055,     0.55155,\n",
       "           0.55255,     0.55355,     0.55455,     0.55556,     0.55656,     0.55756,     0.55856,     0.55956,     0.56056,     0.56156,     0.56256,     0.56356,     0.56456,     0.56557,     0.56657,     0.56757,     0.56857,     0.56957,     0.57057,     0.57157,     0.57257,     0.57357,     0.57457,     0.57558,\n",
       "           0.57658,     0.57758,     0.57858,     0.57958,     0.58058,     0.58158,     0.58258,     0.58358,     0.58458,     0.58559,     0.58659,     0.58759,     0.58859,     0.58959,     0.59059,     0.59159,     0.59259,     0.59359,     0.59459,      0.5956,      0.5966,      0.5976,      0.5986,      0.5996,\n",
       "            0.6006,      0.6016,      0.6026,      0.6036,      0.6046,     0.60561,     0.60661,     0.60761,     0.60861,     0.60961,     0.61061,     0.61161,     0.61261,     0.61361,     0.61461,     0.61562,     0.61662,     0.61762,     0.61862,     0.61962,     0.62062,     0.62162,     0.62262,     0.62362,\n",
       "           0.62462,     0.62563,     0.62663,     0.62763,     0.62863,     0.62963,     0.63063,     0.63163,     0.63263,     0.63363,     0.63463,     0.63564,     0.63664,     0.63764,     0.63864,     0.63964,     0.64064,     0.64164,     0.64264,     0.64364,     0.64464,     0.64565,     0.64665,     0.64765,\n",
       "           0.64865,     0.64965,     0.65065,     0.65165,     0.65265,     0.65365,     0.65465,     0.65566,     0.65666,     0.65766,     0.65866,     0.65966,     0.66066,     0.66166,     0.66266,     0.66366,     0.66466,     0.66567,     0.66667,     0.66767,     0.66867,     0.66967,     0.67067,     0.67167,\n",
       "           0.67267,     0.67367,     0.67467,     0.67568,     0.67668,     0.67768,     0.67868,     0.67968,     0.68068,     0.68168,     0.68268,     0.68368,     0.68468,     0.68569,     0.68669,     0.68769,     0.68869,     0.68969,     0.69069,     0.69169,     0.69269,     0.69369,     0.69469,      0.6957,\n",
       "            0.6967,      0.6977,      0.6987,      0.6997,      0.7007,      0.7017,      0.7027,      0.7037,      0.7047,     0.70571,     0.70671,     0.70771,     0.70871,     0.70971,     0.71071,     0.71171,     0.71271,     0.71371,     0.71471,     0.71572,     0.71672,     0.71772,     0.71872,     0.71972,\n",
       "           0.72072,     0.72172,     0.72272,     0.72372,     0.72472,     0.72573,     0.72673,     0.72773,     0.72873,     0.72973,     0.73073,     0.73173,     0.73273,     0.73373,     0.73473,     0.73574,     0.73674,     0.73774,     0.73874,     0.73974,     0.74074,     0.74174,     0.74274,     0.74374,\n",
       "           0.74474,     0.74575,     0.74675,     0.74775,     0.74875,     0.74975,     0.75075,     0.75175,     0.75275,     0.75375,     0.75475,     0.75576,     0.75676,     0.75776,     0.75876,     0.75976,     0.76076,     0.76176,     0.76276,     0.76376,     0.76476,     0.76577,     0.76677,     0.76777,\n",
       "           0.76877,     0.76977,     0.77077,     0.77177,     0.77277,     0.77377,     0.77477,     0.77578,     0.77678,     0.77778,     0.77878,     0.77978,     0.78078,     0.78178,     0.78278,     0.78378,     0.78478,     0.78579,     0.78679,     0.78779,     0.78879,     0.78979,     0.79079,     0.79179,\n",
       "           0.79279,     0.79379,     0.79479,      0.7958,      0.7968,      0.7978,      0.7988,      0.7998,      0.8008,      0.8018,      0.8028,      0.8038,      0.8048,     0.80581,     0.80681,     0.80781,     0.80881,     0.80981,     0.81081,     0.81181,     0.81281,     0.81381,     0.81481,     0.81582,\n",
       "           0.81682,     0.81782,     0.81882,     0.81982,     0.82082,     0.82182,     0.82282,     0.82382,     0.82482,     0.82583,     0.82683,     0.82783,     0.82883,     0.82983,     0.83083,     0.83183,     0.83283,     0.83383,     0.83483,     0.83584,     0.83684,     0.83784,     0.83884,     0.83984,\n",
       "           0.84084,     0.84184,     0.84284,     0.84384,     0.84484,     0.84585,     0.84685,     0.84785,     0.84885,     0.84985,     0.85085,     0.85185,     0.85285,     0.85385,     0.85485,     0.85586,     0.85686,     0.85786,     0.85886,     0.85986,     0.86086,     0.86186,     0.86286,     0.86386,\n",
       "           0.86486,     0.86587,     0.86687,     0.86787,     0.86887,     0.86987,     0.87087,     0.87187,     0.87287,     0.87387,     0.87487,     0.87588,     0.87688,     0.87788,     0.87888,     0.87988,     0.88088,     0.88188,     0.88288,     0.88388,     0.88488,     0.88589,     0.88689,     0.88789,\n",
       "           0.88889,     0.88989,     0.89089,     0.89189,     0.89289,     0.89389,     0.89489,      0.8959,      0.8969,      0.8979,      0.8989,      0.8999,      0.9009,      0.9019,      0.9029,      0.9039,      0.9049,     0.90591,     0.90691,     0.90791,     0.90891,     0.90991,     0.91091,     0.91191,\n",
       "           0.91291,     0.91391,     0.91491,     0.91592,     0.91692,     0.91792,     0.91892,     0.91992,     0.92092,     0.92192,     0.92292,     0.92392,     0.92492,     0.92593,     0.92693,     0.92793,     0.92893,     0.92993,     0.93093,     0.93193,     0.93293,     0.93393,     0.93493,     0.93594,\n",
       "           0.93694,     0.93794,     0.93894,     0.93994,     0.94094,     0.94194,     0.94294,     0.94394,     0.94494,     0.94595,     0.94695,     0.94795,     0.94895,     0.94995,     0.95095,     0.95195,     0.95295,     0.95395,     0.95495,     0.95596,     0.95696,     0.95796,     0.95896,     0.95996,\n",
       "           0.96096,     0.96196,     0.96296,     0.96396,     0.96496,     0.96597,     0.96697,     0.96797,     0.96897,     0.96997,     0.97097,     0.97197,     0.97297,     0.97397,     0.97497,     0.97598,     0.97698,     0.97798,     0.97898,     0.97998,     0.98098,     0.98198,     0.98298,     0.98398,\n",
       "           0.98498,     0.98599,     0.98699,     0.98799,     0.98899,     0.98999,     0.99099,     0.99199,     0.99299,     0.99399,     0.99499,       0.996,       0.997,       0.998,       0.999,           1]), array([[    0.49277,     0.49277,      0.4978,     0.50193,     0.50777,     0.51519,     0.52152,     0.52766,     0.53302,     0.53856,     0.54414,     0.54928,     0.55455,     0.55936,     0.56417,     0.56949,     0.57433,     0.57884,     0.58298,     0.58674,     0.59045,     0.59385,     0.59773,\n",
       "            0.60084,     0.60363,     0.60707,     0.61025,     0.61345,     0.61681,     0.61987,     0.62318,     0.62684,     0.63015,     0.63452,     0.63795,     0.64089,     0.64355,     0.64619,     0.64917,     0.65125,      0.6537,     0.65694,     0.65953,     0.66191,     0.66452,     0.66709,\n",
       "            0.66991,     0.67239,      0.6751,     0.67758,     0.67994,     0.68225,     0.68431,     0.68699,     0.68838,     0.69039,     0.69246,     0.69434,      0.6966,     0.69854,     0.69943,     0.70117,     0.70322,     0.70544,     0.70748,     0.70931,     0.71076,     0.71234,      0.7145,\n",
       "            0.71594,      0.7178,     0.71874,     0.72046,     0.72216,     0.72348,     0.72502,     0.72662,     0.72745,     0.72892,     0.73051,     0.73176,     0.73328,     0.73499,     0.73636,     0.73786,      0.7395,     0.74083,     0.74184,     0.74309,     0.74418,     0.74539,     0.74622,\n",
       "            0.74737,     0.74809,     0.74908,     0.74975,     0.75073,     0.75199,     0.75319,      0.7543,     0.75544,     0.75685,     0.75769,     0.75863,     0.75973,     0.76096,     0.76188,     0.76285,      0.7637,     0.76482,     0.76586,     0.76682,     0.76775,     0.76842,     0.76933,\n",
       "            0.77035,     0.77138,     0.77233,     0.77308,     0.77433,     0.77501,     0.77584,     0.77708,     0.77807,     0.77881,     0.77968,     0.78054,     0.78137,     0.78183,     0.78281,     0.78333,     0.78375,     0.78429,      0.7849,     0.78547,     0.78598,     0.78679,     0.78709,\n",
       "            0.78768,     0.78828,     0.78858,     0.78944,     0.78977,     0.79037,     0.79081,     0.79132,     0.79201,     0.79277,     0.79335,     0.79385,     0.79462,     0.79489,     0.79552,       0.796,     0.79618,     0.79681,     0.79735,     0.79809,     0.79858,     0.79906,      0.7993,\n",
       "            0.79986,     0.80035,     0.80097,     0.80134,     0.80157,     0.80244,     0.80317,      0.8035,     0.80394,     0.80479,     0.80524,     0.80556,     0.80584,     0.80607,     0.80613,     0.80673,     0.80722,     0.80749,     0.80804,     0.80897,     0.80947,     0.80969,     0.81033,\n",
       "            0.81041,     0.81086,     0.81106,     0.81141,      0.8118,     0.81221,     0.81278,     0.81267,     0.81292,     0.81339,     0.81386,     0.81425,     0.81482,     0.81523,     0.81534,     0.81568,     0.81608,     0.81674,     0.81685,     0.81705,     0.81748,     0.81825,     0.81869,\n",
       "            0.81925,     0.81959,     0.81969,     0.81973,     0.81975,     0.82012,     0.82021,     0.82077,     0.82129,     0.82145,     0.82187,     0.82192,     0.82223,     0.82244,     0.82272,     0.82305,      0.8234,     0.82375,     0.82386,     0.82426,     0.82457,     0.82497,     0.82534,\n",
       "            0.82527,      0.8253,     0.82539,     0.82576,     0.82601,     0.82618,     0.82634,     0.82653,     0.82666,     0.82693,     0.82714,     0.82722,     0.82715,     0.82746,     0.82736,     0.82776,     0.82787,     0.82825,     0.82837,     0.82852,     0.82871,     0.82905,     0.82916,\n",
       "            0.82967,     0.82995,     0.82998,     0.83022,     0.83039,     0.83046,     0.83075,     0.83102,     0.83137,      0.8316,     0.83198,     0.83205,     0.83206,     0.83222,     0.83263,     0.83293,     0.83316,     0.83348,     0.83365,     0.83378,     0.83391,     0.83425,     0.83421,\n",
       "             0.8344,     0.83454,     0.83492,     0.83528,     0.83551,     0.83561,     0.83578,     0.83593,     0.83601,     0.83607,     0.83623,      0.8364,     0.83633,     0.83667,     0.83691,     0.83719,      0.8376,     0.83783,     0.83811,     0.83808,      0.8382,      0.8384,      0.8384,\n",
       "            0.83857,     0.83879,     0.83903,     0.83921,     0.83937,      0.8392,      0.8394,     0.83959,     0.83986,      0.8399,     0.83996,     0.84006,     0.84021,     0.84051,     0.84052,     0.84062,     0.84071,     0.84081,     0.84081,     0.84107,     0.84117,     0.84135,     0.84143,\n",
       "            0.84147,     0.84142,      0.8415,     0.84154,      0.8417,     0.84181,     0.84187,     0.84193,     0.84218,     0.84227,     0.84241,     0.84268,     0.84269,     0.84281,     0.84296,     0.84319,     0.84345,     0.84376,     0.84385,       0.844,     0.84401,     0.84413,     0.84424,\n",
       "            0.84441,     0.84452,      0.8447,     0.84463,     0.84451,     0.84485,     0.84486,     0.84471,     0.84452,     0.84451,     0.84463,     0.84472,     0.84478,     0.84469,     0.84469,     0.84484,     0.84478,     0.84494,     0.84495,     0.84501,     0.84492,     0.84511,     0.84517,\n",
       "            0.84527,     0.84508,     0.84515,      0.8454,     0.84571,     0.84568,     0.84568,     0.84569,     0.84571,     0.84577,     0.84593,     0.84596,     0.84599,       0.846,     0.84592,     0.84614,     0.84611,     0.84641,     0.84646,     0.84651,     0.84654,      0.8469,     0.84727,\n",
       "            0.84733,     0.84724,     0.84728,     0.84729,      0.8474,     0.84769,     0.84766,     0.84799,     0.84795,      0.8481,     0.84821,     0.84826,     0.84825,     0.84822,     0.84807,     0.84794,     0.84783,     0.84762,      0.8477,     0.84778,     0.84796,     0.84795,     0.84799,\n",
       "            0.84791,     0.84819,     0.84832,     0.84843,     0.84874,     0.84877,     0.84887,     0.84889,     0.84895,      0.8491,     0.84923,     0.84934,     0.84927,     0.84928,     0.84912,     0.84919,     0.84938,     0.84945,     0.84994,     0.84984,     0.84989,     0.85013,     0.85014,\n",
       "            0.85015,     0.85017,     0.85014,      0.8503,     0.85032,     0.85019,     0.85021,     0.85017,     0.85018,     0.85012,     0.85023,     0.85029,      0.8503,     0.85028,     0.85022,     0.85035,     0.85029,     0.85006,     0.85015,     0.84994,        0.85,     0.84991,     0.85004,\n",
       "            0.85005,     0.84994,     0.84952,     0.84948,     0.84977,     0.84975,     0.84966,     0.84998,      0.8502,      0.8504,      0.8503,     0.84998,     0.84993,     0.84965,     0.84992,      0.8501,     0.85016,     0.85011,      0.8503,      0.8506,     0.85068,     0.85034,     0.85044,\n",
       "            0.85044,     0.85043,     0.85051,     0.85042,     0.85038,     0.85042,     0.85066,     0.85088,     0.85095,     0.85083,     0.85077,     0.85087,     0.85089,     0.85103,     0.85131,     0.85161,     0.85177,     0.85189,     0.85225,     0.85229,     0.85238,     0.85219,     0.85238,\n",
       "             0.8524,     0.85235,     0.85215,     0.85215,     0.85231,     0.85209,     0.85195,     0.85188,     0.85168,     0.85185,      0.8517,     0.85178,     0.85146,     0.85148,     0.85155,     0.85188,     0.85182,      0.8517,     0.85175,      0.8517,     0.85172,     0.85174,     0.85177,\n",
       "             0.8518,     0.85174,     0.85169,     0.85163,     0.85146,     0.85149,     0.85129,     0.85138,     0.85121,     0.85126,     0.85135,     0.85139,     0.85133,     0.85123,     0.85104,     0.85109,     0.85122,     0.85129,     0.85123,       0.851,     0.85082,     0.85061,     0.85079,\n",
       "            0.85051,     0.85059,     0.85075,     0.85068,     0.85042,     0.85056,     0.85053,     0.85054,     0.85056,     0.85046,     0.85045,     0.85047,     0.85041,     0.85011,     0.84998,     0.84976,     0.84965,     0.84942,     0.84958,     0.84933,     0.84912,     0.84927,     0.84931,\n",
       "            0.84927,     0.84971,     0.84974,     0.84979,     0.84911,      0.8491,     0.84891,     0.84901,     0.84892,     0.84886,     0.84854,     0.84835,     0.84799,     0.84769,     0.84754,     0.84722,     0.84693,     0.84679,     0.84696,     0.84707,     0.84735,     0.84752,     0.84752,\n",
       "            0.84756,     0.84712,     0.84695,     0.84685,     0.84685,     0.84671,     0.84633,     0.84595,     0.84577,     0.84601,      0.8459,     0.84614,     0.84576,     0.84563,     0.84551,     0.84505,      0.8451,     0.84505,     0.84484,     0.84461,     0.84455,     0.84425,     0.84392,\n",
       "            0.84339,     0.84329,     0.84321,     0.84302,     0.84305,     0.84331,     0.84272,     0.84269,     0.84245,      0.8421,     0.84184,     0.84141,     0.84148,     0.84143,     0.84104,     0.84065,     0.84038,     0.83995,     0.83989,      0.8398,     0.83966,     0.83975,     0.83945,\n",
       "             0.8391,     0.83851,      0.8378,      0.8375,     0.83719,     0.83645,     0.83635,     0.83609,     0.83573,     0.83551,     0.83525,     0.83509,     0.83418,     0.83356,     0.83264,     0.83209,       0.832,      0.8323,     0.83201,     0.83121,     0.83069,     0.83005,      0.8299,\n",
       "            0.82925,     0.82876,     0.82879,      0.8285,     0.82784,     0.82772,     0.82766,     0.82708,     0.82682,     0.82674,     0.82616,     0.82496,     0.82452,     0.82429,     0.82412,     0.82361,     0.82344,     0.82304,     0.82252,     0.82195,     0.82121,     0.82063,     0.81987,\n",
       "            0.81923,      0.8182,     0.81774,     0.81704,     0.81677,     0.81629,     0.81556,      0.8154,     0.81465,     0.81364,     0.81316,     0.81274,     0.81185,     0.81177,     0.81062,      0.8101,     0.80947,      0.8082,     0.80728,     0.80613,      0.8052,     0.80351,     0.80233,\n",
       "            0.80131,     0.80013,      0.7993,     0.79832,     0.79697,     0.79614,     0.79544,      0.7948,     0.79417,     0.79272,     0.79156,     0.79079,     0.79012,     0.78895,     0.78863,      0.7875,     0.78683,     0.78591,     0.78499,      0.7831,     0.78209,     0.78077,     0.77997,\n",
       "            0.77949,     0.77864,     0.77792,     0.77614,     0.77452,     0.77362,     0.77184,     0.77038,      0.7689,     0.76727,     0.76512,     0.76291,     0.76148,     0.75971,     0.75842,     0.75747,     0.75593,     0.75419,     0.75311,     0.75131,     0.75027,     0.74845,     0.74706,\n",
       "            0.74553,     0.74321,     0.74049,      0.7383,     0.73621,     0.73444,      0.7326,     0.73171,     0.72943,     0.72752,     0.72603,     0.72413,     0.72146,     0.72019,     0.71808,     0.71643,     0.71504,     0.71351,     0.71073,     0.70774,     0.70576,     0.70423,     0.70279,\n",
       "            0.70141,     0.69845,     0.69645,     0.69413,     0.69133,     0.68869,     0.68538,     0.68289,     0.68016,     0.67702,      0.6745,     0.67088,     0.66888,     0.66533,     0.66252,     0.65969,     0.65591,     0.65329,     0.64821,     0.64597,     0.64342,     0.63977,     0.63731,\n",
       "            0.63421,     0.63036,     0.62696,     0.62343,     0.62102,     0.61617,     0.61194,     0.60793,     0.60429,     0.60013,      0.5975,     0.59587,     0.59129,      0.5871,     0.58277,     0.57904,     0.57414,     0.57108,     0.56691,     0.56325,     0.55943,     0.55559,     0.55261,\n",
       "            0.54759,     0.54335,     0.53994,     0.53578,     0.53191,     0.52732,     0.52452,     0.52007,     0.51541,     0.51202,     0.50763,     0.50449,     0.49957,     0.49426,     0.48784,     0.48244,     0.47469,     0.47077,     0.46471,     0.45996,     0.45644,     0.45137,     0.44777,\n",
       "            0.44266,     0.43755,     0.43131,     0.42652,     0.42269,     0.41743,     0.40806,     0.40189,      0.3964,     0.39088,     0.38346,     0.37717,     0.37202,     0.36487,     0.35932,     0.35548,     0.34859,     0.34215,       0.335,     0.32917,     0.32232,     0.31376,     0.30509,\n",
       "             0.2988,     0.29318,      0.2882,     0.28231,     0.27755,     0.27042,     0.26333,     0.25822,     0.25109,     0.24282,     0.23424,     0.22844,     0.22216,     0.21502,     0.20921,      0.2018,     0.19275,     0.18692,       0.182,     0.17545,     0.16927,     0.16301,     0.15893,\n",
       "            0.15296,     0.14438,     0.13645,     0.13149,     0.12586,     0.12105,     0.11612,     0.11153,     0.10563,     0.10054,    0.095372,     0.08772,    0.080574,    0.075338,    0.068748,    0.063914,    0.061397,    0.056515,    0.051079,     0.04704,    0.041079,    0.034163,    0.028717,\n",
       "           0.025406,     0.02454,    0.020317,    0.016723,    0.013831,    0.012965,    0.011677,   0.0091888,   0.0074774,    0.006148,   0.0055634,   0.0050405,   0.0038499,   0.0032648,   0.0029019,   0.0026941,   0.0018616,   0.0013294,  0.00086853,  0.00065573,  0.00056206,  0.00046838,  0.00037469,\n",
       "                  0,           0,           0,           0,           0,           0,           0,           0,           0,           0,           0,           0,           0,           0,           0,           0,           0,           0,           0,           0,           0,           0,           0,\n",
       "                  0,           0,           0,           0,           0,           0,           0,           0,           0,           0,           0,           0,           0,           0,           0,           0,           0,           0,           0,           0,           0,           0,           0,\n",
       "                  0,           0,           0,           0,           0,           0,           0,           0,           0,           0,           0]]), 'Confidence', 'F1'], [array([          0,    0.001001,    0.002002,    0.003003,    0.004004,    0.005005,    0.006006,    0.007007,    0.008008,    0.009009,     0.01001,    0.011011,    0.012012,    0.013013,    0.014014,    0.015015,    0.016016,    0.017017,    0.018018,    0.019019,     0.02002,    0.021021,    0.022022,    0.023023,\n",
       "          0.024024,    0.025025,    0.026026,    0.027027,    0.028028,    0.029029,     0.03003,    0.031031,    0.032032,    0.033033,    0.034034,    0.035035,    0.036036,    0.037037,    0.038038,    0.039039,     0.04004,    0.041041,    0.042042,    0.043043,    0.044044,    0.045045,    0.046046,    0.047047,\n",
       "          0.048048,    0.049049,     0.05005,    0.051051,    0.052052,    0.053053,    0.054054,    0.055055,    0.056056,    0.057057,    0.058058,    0.059059,     0.06006,    0.061061,    0.062062,    0.063063,    0.064064,    0.065065,    0.066066,    0.067067,    0.068068,    0.069069,     0.07007,    0.071071,\n",
       "          0.072072,    0.073073,    0.074074,    0.075075,    0.076076,    0.077077,    0.078078,    0.079079,     0.08008,    0.081081,    0.082082,    0.083083,    0.084084,    0.085085,    0.086086,    0.087087,    0.088088,    0.089089,     0.09009,    0.091091,    0.092092,    0.093093,    0.094094,    0.095095,\n",
       "          0.096096,    0.097097,    0.098098,    0.099099,      0.1001,      0.1011,      0.1021,      0.1031,      0.1041,     0.10511,     0.10611,     0.10711,     0.10811,     0.10911,     0.11011,     0.11111,     0.11211,     0.11311,     0.11411,     0.11512,     0.11612,     0.11712,     0.11812,     0.11912,\n",
       "           0.12012,     0.12112,     0.12212,     0.12312,     0.12412,     0.12513,     0.12613,     0.12713,     0.12813,     0.12913,     0.13013,     0.13113,     0.13213,     0.13313,     0.13413,     0.13514,     0.13614,     0.13714,     0.13814,     0.13914,     0.14014,     0.14114,     0.14214,     0.14314,\n",
       "           0.14414,     0.14515,     0.14615,     0.14715,     0.14815,     0.14915,     0.15015,     0.15115,     0.15215,     0.15315,     0.15415,     0.15516,     0.15616,     0.15716,     0.15816,     0.15916,     0.16016,     0.16116,     0.16216,     0.16316,     0.16416,     0.16517,     0.16617,     0.16717,\n",
       "           0.16817,     0.16917,     0.17017,     0.17117,     0.17217,     0.17317,     0.17417,     0.17518,     0.17618,     0.17718,     0.17818,     0.17918,     0.18018,     0.18118,     0.18218,     0.18318,     0.18418,     0.18519,     0.18619,     0.18719,     0.18819,     0.18919,     0.19019,     0.19119,\n",
       "           0.19219,     0.19319,     0.19419,      0.1952,      0.1962,      0.1972,      0.1982,      0.1992,      0.2002,      0.2012,      0.2022,      0.2032,      0.2042,     0.20521,     0.20621,     0.20721,     0.20821,     0.20921,     0.21021,     0.21121,     0.21221,     0.21321,     0.21421,     0.21522,\n",
       "           0.21622,     0.21722,     0.21822,     0.21922,     0.22022,     0.22122,     0.22222,     0.22322,     0.22422,     0.22523,     0.22623,     0.22723,     0.22823,     0.22923,     0.23023,     0.23123,     0.23223,     0.23323,     0.23423,     0.23524,     0.23624,     0.23724,     0.23824,     0.23924,\n",
       "           0.24024,     0.24124,     0.24224,     0.24324,     0.24424,     0.24525,     0.24625,     0.24725,     0.24825,     0.24925,     0.25025,     0.25125,     0.25225,     0.25325,     0.25425,     0.25526,     0.25626,     0.25726,     0.25826,     0.25926,     0.26026,     0.26126,     0.26226,     0.26326,\n",
       "           0.26426,     0.26527,     0.26627,     0.26727,     0.26827,     0.26927,     0.27027,     0.27127,     0.27227,     0.27327,     0.27427,     0.27528,     0.27628,     0.27728,     0.27828,     0.27928,     0.28028,     0.28128,     0.28228,     0.28328,     0.28428,     0.28529,     0.28629,     0.28729,\n",
       "           0.28829,     0.28929,     0.29029,     0.29129,     0.29229,     0.29329,     0.29429,      0.2953,      0.2963,      0.2973,      0.2983,      0.2993,      0.3003,      0.3013,      0.3023,      0.3033,      0.3043,     0.30531,     0.30631,     0.30731,     0.30831,     0.30931,     0.31031,     0.31131,\n",
       "           0.31231,     0.31331,     0.31431,     0.31532,     0.31632,     0.31732,     0.31832,     0.31932,     0.32032,     0.32132,     0.32232,     0.32332,     0.32432,     0.32533,     0.32633,     0.32733,     0.32833,     0.32933,     0.33033,     0.33133,     0.33233,     0.33333,     0.33433,     0.33534,\n",
       "           0.33634,     0.33734,     0.33834,     0.33934,     0.34034,     0.34134,     0.34234,     0.34334,     0.34434,     0.34535,     0.34635,     0.34735,     0.34835,     0.34935,     0.35035,     0.35135,     0.35235,     0.35335,     0.35435,     0.35536,     0.35636,     0.35736,     0.35836,     0.35936,\n",
       "           0.36036,     0.36136,     0.36236,     0.36336,     0.36436,     0.36537,     0.36637,     0.36737,     0.36837,     0.36937,     0.37037,     0.37137,     0.37237,     0.37337,     0.37437,     0.37538,     0.37638,     0.37738,     0.37838,     0.37938,     0.38038,     0.38138,     0.38238,     0.38338,\n",
       "           0.38438,     0.38539,     0.38639,     0.38739,     0.38839,     0.38939,     0.39039,     0.39139,     0.39239,     0.39339,     0.39439,      0.3954,      0.3964,      0.3974,      0.3984,      0.3994,      0.4004,      0.4014,      0.4024,      0.4034,      0.4044,     0.40541,     0.40641,     0.40741,\n",
       "           0.40841,     0.40941,     0.41041,     0.41141,     0.41241,     0.41341,     0.41441,     0.41542,     0.41642,     0.41742,     0.41842,     0.41942,     0.42042,     0.42142,     0.42242,     0.42342,     0.42442,     0.42543,     0.42643,     0.42743,     0.42843,     0.42943,     0.43043,     0.43143,\n",
       "           0.43243,     0.43343,     0.43443,     0.43544,     0.43644,     0.43744,     0.43844,     0.43944,     0.44044,     0.44144,     0.44244,     0.44344,     0.44444,     0.44545,     0.44645,     0.44745,     0.44845,     0.44945,     0.45045,     0.45145,     0.45245,     0.45345,     0.45445,     0.45546,\n",
       "           0.45646,     0.45746,     0.45846,     0.45946,     0.46046,     0.46146,     0.46246,     0.46346,     0.46446,     0.46547,     0.46647,     0.46747,     0.46847,     0.46947,     0.47047,     0.47147,     0.47247,     0.47347,     0.47447,     0.47548,     0.47648,     0.47748,     0.47848,     0.47948,\n",
       "           0.48048,     0.48148,     0.48248,     0.48348,     0.48448,     0.48549,     0.48649,     0.48749,     0.48849,     0.48949,     0.49049,     0.49149,     0.49249,     0.49349,     0.49449,      0.4955,      0.4965,      0.4975,      0.4985,      0.4995,      0.5005,      0.5015,      0.5025,      0.5035,\n",
       "            0.5045,     0.50551,     0.50651,     0.50751,     0.50851,     0.50951,     0.51051,     0.51151,     0.51251,     0.51351,     0.51451,     0.51552,     0.51652,     0.51752,     0.51852,     0.51952,     0.52052,     0.52152,     0.52252,     0.52352,     0.52452,     0.52553,     0.52653,     0.52753,\n",
       "           0.52853,     0.52953,     0.53053,     0.53153,     0.53253,     0.53353,     0.53453,     0.53554,     0.53654,     0.53754,     0.53854,     0.53954,     0.54054,     0.54154,     0.54254,     0.54354,     0.54454,     0.54555,     0.54655,     0.54755,     0.54855,     0.54955,     0.55055,     0.55155,\n",
       "           0.55255,     0.55355,     0.55455,     0.55556,     0.55656,     0.55756,     0.55856,     0.55956,     0.56056,     0.56156,     0.56256,     0.56356,     0.56456,     0.56557,     0.56657,     0.56757,     0.56857,     0.56957,     0.57057,     0.57157,     0.57257,     0.57357,     0.57457,     0.57558,\n",
       "           0.57658,     0.57758,     0.57858,     0.57958,     0.58058,     0.58158,     0.58258,     0.58358,     0.58458,     0.58559,     0.58659,     0.58759,     0.58859,     0.58959,     0.59059,     0.59159,     0.59259,     0.59359,     0.59459,      0.5956,      0.5966,      0.5976,      0.5986,      0.5996,\n",
       "            0.6006,      0.6016,      0.6026,      0.6036,      0.6046,     0.60561,     0.60661,     0.60761,     0.60861,     0.60961,     0.61061,     0.61161,     0.61261,     0.61361,     0.61461,     0.61562,     0.61662,     0.61762,     0.61862,     0.61962,     0.62062,     0.62162,     0.62262,     0.62362,\n",
       "           0.62462,     0.62563,     0.62663,     0.62763,     0.62863,     0.62963,     0.63063,     0.63163,     0.63263,     0.63363,     0.63463,     0.63564,     0.63664,     0.63764,     0.63864,     0.63964,     0.64064,     0.64164,     0.64264,     0.64364,     0.64464,     0.64565,     0.64665,     0.64765,\n",
       "           0.64865,     0.64965,     0.65065,     0.65165,     0.65265,     0.65365,     0.65465,     0.65566,     0.65666,     0.65766,     0.65866,     0.65966,     0.66066,     0.66166,     0.66266,     0.66366,     0.66466,     0.66567,     0.66667,     0.66767,     0.66867,     0.66967,     0.67067,     0.67167,\n",
       "           0.67267,     0.67367,     0.67467,     0.67568,     0.67668,     0.67768,     0.67868,     0.67968,     0.68068,     0.68168,     0.68268,     0.68368,     0.68468,     0.68569,     0.68669,     0.68769,     0.68869,     0.68969,     0.69069,     0.69169,     0.69269,     0.69369,     0.69469,      0.6957,\n",
       "            0.6967,      0.6977,      0.6987,      0.6997,      0.7007,      0.7017,      0.7027,      0.7037,      0.7047,     0.70571,     0.70671,     0.70771,     0.70871,     0.70971,     0.71071,     0.71171,     0.71271,     0.71371,     0.71471,     0.71572,     0.71672,     0.71772,     0.71872,     0.71972,\n",
       "           0.72072,     0.72172,     0.72272,     0.72372,     0.72472,     0.72573,     0.72673,     0.72773,     0.72873,     0.72973,     0.73073,     0.73173,     0.73273,     0.73373,     0.73473,     0.73574,     0.73674,     0.73774,     0.73874,     0.73974,     0.74074,     0.74174,     0.74274,     0.74374,\n",
       "           0.74474,     0.74575,     0.74675,     0.74775,     0.74875,     0.74975,     0.75075,     0.75175,     0.75275,     0.75375,     0.75475,     0.75576,     0.75676,     0.75776,     0.75876,     0.75976,     0.76076,     0.76176,     0.76276,     0.76376,     0.76476,     0.76577,     0.76677,     0.76777,\n",
       "           0.76877,     0.76977,     0.77077,     0.77177,     0.77277,     0.77377,     0.77477,     0.77578,     0.77678,     0.77778,     0.77878,     0.77978,     0.78078,     0.78178,     0.78278,     0.78378,     0.78478,     0.78579,     0.78679,     0.78779,     0.78879,     0.78979,     0.79079,     0.79179,\n",
       "           0.79279,     0.79379,     0.79479,      0.7958,      0.7968,      0.7978,      0.7988,      0.7998,      0.8008,      0.8018,      0.8028,      0.8038,      0.8048,     0.80581,     0.80681,     0.80781,     0.80881,     0.80981,     0.81081,     0.81181,     0.81281,     0.81381,     0.81481,     0.81582,\n",
       "           0.81682,     0.81782,     0.81882,     0.81982,     0.82082,     0.82182,     0.82282,     0.82382,     0.82482,     0.82583,     0.82683,     0.82783,     0.82883,     0.82983,     0.83083,     0.83183,     0.83283,     0.83383,     0.83483,     0.83584,     0.83684,     0.83784,     0.83884,     0.83984,\n",
       "           0.84084,     0.84184,     0.84284,     0.84384,     0.84484,     0.84585,     0.84685,     0.84785,     0.84885,     0.84985,     0.85085,     0.85185,     0.85285,     0.85385,     0.85485,     0.85586,     0.85686,     0.85786,     0.85886,     0.85986,     0.86086,     0.86186,     0.86286,     0.86386,\n",
       "           0.86486,     0.86587,     0.86687,     0.86787,     0.86887,     0.86987,     0.87087,     0.87187,     0.87287,     0.87387,     0.87487,     0.87588,     0.87688,     0.87788,     0.87888,     0.87988,     0.88088,     0.88188,     0.88288,     0.88388,     0.88488,     0.88589,     0.88689,     0.88789,\n",
       "           0.88889,     0.88989,     0.89089,     0.89189,     0.89289,     0.89389,     0.89489,      0.8959,      0.8969,      0.8979,      0.8989,      0.8999,      0.9009,      0.9019,      0.9029,      0.9039,      0.9049,     0.90591,     0.90691,     0.90791,     0.90891,     0.90991,     0.91091,     0.91191,\n",
       "           0.91291,     0.91391,     0.91491,     0.91592,     0.91692,     0.91792,     0.91892,     0.91992,     0.92092,     0.92192,     0.92292,     0.92392,     0.92492,     0.92593,     0.92693,     0.92793,     0.92893,     0.92993,     0.93093,     0.93193,     0.93293,     0.93393,     0.93493,     0.93594,\n",
       "           0.93694,     0.93794,     0.93894,     0.93994,     0.94094,     0.94194,     0.94294,     0.94394,     0.94494,     0.94595,     0.94695,     0.94795,     0.94895,     0.94995,     0.95095,     0.95195,     0.95295,     0.95395,     0.95495,     0.95596,     0.95696,     0.95796,     0.95896,     0.95996,\n",
       "           0.96096,     0.96196,     0.96296,     0.96396,     0.96496,     0.96597,     0.96697,     0.96797,     0.96897,     0.96997,     0.97097,     0.97197,     0.97297,     0.97397,     0.97497,     0.97598,     0.97698,     0.97798,     0.97898,     0.97998,     0.98098,     0.98198,     0.98298,     0.98398,\n",
       "           0.98498,     0.98599,     0.98699,     0.98799,     0.98899,     0.98999,     0.99099,     0.99199,     0.99299,     0.99399,     0.99499,       0.996,       0.997,       0.998,       0.999,           1]), array([[    0.32877,     0.32877,     0.33328,       0.337,     0.34228,     0.34906,      0.3549,     0.36064,     0.36571,     0.37094,     0.37626,     0.38119,     0.38628,     0.39105,     0.39584,     0.40116,     0.40601,     0.41053,      0.4148,     0.41868,     0.42259,     0.42617,     0.43018,\n",
       "            0.43345,     0.43636,     0.43999,     0.44348,     0.44689,     0.45048,     0.45379,     0.45745,     0.46148,     0.46507,     0.46989,     0.47374,     0.47703,      0.4801,     0.48321,     0.48666,     0.48906,     0.49183,     0.49555,     0.49855,     0.50136,      0.5044,     0.50741,\n",
       "            0.51078,     0.51376,     0.51694,     0.51999,     0.52282,     0.52571,      0.5282,     0.53156,     0.53346,     0.53599,     0.53854,     0.54092,     0.54367,     0.54614,     0.54739,     0.54964,     0.55226,     0.55512,     0.55765,     0.56003,     0.56191,     0.56399,     0.56676,\n",
       "            0.56864,     0.57099,     0.57217,     0.57442,     0.57664,     0.57838,     0.58041,     0.58252,     0.58366,     0.58579,     0.58785,     0.58948,     0.59157,     0.59387,     0.59572,     0.59781,     0.60004,     0.60179,     0.60312,     0.60484,     0.60635,      0.6081,     0.60933,\n",
       "            0.61093,      0.6121,     0.61349,     0.61452,     0.61599,     0.61775,     0.61944,     0.62095,      0.6225,     0.62448,     0.62562,      0.6269,     0.62862,     0.63046,      0.6318,      0.6332,     0.63438,     0.63592,     0.63757,     0.63898,     0.64042,     0.64136,     0.64263,\n",
       "            0.64405,     0.64549,     0.64693,      0.6481,     0.64986,     0.65101,     0.65222,     0.65398,     0.65546,     0.65667,      0.6579,     0.65913,     0.66032,     0.66097,     0.66253,     0.66335,      0.6642,     0.66505,     0.66602,     0.66692,     0.66774,     0.66908,     0.66959,\n",
       "             0.6706,     0.67147,       0.672,     0.67324,      0.6738,     0.67476,     0.67548,      0.6764,     0.67741,     0.67861,     0.67963,     0.68045,     0.68175,     0.68237,     0.68349,     0.68429,     0.68473,     0.68567,     0.68661,     0.68781,     0.68855,     0.68944,     0.68997,\n",
       "             0.6909,     0.69172,     0.69265,     0.69328,     0.69372,     0.69503,     0.69613,     0.69689,     0.69755,     0.69884,      0.6995,     0.70018,     0.70069,     0.70104,     0.70139,     0.70231,     0.70314,     0.70383,     0.70466,     0.70616,     0.70693,     0.70753,     0.70862,\n",
       "            0.70891,     0.70971,     0.71021,     0.71075,     0.71152,     0.71215,     0.71303,     0.71324,     0.71372,     0.71454,     0.71527,     0.71597,     0.71685,     0.71748,     0.71776,     0.71827,      0.7191,     0.72032,     0.72058,     0.72119,     0.72186,     0.72305,     0.72384,\n",
       "            0.72482,     0.72554,     0.72571,     0.72578,       0.726,     0.72667,      0.7272,      0.7281,     0.72892,     0.72936,     0.73003,     0.73031,      0.7309,     0.73143,     0.73187,      0.7324,     0.73295,     0.73361,     0.73409,     0.73473,     0.73522,     0.73585,     0.73643,\n",
       "            0.73653,     0.73679,     0.73693,     0.73752,     0.73812,      0.7385,     0.73886,     0.73926,     0.73957,     0.74009,     0.74044,     0.74079,     0.74076,     0.74133,     0.74143,     0.74207,     0.74246,     0.74306,     0.74325,      0.7435,     0.74391,     0.74466,     0.74504,\n",
       "            0.74589,     0.74644,     0.74669,     0.74709,     0.74748,     0.74773,     0.74837,     0.74881,      0.7495,     0.74987,     0.75048,     0.75081,     0.75094,      0.7512,     0.75186,     0.75235,     0.75284,     0.75357,     0.75385,     0.75417,     0.75451,     0.75505,      0.7551,\n",
       "            0.75542,     0.75565,     0.75626,     0.75686,     0.75722,      0.7574,     0.75778,     0.75803,     0.75828,     0.75847,     0.75885,     0.75923,     0.75947,     0.76003,     0.76043,     0.76088,     0.76156,       0.762,     0.76263,     0.76291,     0.76311,     0.76367,     0.76374,\n",
       "            0.76417,     0.76462,     0.76506,      0.7657,     0.76596,     0.76602,     0.76635,     0.76666,     0.76711,     0.76729,     0.76739,     0.76755,     0.76792,     0.76845,     0.76856,     0.76884,      0.7691,     0.76939,     0.76961,     0.77006,     0.77044,     0.77075,     0.77099,\n",
       "            0.77122,     0.77122,     0.77146,     0.77176,     0.77203,     0.77245,     0.77267,     0.77277,     0.77319,     0.77346,      0.7737,     0.77418,     0.77435,      0.7746,     0.77485,     0.77524,     0.77568,     0.77621,     0.77636,     0.77661,     0.77676,     0.77695,     0.77714,\n",
       "            0.77762,     0.77785,     0.77815,     0.77813,     0.77819,     0.77876,     0.77899,     0.77893,     0.77895,     0.77913,     0.77943,     0.77961,     0.77971,      0.7798,     0.77988,     0.78016,     0.78018,     0.78047,     0.78073,     0.78095,     0.78102,     0.78147,     0.78171,\n",
       "            0.78198,     0.78194,     0.78214,     0.78281,     0.78335,     0.78341,     0.78348,     0.78355,     0.78371,     0.78392,     0.78433,     0.78455,      0.7848,     0.78493,     0.78504,     0.78553,     0.78573,     0.78638,      0.7867,     0.78698,     0.78721,     0.78783,     0.78847,\n",
       "             0.7887,     0.78877,     0.78898,     0.78912,     0.78944,     0.78995,     0.79002,     0.79072,     0.79089,     0.79116,     0.79138,     0.79156,     0.79176,     0.79184,     0.79198,     0.79226,     0.79245,     0.79247,      0.7927,     0.79285,     0.79324,     0.79353,     0.79359,\n",
       "             0.7937,     0.79432,     0.79456,     0.79474,     0.79529,     0.79556,     0.79578,     0.79588,     0.79603,     0.79633,     0.79667,     0.79688,     0.79686,     0.79695,      0.7969,     0.79722,     0.79757,     0.79782,     0.79868,     0.79875,     0.79886,     0.79928,     0.79942,\n",
       "            0.79983,     0.80012,     0.80047,     0.80088,     0.80117,     0.80145,     0.80155,     0.80168,     0.80192,      0.8021,     0.80243,     0.80273,     0.80303,     0.80341,     0.80373,     0.80412,     0.80419,     0.80422,     0.80444,     0.80438,     0.80469,     0.80476,     0.80501,\n",
       "             0.8051,     0.80506,     0.80512,     0.80533,     0.80599,     0.80608,     0.80645,     0.80704,     0.80756,     0.80792,     0.80805,     0.80804,     0.80823,     0.80814,     0.80869,     0.80914,     0.80925,      0.8093,     0.80965,     0.81019,     0.81046,     0.81047,     0.81071,\n",
       "            0.81101,      0.8111,     0.81138,     0.81141,     0.81139,     0.81149,     0.81193,     0.81236,     0.81279,     0.81296,     0.81294,     0.81328,     0.81345,      0.8137,     0.81436,     0.81505,     0.81548,     0.81599,     0.81665,     0.81686,     0.81717,     0.81723,     0.81767,\n",
       "            0.81778,     0.81776,     0.81772,     0.81791,     0.81844,     0.81852,     0.81847,     0.81866,     0.81882,     0.81928,     0.81924,     0.81944,     0.81938,     0.81959,     0.81987,     0.82061,     0.82079,     0.82082,      0.8211,     0.82114,     0.82146,     0.82193,     0.82228,\n",
       "            0.82248,     0.82265,       0.823,     0.82326,     0.82321,     0.82343,     0.82337,     0.82356,     0.82368,     0.82378,      0.8241,     0.82437,     0.82479,     0.82486,     0.82497,     0.82537,     0.82562,     0.82589,     0.82607,      0.8261,     0.82616,     0.82622,     0.82659,\n",
       "            0.82663,     0.82708,     0.82753,     0.82776,     0.82779,     0.82836,      0.8286,     0.82876,     0.82928,     0.82952,     0.82981,     0.82992,     0.83033,     0.83035,     0.83067,     0.83075,     0.83085,     0.83087,     0.83123,     0.83138,     0.83155,     0.83194,     0.83202,\n",
       "            0.83211,     0.83296,     0.83319,     0.83343,     0.83332,     0.83346,     0.83341,     0.83375,     0.83403,      0.8342,     0.83424,     0.83439,     0.83464,     0.83467,     0.83474,     0.83511,     0.83526,     0.83584,     0.83633,     0.83672,     0.83758,     0.83822,     0.83871,\n",
       "            0.83928,     0.83969,     0.83994,     0.84003,     0.84012,     0.84046,     0.84036,     0.84037,     0.84056,     0.84137,     0.84143,     0.84227,     0.84235,     0.84257,     0.84264,     0.84287,      0.8435,     0.84373,     0.84378,     0.84396,     0.84456,     0.84478,     0.84487,\n",
       "            0.84485,     0.84519,     0.84529,     0.84532,     0.84572,     0.84642,     0.84663,     0.84712,     0.84718,     0.84737,     0.84752,     0.84765,     0.84804,     0.84839,     0.84863,     0.84882,     0.84913,     0.84952,     0.84993,     0.85023,     0.85058,     0.85139,     0.85167,\n",
       "            0.85183,      0.8518,       0.852,     0.85223,     0.85249,     0.85272,     0.85304,     0.85324,      0.8534,     0.85361,      0.8538,     0.85423,     0.85444,     0.85494,     0.85483,     0.85489,     0.85582,     0.85673,     0.85692,     0.85685,     0.85685,     0.85696,     0.85773,\n",
       "            0.85784,     0.85784,     0.85839,     0.85872,     0.85902,     0.85936,     0.85979,     0.86014,     0.86035,     0.86071,     0.86114,     0.86115,     0.86196,     0.86248,     0.86287,     0.86302,     0.86337,     0.86386,     0.86401,     0.86458,     0.86511,     0.86546,     0.86561,\n",
       "            0.86563,     0.86553,     0.86602,     0.86632,     0.86696,     0.86766,     0.86778,     0.86852,      0.8685,     0.86879,     0.86897,     0.86917,     0.86964,      0.8712,     0.87135,     0.87174,     0.87213,     0.87244,     0.87223,     0.87227,     0.87266,     0.87227,     0.87231,\n",
       "            0.87238,     0.87241,     0.87268,     0.87339,     0.87371,     0.87398,     0.87477,     0.87478,     0.87543,      0.8759,     0.87676,     0.87723,     0.87789,     0.87795,     0.87884,     0.87909,     0.87977,     0.88017,     0.88092,     0.88127,     0.88191,     0.88194,     0.88281,\n",
       "            0.88318,     0.88366,     0.88449,     0.88486,     0.88555,     0.88588,     0.88585,     0.88678,     0.88753,     0.88736,     0.88816,     0.88788,     0.88885,     0.88855,     0.88894,     0.88929,     0.88952,     0.88971,     0.89061,     0.89136,     0.89228,     0.89324,     0.89354,\n",
       "            0.89419,     0.89469,     0.89476,     0.89527,     0.89544,     0.89569,     0.89592,     0.89715,      0.8969,     0.89774,     0.89765,     0.89839,     0.89903,     0.89962,     0.89962,     0.90057,     0.90244,     0.90388,     0.90441,     0.90542,     0.90572,      0.9066,     0.90785,\n",
       "            0.90851,     0.90865,     0.90967,     0.91134,     0.91178,     0.91178,     0.91143,     0.91194,      0.9117,     0.91186,      0.9119,     0.91199,     0.91274,     0.91325,     0.91462,     0.91557,     0.91594,     0.91746,     0.91751,     0.91847,     0.91805,     0.91986,     0.92027,\n",
       "            0.92031,     0.92078,     0.92134,     0.92247,     0.92323,      0.9242,     0.92529,     0.92585,     0.92587,     0.92643,     0.92662,     0.92911,     0.92879,     0.92845,     0.92873,     0.92912,     0.92899,     0.93019,      0.9302,     0.93068,     0.93074,     0.93083,     0.93106,\n",
       "            0.93061,     0.93064,     0.93008,     0.92939,     0.93061,     0.93137,     0.93206,     0.93245,     0.93252,     0.93236,     0.93284,     0.93395,     0.93314,     0.93444,       0.935,     0.93585,      0.9359,     0.93661,     0.93606,     0.93619,     0.93748,     0.94001,      0.9409,\n",
       "            0.94257,      0.9438,     0.94386,     0.94363,     0.94355,     0.94325,     0.94225,     0.94234,     0.94314,     0.94397,     0.94391,     0.94468,     0.94517,     0.94639,     0.94676,     0.94879,     0.94832,     0.94862,     0.94955,     0.95155,     0.95187,     0.95277,     0.95455,\n",
       "            0.95347,     0.95334,     0.95332,     0.95495,     0.95409,     0.95275,     0.95233,      0.9523,     0.95497,     0.95437,     0.95708,      0.9559,     0.95575,     0.95417,     0.95538,     0.95765,     0.95695,     0.95553,     0.95576,     0.95716,     0.95715,     0.95543,     0.95599,\n",
       "            0.95421,     0.95333,     0.95324,     0.95502,     0.95297,     0.95809,     0.95873,     0.96477,     0.96276,     0.96085,     0.96483,     0.96508,     0.96933,     0.97116,     0.96838,     0.96599,      0.9646,     0.98286,     0.98133,     0.97972,     0.97678,     0.97211,     0.97769,\n",
       "            0.97482,     0.97394,     0.98406,     0.98067,     0.97668,     0.97515,     0.97247,     0.96523,     0.95757,           1,           1,           1,           1,           1,           1,           1,           1,           1,           1,           1,           1,           1,           1,\n",
       "                  1,           1,           1,           1,           1,           1,           1,           1,           1,           1,           1,           1,           1,           1,           1,           1,           1,           1,           1,           1,           1,           1,           1,\n",
       "                  1,           1,           1,           1,           1,           1,           1,           1,           1,           1,           1,           1,           1,           1,           1,           1,           1,           1,           1,           1,           1,           1,           1,\n",
       "                  1,           1,           1,           1,           1,           1,           1,           1,           1,           1,           1]]), 'Confidence', 'Precision'], [array([          0,    0.001001,    0.002002,    0.003003,    0.004004,    0.005005,    0.006006,    0.007007,    0.008008,    0.009009,     0.01001,    0.011011,    0.012012,    0.013013,    0.014014,    0.015015,    0.016016,    0.017017,    0.018018,    0.019019,     0.02002,    0.021021,    0.022022,    0.023023,\n",
       "          0.024024,    0.025025,    0.026026,    0.027027,    0.028028,    0.029029,     0.03003,    0.031031,    0.032032,    0.033033,    0.034034,    0.035035,    0.036036,    0.037037,    0.038038,    0.039039,     0.04004,    0.041041,    0.042042,    0.043043,    0.044044,    0.045045,    0.046046,    0.047047,\n",
       "          0.048048,    0.049049,     0.05005,    0.051051,    0.052052,    0.053053,    0.054054,    0.055055,    0.056056,    0.057057,    0.058058,    0.059059,     0.06006,    0.061061,    0.062062,    0.063063,    0.064064,    0.065065,    0.066066,    0.067067,    0.068068,    0.069069,     0.07007,    0.071071,\n",
       "          0.072072,    0.073073,    0.074074,    0.075075,    0.076076,    0.077077,    0.078078,    0.079079,     0.08008,    0.081081,    0.082082,    0.083083,    0.084084,    0.085085,    0.086086,    0.087087,    0.088088,    0.089089,     0.09009,    0.091091,    0.092092,    0.093093,    0.094094,    0.095095,\n",
       "          0.096096,    0.097097,    0.098098,    0.099099,      0.1001,      0.1011,      0.1021,      0.1031,      0.1041,     0.10511,     0.10611,     0.10711,     0.10811,     0.10911,     0.11011,     0.11111,     0.11211,     0.11311,     0.11411,     0.11512,     0.11612,     0.11712,     0.11812,     0.11912,\n",
       "           0.12012,     0.12112,     0.12212,     0.12312,     0.12412,     0.12513,     0.12613,     0.12713,     0.12813,     0.12913,     0.13013,     0.13113,     0.13213,     0.13313,     0.13413,     0.13514,     0.13614,     0.13714,     0.13814,     0.13914,     0.14014,     0.14114,     0.14214,     0.14314,\n",
       "           0.14414,     0.14515,     0.14615,     0.14715,     0.14815,     0.14915,     0.15015,     0.15115,     0.15215,     0.15315,     0.15415,     0.15516,     0.15616,     0.15716,     0.15816,     0.15916,     0.16016,     0.16116,     0.16216,     0.16316,     0.16416,     0.16517,     0.16617,     0.16717,\n",
       "           0.16817,     0.16917,     0.17017,     0.17117,     0.17217,     0.17317,     0.17417,     0.17518,     0.17618,     0.17718,     0.17818,     0.17918,     0.18018,     0.18118,     0.18218,     0.18318,     0.18418,     0.18519,     0.18619,     0.18719,     0.18819,     0.18919,     0.19019,     0.19119,\n",
       "           0.19219,     0.19319,     0.19419,      0.1952,      0.1962,      0.1972,      0.1982,      0.1992,      0.2002,      0.2012,      0.2022,      0.2032,      0.2042,     0.20521,     0.20621,     0.20721,     0.20821,     0.20921,     0.21021,     0.21121,     0.21221,     0.21321,     0.21421,     0.21522,\n",
       "           0.21622,     0.21722,     0.21822,     0.21922,     0.22022,     0.22122,     0.22222,     0.22322,     0.22422,     0.22523,     0.22623,     0.22723,     0.22823,     0.22923,     0.23023,     0.23123,     0.23223,     0.23323,     0.23423,     0.23524,     0.23624,     0.23724,     0.23824,     0.23924,\n",
       "           0.24024,     0.24124,     0.24224,     0.24324,     0.24424,     0.24525,     0.24625,     0.24725,     0.24825,     0.24925,     0.25025,     0.25125,     0.25225,     0.25325,     0.25425,     0.25526,     0.25626,     0.25726,     0.25826,     0.25926,     0.26026,     0.26126,     0.26226,     0.26326,\n",
       "           0.26426,     0.26527,     0.26627,     0.26727,     0.26827,     0.26927,     0.27027,     0.27127,     0.27227,     0.27327,     0.27427,     0.27528,     0.27628,     0.27728,     0.27828,     0.27928,     0.28028,     0.28128,     0.28228,     0.28328,     0.28428,     0.28529,     0.28629,     0.28729,\n",
       "           0.28829,     0.28929,     0.29029,     0.29129,     0.29229,     0.29329,     0.29429,      0.2953,      0.2963,      0.2973,      0.2983,      0.2993,      0.3003,      0.3013,      0.3023,      0.3033,      0.3043,     0.30531,     0.30631,     0.30731,     0.30831,     0.30931,     0.31031,     0.31131,\n",
       "           0.31231,     0.31331,     0.31431,     0.31532,     0.31632,     0.31732,     0.31832,     0.31932,     0.32032,     0.32132,     0.32232,     0.32332,     0.32432,     0.32533,     0.32633,     0.32733,     0.32833,     0.32933,     0.33033,     0.33133,     0.33233,     0.33333,     0.33433,     0.33534,\n",
       "           0.33634,     0.33734,     0.33834,     0.33934,     0.34034,     0.34134,     0.34234,     0.34334,     0.34434,     0.34535,     0.34635,     0.34735,     0.34835,     0.34935,     0.35035,     0.35135,     0.35235,     0.35335,     0.35435,     0.35536,     0.35636,     0.35736,     0.35836,     0.35936,\n",
       "           0.36036,     0.36136,     0.36236,     0.36336,     0.36436,     0.36537,     0.36637,     0.36737,     0.36837,     0.36937,     0.37037,     0.37137,     0.37237,     0.37337,     0.37437,     0.37538,     0.37638,     0.37738,     0.37838,     0.37938,     0.38038,     0.38138,     0.38238,     0.38338,\n",
       "           0.38438,     0.38539,     0.38639,     0.38739,     0.38839,     0.38939,     0.39039,     0.39139,     0.39239,     0.39339,     0.39439,      0.3954,      0.3964,      0.3974,      0.3984,      0.3994,      0.4004,      0.4014,      0.4024,      0.4034,      0.4044,     0.40541,     0.40641,     0.40741,\n",
       "           0.40841,     0.40941,     0.41041,     0.41141,     0.41241,     0.41341,     0.41441,     0.41542,     0.41642,     0.41742,     0.41842,     0.41942,     0.42042,     0.42142,     0.42242,     0.42342,     0.42442,     0.42543,     0.42643,     0.42743,     0.42843,     0.42943,     0.43043,     0.43143,\n",
       "           0.43243,     0.43343,     0.43443,     0.43544,     0.43644,     0.43744,     0.43844,     0.43944,     0.44044,     0.44144,     0.44244,     0.44344,     0.44444,     0.44545,     0.44645,     0.44745,     0.44845,     0.44945,     0.45045,     0.45145,     0.45245,     0.45345,     0.45445,     0.45546,\n",
       "           0.45646,     0.45746,     0.45846,     0.45946,     0.46046,     0.46146,     0.46246,     0.46346,     0.46446,     0.46547,     0.46647,     0.46747,     0.46847,     0.46947,     0.47047,     0.47147,     0.47247,     0.47347,     0.47447,     0.47548,     0.47648,     0.47748,     0.47848,     0.47948,\n",
       "           0.48048,     0.48148,     0.48248,     0.48348,     0.48448,     0.48549,     0.48649,     0.48749,     0.48849,     0.48949,     0.49049,     0.49149,     0.49249,     0.49349,     0.49449,      0.4955,      0.4965,      0.4975,      0.4985,      0.4995,      0.5005,      0.5015,      0.5025,      0.5035,\n",
       "            0.5045,     0.50551,     0.50651,     0.50751,     0.50851,     0.50951,     0.51051,     0.51151,     0.51251,     0.51351,     0.51451,     0.51552,     0.51652,     0.51752,     0.51852,     0.51952,     0.52052,     0.52152,     0.52252,     0.52352,     0.52452,     0.52553,     0.52653,     0.52753,\n",
       "           0.52853,     0.52953,     0.53053,     0.53153,     0.53253,     0.53353,     0.53453,     0.53554,     0.53654,     0.53754,     0.53854,     0.53954,     0.54054,     0.54154,     0.54254,     0.54354,     0.54454,     0.54555,     0.54655,     0.54755,     0.54855,     0.54955,     0.55055,     0.55155,\n",
       "           0.55255,     0.55355,     0.55455,     0.55556,     0.55656,     0.55756,     0.55856,     0.55956,     0.56056,     0.56156,     0.56256,     0.56356,     0.56456,     0.56557,     0.56657,     0.56757,     0.56857,     0.56957,     0.57057,     0.57157,     0.57257,     0.57357,     0.57457,     0.57558,\n",
       "           0.57658,     0.57758,     0.57858,     0.57958,     0.58058,     0.58158,     0.58258,     0.58358,     0.58458,     0.58559,     0.58659,     0.58759,     0.58859,     0.58959,     0.59059,     0.59159,     0.59259,     0.59359,     0.59459,      0.5956,      0.5966,      0.5976,      0.5986,      0.5996,\n",
       "            0.6006,      0.6016,      0.6026,      0.6036,      0.6046,     0.60561,     0.60661,     0.60761,     0.60861,     0.60961,     0.61061,     0.61161,     0.61261,     0.61361,     0.61461,     0.61562,     0.61662,     0.61762,     0.61862,     0.61962,     0.62062,     0.62162,     0.62262,     0.62362,\n",
       "           0.62462,     0.62563,     0.62663,     0.62763,     0.62863,     0.62963,     0.63063,     0.63163,     0.63263,     0.63363,     0.63463,     0.63564,     0.63664,     0.63764,     0.63864,     0.63964,     0.64064,     0.64164,     0.64264,     0.64364,     0.64464,     0.64565,     0.64665,     0.64765,\n",
       "           0.64865,     0.64965,     0.65065,     0.65165,     0.65265,     0.65365,     0.65465,     0.65566,     0.65666,     0.65766,     0.65866,     0.65966,     0.66066,     0.66166,     0.66266,     0.66366,     0.66466,     0.66567,     0.66667,     0.66767,     0.66867,     0.66967,     0.67067,     0.67167,\n",
       "           0.67267,     0.67367,     0.67467,     0.67568,     0.67668,     0.67768,     0.67868,     0.67968,     0.68068,     0.68168,     0.68268,     0.68368,     0.68468,     0.68569,     0.68669,     0.68769,     0.68869,     0.68969,     0.69069,     0.69169,     0.69269,     0.69369,     0.69469,      0.6957,\n",
       "            0.6967,      0.6977,      0.6987,      0.6997,      0.7007,      0.7017,      0.7027,      0.7037,      0.7047,     0.70571,     0.70671,     0.70771,     0.70871,     0.70971,     0.71071,     0.71171,     0.71271,     0.71371,     0.71471,     0.71572,     0.71672,     0.71772,     0.71872,     0.71972,\n",
       "           0.72072,     0.72172,     0.72272,     0.72372,     0.72472,     0.72573,     0.72673,     0.72773,     0.72873,     0.72973,     0.73073,     0.73173,     0.73273,     0.73373,     0.73473,     0.73574,     0.73674,     0.73774,     0.73874,     0.73974,     0.74074,     0.74174,     0.74274,     0.74374,\n",
       "           0.74474,     0.74575,     0.74675,     0.74775,     0.74875,     0.74975,     0.75075,     0.75175,     0.75275,     0.75375,     0.75475,     0.75576,     0.75676,     0.75776,     0.75876,     0.75976,     0.76076,     0.76176,     0.76276,     0.76376,     0.76476,     0.76577,     0.76677,     0.76777,\n",
       "           0.76877,     0.76977,     0.77077,     0.77177,     0.77277,     0.77377,     0.77477,     0.77578,     0.77678,     0.77778,     0.77878,     0.77978,     0.78078,     0.78178,     0.78278,     0.78378,     0.78478,     0.78579,     0.78679,     0.78779,     0.78879,     0.78979,     0.79079,     0.79179,\n",
       "           0.79279,     0.79379,     0.79479,      0.7958,      0.7968,      0.7978,      0.7988,      0.7998,      0.8008,      0.8018,      0.8028,      0.8038,      0.8048,     0.80581,     0.80681,     0.80781,     0.80881,     0.80981,     0.81081,     0.81181,     0.81281,     0.81381,     0.81481,     0.81582,\n",
       "           0.81682,     0.81782,     0.81882,     0.81982,     0.82082,     0.82182,     0.82282,     0.82382,     0.82482,     0.82583,     0.82683,     0.82783,     0.82883,     0.82983,     0.83083,     0.83183,     0.83283,     0.83383,     0.83483,     0.83584,     0.83684,     0.83784,     0.83884,     0.83984,\n",
       "           0.84084,     0.84184,     0.84284,     0.84384,     0.84484,     0.84585,     0.84685,     0.84785,     0.84885,     0.84985,     0.85085,     0.85185,     0.85285,     0.85385,     0.85485,     0.85586,     0.85686,     0.85786,     0.85886,     0.85986,     0.86086,     0.86186,     0.86286,     0.86386,\n",
       "           0.86486,     0.86587,     0.86687,     0.86787,     0.86887,     0.86987,     0.87087,     0.87187,     0.87287,     0.87387,     0.87487,     0.87588,     0.87688,     0.87788,     0.87888,     0.87988,     0.88088,     0.88188,     0.88288,     0.88388,     0.88488,     0.88589,     0.88689,     0.88789,\n",
       "           0.88889,     0.88989,     0.89089,     0.89189,     0.89289,     0.89389,     0.89489,      0.8959,      0.8969,      0.8979,      0.8989,      0.8999,      0.9009,      0.9019,      0.9029,      0.9039,      0.9049,     0.90591,     0.90691,     0.90791,     0.90891,     0.90991,     0.91091,     0.91191,\n",
       "           0.91291,     0.91391,     0.91491,     0.91592,     0.91692,     0.91792,     0.91892,     0.91992,     0.92092,     0.92192,     0.92292,     0.92392,     0.92492,     0.92593,     0.92693,     0.92793,     0.92893,     0.92993,     0.93093,     0.93193,     0.93293,     0.93393,     0.93493,     0.93594,\n",
       "           0.93694,     0.93794,     0.93894,     0.93994,     0.94094,     0.94194,     0.94294,     0.94394,     0.94494,     0.94595,     0.94695,     0.94795,     0.94895,     0.94995,     0.95095,     0.95195,     0.95295,     0.95395,     0.95495,     0.95596,     0.95696,     0.95796,     0.95896,     0.95996,\n",
       "           0.96096,     0.96196,     0.96296,     0.96396,     0.96496,     0.96597,     0.96697,     0.96797,     0.96897,     0.96997,     0.97097,     0.97197,     0.97297,     0.97397,     0.97497,     0.97598,     0.97698,     0.97798,     0.97898,     0.97998,     0.98098,     0.98198,     0.98298,     0.98398,\n",
       "           0.98498,     0.98599,     0.98699,     0.98799,     0.98899,     0.98999,     0.99099,     0.99199,     0.99299,     0.99399,     0.99499,       0.996,       0.997,       0.998,       0.999,           1]), array([[    0.98321,     0.98321,     0.98304,     0.98304,     0.98304,     0.98304,     0.98304,     0.98288,     0.98254,     0.98254,     0.98254,     0.98254,     0.98254,     0.98204,     0.98155,     0.98121,     0.98105,     0.98105,     0.98055,     0.98022,     0.97955,     0.97905,     0.97905,\n",
       "            0.97889,     0.97889,     0.97872,     0.97805,     0.97789,     0.97789,     0.97772,     0.97722,     0.97689,     0.97689,     0.97672,     0.97639,     0.97623,     0.97573,     0.97506,     0.97465,      0.9744,      0.9744,     0.97423,     0.97406,     0.97373,     0.97357,      0.9734,\n",
       "            0.97307,     0.97273,     0.97273,     0.97224,     0.97207,     0.97157,      0.9714,     0.97091,     0.97007,     0.96974,     0.96958,     0.96924,     0.96924,     0.96891,     0.96841,     0.96808,     0.96775,     0.96741,     0.96741,     0.96708,     0.96692,     0.96658,     0.96642,\n",
       "            0.96625,     0.96625,     0.96625,     0.96608,     0.96592,     0.96575,     0.96559,     0.96542,     0.96525,     0.96459,     0.96459,     0.96459,     0.96426,     0.96409,     0.96392,     0.96359,     0.96342,     0.96342,     0.96342,     0.96326,     0.96309,     0.96274,     0.96243,\n",
       "            0.96226,     0.96176,     0.96161,     0.96126,     0.96093,     0.96076,      0.9606,      0.9606,      0.9606,     0.96043,     0.96043,     0.96043,     0.95993,      0.9596,     0.95943,     0.95927,     0.95927,     0.95927,     0.95877,      0.9586,     0.95827,     0.95827,     0.95827,\n",
       "            0.95827,     0.95827,     0.95803,     0.95777,     0.95777,     0.95736,     0.95727,     0.95727,     0.95711,     0.95677,     0.95677,     0.95677,     0.95677,     0.95677,     0.95644,     0.95628,     0.95578,     0.95561,     0.95544,     0.95528,     0.95511,     0.95478,     0.95461,\n",
       "            0.95428,     0.95428,     0.95411,     0.95411,     0.95395,     0.95378,     0.95362,     0.95328,     0.95328,     0.95312,     0.95278,     0.95262,     0.95229,     0.95184,     0.95145,     0.95129,     0.95096,     0.95096,     0.95068,     0.95049,     0.95046,     0.95012,     0.94979,\n",
       "            0.94963,     0.94946,     0.94946,     0.94929,     0.94913,     0.94913,      0.9491,     0.94863,     0.94863,     0.94863,     0.94863,      0.9483,     0.94813,     0.94813,     0.94763,     0.94763,     0.94746,     0.94697,     0.94697,      0.9468,      0.9468,     0.94634,     0.94613,\n",
       "            0.94582,     0.94564,      0.9453,      0.9453,     0.94497,     0.94497,     0.94497,     0.94431,     0.94414,     0.94397,     0.94397,     0.94381,     0.94381,     0.94381,     0.94364,     0.94364,     0.94331,     0.94298,     0.94281,     0.94231,     0.94231,     0.94231,     0.94214,\n",
       "            0.94198,     0.94165,     0.94165,     0.94162,     0.94131,     0.94115,     0.94048,     0.94048,     0.94048,     0.94015,     0.94015,     0.93982,     0.93965,     0.93932,     0.93932,     0.93932,     0.93932,     0.93915,     0.93865,     0.93865,     0.93865,     0.93865,     0.93865,\n",
       "            0.93833,     0.93799,     0.93799,     0.93799,     0.93765,     0.93749,     0.93732,     0.93716,     0.93699,     0.93686,     0.93682,     0.93649,     0.93634,     0.93624,     0.93583,     0.93583,     0.93549,     0.93549,     0.93549,     0.93549,     0.93533,       0.935,      0.9347,\n",
       "            0.93466,      0.9345,     0.93416,     0.93416,       0.934,     0.93378,      0.9335,      0.9335,     0.93333,     0.93333,     0.93333,       0.933,     0.93283,     0.93283,     0.93283,     0.93283,     0.93267,     0.93234,     0.93234,     0.93217,       0.932,       0.932,     0.93184,\n",
       "            0.93184,     0.93184,     0.93184,     0.93184,     0.93184,     0.93184,     0.93167,     0.93167,      0.9315,     0.93136,     0.93117,     0.93104,     0.93051,     0.93051,     0.93051,     0.93051,     0.93051,     0.93043,     0.93017,     0.92968,     0.92968,     0.92934,     0.92922,\n",
       "            0.92901,      0.9289,     0.92884,     0.92835,     0.92835,     0.92785,     0.92785,     0.92785,     0.92785,     0.92768,     0.92768,     0.92768,     0.92751,     0.92749,     0.92735,     0.92718,     0.92702,     0.92684,     0.92652,     0.92652,     0.92618,     0.92618,     0.92602,\n",
       "            0.92581,     0.92569,     0.92552,     0.92519,     0.92519,     0.92485,     0.92469,     0.92469,     0.92469,     0.92452,     0.92452,     0.92449,     0.92425,     0.92419,     0.92419,     0.92419,     0.92419,     0.92419,     0.92419,     0.92419,     0.92402,     0.92402,     0.92402,\n",
       "            0.92376,     0.92369,     0.92369,     0.92356,     0.92319,     0.92319,     0.92291,     0.92262,     0.92213,     0.92186,     0.92173,      0.9217,      0.9217,     0.92136,     0.92124,      0.9212,     0.92105,     0.92103,      0.9207,      0.9205,      0.9202,     0.92003,     0.91984,\n",
       "             0.9197,      0.9193,      0.9192,     0.91887,     0.91887,      0.9187,      0.9186,     0.91854,     0.91837,      0.9182,     0.91804,     0.91779,     0.91754,     0.91737,     0.91704,     0.91687,     0.91654,     0.91638,     0.91604,     0.91577,     0.91554,     0.91554,     0.91554,\n",
       "            0.91538,     0.91507,     0.91488,     0.91471,     0.91455,     0.91455,     0.91438,     0.91421,     0.91388,     0.91388,     0.91383,     0.91372,     0.91342,     0.91323,     0.91271,     0.91205,     0.91154,     0.91102,     0.91089,     0.91089,      0.9108,     0.91039,     0.91039,\n",
       "            0.91006,     0.90989,     0.90989,     0.90989,     0.90989,     0.90961,     0.90956,     0.90947,     0.90939,     0.90936,     0.90923,     0.90921,     0.90908,     0.90896,     0.90866,      0.9084,      0.9084,     0.90823,     0.90823,     0.90792,      0.9079,      0.9079,     0.90774,\n",
       "            0.90723,      0.9069,     0.90639,     0.90623,      0.9059,     0.90525,     0.90516,      0.9049,     0.90461,     0.90426,     0.90407,     0.90384,     0.90348,     0.90295,     0.90241,     0.90223,       0.902,     0.90145,     0.90136,     0.90098,     0.90071,     0.90042,     0.90042,\n",
       "            0.90032,     0.90011,      0.8991,     0.89875,     0.89857,     0.89842,     0.89776,     0.89776,     0.89759,     0.89759,     0.89722,      0.8965,     0.89617,     0.89565,     0.89559,     0.89543,     0.89543,     0.89526,     0.89526,     0.89526,      0.8951,     0.89434,     0.89426,\n",
       "             0.8939,     0.89377,      0.8936,     0.89338,      0.8933,     0.89327,     0.89327,     0.89323,     0.89287,      0.8924,      0.8923,      0.8921,     0.89194,     0.89194,     0.89177,      0.8916,     0.89144,     0.89111,     0.89111,     0.89094,     0.89077,     0.89027,     0.89018,\n",
       "            0.89009,     0.88999,     0.88961,     0.88939,     0.88911,     0.88853,     0.88828,      0.8879,     0.88728,     0.88711,     0.88684,     0.88678,     0.88615,     0.88595,     0.88579,     0.88562,     0.88529,     0.88499,     0.88479,     0.88463,     0.88429,     0.88379,     0.88346,\n",
       "            0.88329,     0.88296,     0.88246,     0.88204,     0.88173,     0.88153,     0.88117,     0.88113,     0.88063,     0.88063,     0.88047,     0.88025,     0.87963,     0.87933,      0.8788,     0.87847,     0.87847,      0.8783,     0.87797,     0.87745,       0.877,     0.87648,     0.87645,\n",
       "            0.87581,     0.87548,     0.87531,      0.8749,     0.87431,     0.87398,     0.87365,     0.87348,     0.87296,     0.87249,     0.87215,     0.87207,     0.87149,     0.87082,     0.87021,     0.86966,     0.86933,     0.86883,     0.86876,     0.86806,     0.86745,     0.86733,     0.86733,\n",
       "            0.86717,     0.86716,     0.86695,     0.86679,      0.8655,     0.86534,       0.865,     0.86484,     0.86434,     0.86404,     0.86334,     0.86278,     0.86177,     0.86112,     0.86074,     0.85968,     0.85894,     0.85802,     0.85786,     0.85769,     0.85735,     0.85702,     0.85653,\n",
       "            0.85601,      0.8547,     0.85408,     0.85378,      0.8537,     0.85306,     0.85239,      0.8516,     0.85104,     0.85071,     0.85041,     0.85004,      0.8492,     0.84871,      0.8484,     0.84723,     0.84672,     0.84638,     0.84589,     0.84526,     0.84455,     0.84372,     0.84296,\n",
       "            0.84194,      0.8414,     0.84114,     0.84073,      0.8404,     0.84022,     0.83883,      0.8383,     0.83777,     0.83691,     0.83625,     0.83526,     0.83503,     0.83458,     0.83358,     0.83264,     0.83181,     0.83059,     0.83009,     0.82961,     0.82901,     0.82843,     0.82758,\n",
       "            0.82674,     0.82563,     0.82407,     0.82328,     0.82243,     0.82078,     0.82029,     0.81962,     0.81878,     0.81817,     0.81749,     0.81679,     0.81485,     0.81323,     0.81158,     0.81047,     0.80948,     0.80922,     0.80851,     0.80706,     0.80608,     0.80479,     0.80382,\n",
       "            0.80249,     0.80159,     0.80116,     0.80034,     0.79884,     0.79834,     0.79784,     0.79648,     0.79581,     0.79534,      0.7939,     0.79169,     0.79019,     0.78933,     0.78869,     0.78764,     0.78703,     0.78591,     0.78483,     0.78333,     0.78156,     0.78022,     0.77872,\n",
       "            0.77756,     0.77579,     0.77456,     0.77307,     0.77207,     0.77065,     0.76927,     0.76841,     0.76708,     0.76507,     0.76409,     0.76319,     0.76126,     0.75993,     0.75781,     0.75661,     0.75521,     0.75276,     0.75133,     0.74931,     0.74742,      0.7448,     0.74275,\n",
       "            0.74095,      0.7389,      0.7373,     0.73513,     0.73263,     0.73102,      0.7293,     0.72822,     0.72671,     0.72398,     0.72146,     0.71986,      0.7183,     0.71634,     0.71521,     0.71318,     0.71166,     0.70989,      0.7079,     0.70462,     0.70258,     0.70043,     0.69859,\n",
       "            0.69759,     0.69593,     0.69426,     0.69121,     0.68823,     0.68662,     0.68382,     0.68099,     0.67824,     0.67581,     0.67202,     0.66878,     0.66605,     0.66351,     0.66133,     0.65968,     0.65722,      0.6545,     0.65239,     0.64929,     0.64725,     0.64405,     0.64184,\n",
       "            0.63925,     0.63559,     0.63159,     0.62816,     0.62506,     0.62239,     0.61965,     0.61779,     0.61466,     0.61156,      0.6095,     0.60648,     0.60246,     0.60044,      0.5975,     0.59481,     0.59208,     0.58938,     0.58537,     0.58091,     0.57813,     0.57573,     0.57329,\n",
       "             0.5712,     0.56723,     0.56421,     0.56053,     0.55672,     0.55331,     0.54917,      0.5458,     0.54241,     0.53836,     0.53517,      0.5306,     0.52785,     0.52328,     0.51937,      0.5156,     0.51087,     0.50723,     0.50113,     0.49817,     0.49526,     0.49043,     0.48743,\n",
       "            0.48381,     0.47921,     0.47515,     0.47081,     0.46786,     0.46214,     0.45713,     0.45254,     0.44851,     0.44381,      0.4409,     0.43857,      0.4337,     0.42928,      0.4246,     0.42058,     0.41545,     0.41201,     0.40769,     0.40382,      0.3999,     0.39597,      0.3929,\n",
       "            0.38793,     0.38368,     0.38038,     0.37638,     0.37238,     0.36777,     0.36495,      0.3606,     0.35612,     0.35292,     0.34869,     0.34558,     0.34109,     0.33599,     0.33001,     0.32499,     0.31799,      0.3144,     0.30908,     0.30487,     0.30165,     0.29698,     0.29379,\n",
       "            0.28925,     0.28479,     0.27952,     0.27553,     0.27234,     0.26802,     0.26042,      0.2554,     0.25094,     0.24647,      0.2406,     0.23562,     0.23159,       0.226,     0.22173,     0.21871,     0.21354,     0.20871,     0.20337,       0.199,     0.19401,      0.1878,     0.18156,\n",
       "            0.17716,     0.17322,     0.16976,     0.16564,     0.16239,     0.15757,     0.15279,     0.14936,     0.14455,      0.1391,     0.13345,     0.12972,     0.12568,     0.12116,     0.11747,     0.11278,     0.10717,     0.10359,     0.10058,    0.096579,    0.092843,    0.089104,    0.086667,\n",
       "           0.083146,    0.078103,    0.073483,    0.070605,    0.067382,    0.064606,    0.061801,    0.059185,    0.055881,    0.053045,    0.050166,    0.045948,    0.042034,    0.039189,    0.035639,     0.03305,    0.031708,    0.029094,    0.026222,    0.024099,    0.020981,    0.017387,    0.014573,\n",
       "           0.012871,    0.012426,    0.010264,   0.0084334,   0.0069646,   0.0065258,    0.005874,   0.0046163,   0.0037534,   0.0030835,   0.0027895,   0.0025266,   0.0019287,    0.001635,    0.001453,   0.0013489,  0.00093167,  0.00066516,  0.00043445,  0.00032797,  0.00028111,  0.00023424,  0.00018738,\n",
       "                  0,           0,           0,           0,           0,           0,           0,           0,           0,           0,           0,           0,           0,           0,           0,           0,           0,           0,           0,           0,           0,           0,           0,\n",
       "                  0,           0,           0,           0,           0,           0,           0,           0,           0,           0,           0,           0,           0,           0,           0,           0,           0,           0,           0,           0,           0,           0,           0,\n",
       "                  0,           0,           0,           0,           0,           0,           0,           0,           0,           0,           0]]), 'Confidence', 'Recall']]\n",
       "fitness: 0.7127941653759959\n",
       "keys: ['metrics/precision(B)', 'metrics/recall(B)', 'metrics/mAP50(B)', 'metrics/mAP50-95(B)']\n",
       "maps: array([    0.69382])\n",
       "names: {0: 'beer'}\n",
       "plot: True\n",
       "results_dict: {'metrics/precision(B)': 0.8194400749686747, 'metrics/recall(B)': 0.886783042394015, 'metrics/mAP50(B)': 0.8836002862359831, 'metrics/mAP50-95(B)': 0.693815707502664, 'fitness': 0.7127941653759959}\n",
       "save_dir: WindowsPath('runs/detect/train33')\n",
       "speed: {'preprocess': 0.5689666587083291, 'inference': 27.81839333086585, 'loss': 0.0004883351114888985, 'postprocess': 1.1523283300145217}\n",
       "task: 'detect'"
      ]
     },
     "execution_count": 15,
     "metadata": {},
     "output_type": "execute_result"
    }
   ],
   "source": [
    "model.val(data=\"dataset.yaml\", split=\"test\", name=\"validation\")"
   ]
  }
 ],
 "metadata": {
  "kernelspec": {
   "display_name": "Python 3",
   "language": "python",
   "name": "python3"
  },
  "language_info": {
   "codemirror_mode": {
    "name": "ipython",
    "version": 3
   },
   "file_extension": ".py",
   "mimetype": "text/x-python",
   "name": "python",
   "nbconvert_exporter": "python",
   "pygments_lexer": "ipython3",
   "version": "3.11.9"
  }
 },
 "nbformat": 4,
 "nbformat_minor": 5
}
